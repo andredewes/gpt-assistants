{
 "cells": [
  {
   "cell_type": "markdown",
   "metadata": {},
   "source": [
    "# Assistant-02<br/>Assistant Framework\n",
    "\n",
    "This notebook showcases a foundational framework to work with Assistants.\n",
    "\n",
    "### Get an OpenAI client and an Assistant\n",
    "\n",
    "**Note:** When configuring the OpenAI client, the API version, the model version, and endpoint are \"new\"."
   ]
  },
  {
   "cell_type": "code",
   "execution_count": 1,
   "metadata": {},
   "outputs": [],
   "source": [
    "import oaihelper as framework\n",
    "\n",
    "## Get an OpenAI client\n",
    "client = framework.get_openai_client(api_key=framework.api_KEY,\n",
    "        api_version=framework.api_version,\n",
    "        azure_endpoint=framework.api_URI,)"
   ]
  },
  {
   "cell_type": "markdown",
   "metadata": {},
   "source": [
    "### Create an assistant with the code interpreter tool"
   ]
  },
  {
   "cell_type": "code",
   "execution_count": 2,
   "metadata": {},
   "outputs": [
    {
     "name": "stdout",
     "output_type": "stream",
     "text": [
      "Added assistant:  asst_4d6rpY6Raa4cl09UchMgZsiY 1\n"
     ]
    }
   ],
   "source": [
    "## Clear the shelves\n",
    "framework.clear_shelves()\n",
    "\n",
    "## Create an assistant\n",
    "math_tutor_assistant = framework.create_assistant(client,\n",
    "                                                  name=\"fta-Math Tutor\",\n",
    "                                                  instructions=\"You are a personal math tutor. Write and run code to answer math questions.\", \n",
    "                                                  tools=[{\"type\": \"code_interpreter\"}], \n",
    "                                                  model=framework.gpt_deployment_name)"
   ]
  },
  {
   "cell_type": "markdown",
   "metadata": {},
   "source": [
    "### Call messages for different users, create a new thread if one does not exists, and reuse a thread if one exists.\n",
    "\n",
    "Here threads can be recalled based on a user_id. The system will create a new thread if it does not exist or reuse and existing one."
   ]
  },
  {
   "cell_type": "code",
   "execution_count": 3,
   "metadata": {},
   "outputs": [
    {
     "name": "stdout",
     "output_type": "stream",
     "text": [
      "Creating new thread for John with user_id 123\n",
      "Added thread:  thread_ZR42YufKJ0KKVAe2n0LbORBt 1\n",
      "Generated message: 2 + 2 equals 4.\n",
      "To John: 2 + 2 equals 4.\n",
      "Creating new thread for Sarah with user_id 456\n",
      "Added thread:  thread_P5p6slXHIR1rkam0ioGzrBrS 2\n",
      "Generated message: The expression \\( x \\times x \\) simplifies to \\( x^2 \\), which represents the square of \\( x \\).\n",
      "To Sarah: The expression \\( x \\times x \\) simplifies to \\( x^2 \\), which represents the square of \\( x \\).\n",
      "Retrieving existing thread for John with user_id 123\n",
      "Generated message: The value of \\(x\\) when \\(y = 2\\) and \\(m = -10\\) is \\(x = -15\\).\n",
      "To John: The value of \\(x\\) when \\(y = 2\\) and \\(m = -10\\) is \\(x = -15\\).\n",
      "Retrieving existing thread for Sarah with user_id 456\n",
      "Generated message: The value of \\( y \\) when \\( x = 2 \\) and \\( y = x \\times x \\) is \\( 4 \\).\n",
      "To Sarah: The value of \\( y \\) when \\( x = 2 \\) and \\( y = x \\times x \\) is \\( 4 \\).\n"
     ]
    }
   ],
   "source": [
    "new_message = framework.generate_response(client,math_tutor_assistant,\"What's 2+2\", \"123\", \"John\")\n",
    "\n",
    "new_message = framework.generate_response(client,math_tutor_assistant,\"What's x*x?\", \"456\", \"Sarah\")\n",
    "\n",
    "new_message = framework.generate_response(client,math_tutor_assistant,\"What the value of x, for x=m*y+5, if y=2 and m=-10?\", \"123\", \"John\")\n",
    "\n",
    "new_message = framework.generate_response(client,math_tutor_assistant,\"What is the value of y, for y=x*x?, if x=2?\", \"456\", \"Sarah\")"
   ]
  },
  {
   "cell_type": "markdown",
   "metadata": {},
   "source": [
    "### Create another assistant without tools"
   ]
  },
  {
   "cell_type": "code",
   "execution_count": 4,
   "metadata": {},
   "outputs": [
    {
     "name": "stdout",
     "output_type": "stream",
     "text": [
      "Added assistant:  asst_k5N3HNsbB7cSpAEsKAGuFVLh 2\n"
     ]
    }
   ],
   "source": [
    "golang_tutor = framework.create_assistant(client,name=\"Golang\",instructions=\"You are an assistant that can help write and explain Go code.\", model=framework.gpt_deployment_name)"
   ]
  },
  {
   "cell_type": "markdown",
   "metadata": {},
   "source": [
    "### Get the messages for a new user"
   ]
  },
  {
   "cell_type": "code",
   "execution_count": 5,
   "metadata": {},
   "outputs": [
    {
     "name": "stdout",
     "output_type": "stream",
     "text": [
      "Creating new thread for Victor with user_id 789\n"
     ]
    },
    {
     "name": "stdout",
     "output_type": "stream",
     "text": [
      "Added thread:  thread_5hVlSXbnbEb2DkoBUomDY5TB 3\n",
      "Generated message: Here's a simple Go application that calculates the 1001st prime number using the Sieve of Eratosthenes, a classic algorithm for finding all prime numbers up to any given limit. Keep in mind that since we don't know in advance where the 1001st prime will be, we have to either estimate an upper limit or dynamically grow our search.\n",
      "\n",
      "For simplicity, let's use a dynamic approach where we start with a reasonable range and keep increasing it until we find the 1001st prime number.\n",
      "\n",
      "```go\n",
      "package main\n",
      "\n",
      "import (\n",
      "\t\"fmt\"\n",
      "\t\"math\"\n",
      ")\n",
      "\n",
      "func isPrime(number int) bool {\n",
      "\tif number <= 1 {\n",
      "\t\treturn false\n",
      "\t}\n",
      "\tif number == 2 {\n",
      "\t\treturn true\n",
      "\t}\n",
      "\tif number%2 == 0 {\n",
      "\t\treturn false\n",
      "\t}\n",
      "\tsqrtNum := int(math.Sqrt(float64(number)))\n",
      "\tfor i := 3; i <= sqrtNum; i += 2 {\n",
      "\t\tif number%i == 0 {\n",
      "\t\t\treturn false\n",
      "\t\t}\n",
      "\t}\n",
      "\treturn true\n",
      "}\n",
      "\n",
      "func findNthPrime(n int) int {\n",
      "\tcount := 0\n",
      "\tnumber := 1\n",
      "\tfor count < n {\n",
      "\t\tnumber += 1\n",
      "\t\tif isPrime(number) {\n",
      "\t\t\tcount++\n",
      "\t\t}\n",
      "\t}\n",
      "\treturn number\n",
      "}\n",
      "\n",
      "func main() {\n",
      "\tconst targetPrimeIndex = 1001\n",
      "\tnthPrime := findNthPrime(targetPrimeIndex)\n",
      "\tfmt.Printf(\"The %d-th prime number is: %d\\n\", targetPrimeIndex, nthPrime)\n",
      "}\n",
      "```\n",
      "\n",
      "To run this application, just paste the code into a file (for example, `find_prime.go`), and then execute it using the Go toolchain:\n",
      "\n",
      "```sh\n",
      "go run find_prime.go\n",
      "```\n",
      "\n",
      "This program defines a simple `isPrime` function that checks the primality of a given number, and then it finds the 1001st prime number by incrementing the variable `number` until it has found the desired number of primes.\n",
      "To Victor: Here's a simple Go application that calculates the 1001st prime number using the Sieve of Eratosthenes, a classic algorithm for finding all prime numbers up to any given limit. Keep in mind that since we don't know in advance where the 1001st prime will be, we have to either estimate an upper limit or dynamically grow our search.\n",
      "\n",
      "For simplicity, let's use a dynamic approach where we start with a reasonable range and keep increasing it until we find the 1001st prime number.\n",
      "\n",
      "```go\n",
      "package main\n",
      "\n",
      "import (\n",
      "\t\"fmt\"\n",
      "\t\"math\"\n",
      ")\n",
      "\n",
      "func isPrime(number int) bool {\n",
      "\tif number <= 1 {\n",
      "\t\treturn false\n",
      "\t}\n",
      "\tif number == 2 {\n",
      "\t\treturn true\n",
      "\t}\n",
      "\tif number%2 == 0 {\n",
      "\t\treturn false\n",
      "\t}\n",
      "\tsqrtNum := int(math.Sqrt(float64(number)))\n",
      "\tfor i := 3; i <= sqrtNum; i += 2 {\n",
      "\t\tif number%i == 0 {\n",
      "\t\t\treturn false\n",
      "\t\t}\n",
      "\t}\n",
      "\treturn true\n",
      "}\n",
      "\n",
      "func findNthPrime(n int) int {\n",
      "\tcount := 0\n",
      "\tnumber := 1\n",
      "\tfor count < n {\n",
      "\t\tnumber += 1\n",
      "\t\tif isPrime(number) {\n",
      "\t\t\tcount++\n",
      "\t\t}\n",
      "\t}\n",
      "\treturn number\n",
      "}\n",
      "\n",
      "func main() {\n",
      "\tconst targetPrimeIndex = 1001\n",
      "\tnthPrime := findNthPrime(targetPrimeIndex)\n",
      "\tfmt.Printf(\"The %d-th prime number is: %d\\n\", targetPrimeIndex, nthPrime)\n",
      "}\n",
      "```\n",
      "\n",
      "To run this application, just paste the code into a file (for example, `find_prime.go`), and then execute it using the Go toolchain:\n",
      "\n",
      "```sh\n",
      "go run find_prime.go\n",
      "```\n",
      "\n",
      "This program defines a simple `isPrime` function that checks the primality of a given number, and then it finds the 1001st prime number by incrementing the variable `number` until it has found the desired number of primes.\n"
     ]
    }
   ],
   "source": [
    "new_message = framework.generate_response(client,golang_tutor,\"Write a Go application to find the 1001st prime number.\", \"789\", \"Victor\")"
   ]
  },
  {
   "cell_type": "markdown",
   "metadata": {},
   "source": [
    "### Cleanup\n",
    "\n",
    "The framework keeps a list of instantiated assistants, clients, and files"
   ]
  },
  {
   "cell_type": "code",
   "execution_count": 6,
   "metadata": {},
   "outputs": [
    {
     "name": "stdout",
     "output_type": "stream",
     "text": [
      "Deleting:  2  assistants.\n",
      "AssistantDeleted(id='asst_4d6rpY6Raa4cl09UchMgZsiY', deleted=True, object='assistant.deleted')\n",
      "AssistantDeleted(id='asst_k5N3HNsbB7cSpAEsKAGuFVLh', deleted=True, object='assistant.deleted')\n",
      "Deleting:  3  threads.\n",
      "ThreadDeleted(id='thread_ZR42YufKJ0KKVAe2n0LbORBt', deleted=True, object='thread.deleted')\n",
      "ThreadDeleted(id='thread_P5p6slXHIR1rkam0ioGzrBrS', deleted=True, object='thread.deleted')\n",
      "ThreadDeleted(id='thread_5hVlSXbnbEb2DkoBUomDY5TB', deleted=True, object='thread.deleted')\n"
     ]
    }
   ],
   "source": [
    "#assert framework.ai_assistants == 2\n",
    "#assert framework.ai_threads==3\n",
    "\n",
    "framework.cleanup(client)"
   ]
  }
 ],
 "metadata": {
  "kernelspec": {
   "display_name": "v31012",
   "language": "python",
   "name": "python3"
  },
  "language_info": {
   "codemirror_mode": {
    "name": "ipython",
    "version": 3
   },
   "file_extension": ".py",
   "mimetype": "text/x-python",
   "name": "python",
   "nbconvert_exporter": "python",
   "pygments_lexer": "ipython3",
   "version": "3.10.12"
  }
 },
 "nbformat": 4,
 "nbformat_minor": 2
}
