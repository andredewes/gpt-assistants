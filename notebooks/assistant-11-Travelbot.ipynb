{
 "cells": [
  {
   "cell_type": "markdown",
   "metadata": {},
   "source": [
    "# Assistant-11<br/>Travel Assistant\n",
    "\n",
    "### Get an OpenAI client\n",
    "\n",
    "**Note:** When configuring the OpenAI client, the API version, the model version, and endpoint are \"new\"."
   ]
  },
  {
   "cell_type": "code",
   "execution_count": 1,
   "metadata": {},
   "outputs": [],
   "source": [
    "import oaihelper as helper\n",
    "\n",
    "## Get an OpenAI client\n",
    "client = helper.get_openai_client(api_key=helper.api_KEY,\n",
    "        api_version=helper.api_version,\n",
    "        azure_endpoint=helper.api_URI,)"
   ]
  },
  {
   "cell_type": "markdown",
   "metadata": {},
   "source": [
    "### Load the files"
   ]
  },
  {
   "cell_type": "code",
   "execution_count": 2,
   "metadata": {},
   "outputs": [
    {
     "name": "stdout",
     "output_type": "stream",
     "text": [
      "Added file:  assistant-gVXZDFW7a9cqTMZN4M6PGIMB 1\n",
      "Added file:  assistant-tZo4u2vH1dt6XwaTaJ75q0ep 2\n"
     ]
    }
   ],
   "source": [
    "## Files\n",
    "file_itinerary = helper.upload_file(client,\"../data/travel/flight_itinerary.txt\")\n",
    "file_bills = helper.upload_file(client,\"../data/travel/airbnb_bills.csv\")\n",
    "#file_trains = helper.upload_file(client,\"../data/train_ids.csv\")\n",
    "#file_stations = helper.upload_file(client,\"../data/stations.csv\")"
   ]
  },
  {
   "cell_type": "code",
   "execution_count": 3,
   "metadata": {},
   "outputs": [],
   "source": [
    "def mock_bloc_calendar(subject,start,end):\n",
    "    print(f\"Subject: {subject} \\nStart: {start} \\nEnd: {end}\")"
   ]
  },
  {
   "cell_type": "markdown",
   "metadata": {},
   "source": [
    "### Define the tools to use in the Assistants"
   ]
  },
  {
   "cell_type": "code",
   "execution_count": 4,
   "metadata": {},
   "outputs": [],
   "source": [
    "tools_list = [\n",
    "    {\"type\":\"retrieval\"},    \n",
    "    {\"type\":\"code_interpreter\"},\n",
    "    {\n",
    "        \"type\": \"function\",\n",
    "        \"function\": {\n",
    "            \"name\": \"block_calendar\",\n",
    "            \"description\": \"Sends a calendar event.\",\n",
    "            \"parameters\": {\n",
    "                \"type\": \"object\",\n",
    "                \"properties\": {\n",
    "                    \"eventSubject\": {\n",
    "                        \"type\": \"string\",\n",
    "                        \"description\": \"Event description.\"\n",
    "                    },\n",
    "                    \"startTime\": {\n",
    "                        \"type\": \"string\",\n",
    "                        \"description\": \"Event start time and date.\"\n",
    "                    }\n",
    "                    ,\n",
    "                    \"endTime\": {\n",
    "                        \"type\": \"string\",\n",
    "                        \"description\": \"Event end time and date.\"\n",
    "                    }\n",
    "                },\n",
    "                \"required\": [\"eventSubject\", \"startTime\",\"endTime\"]\n",
    "            }\n",
    "        }\n",
    "    }\n",
    "]"
   ]
  },
  {
   "cell_type": "markdown",
   "metadata": {},
   "source": [
    "### Define the Assistant"
   ]
  },
  {
   "cell_type": "code",
   "execution_count": 5,
   "metadata": {},
   "outputs": [
    {
     "name": "stdout",
     "output_type": "stream",
     "text": [
      "Added assistant:  asst_qLpRyEt4DGtVsFW8TY8y6ift 1\n"
     ]
    }
   ],
   "source": [
    "helper.clear_shelves()\n",
    "\n",
    "travel_bot_assistant = helper.create_assistant(client,\n",
    "        name=\"Travel Assistant\",\n",
    "        instructions=\"You are a helpful, friendly, and professional assistant that can help with travel plans, calculate expenses, and answer questions based on the provided knowledge.\",        \n",
    "        tools=tools_list,\n",
    "        model=helper.gpt_deployment_name,\n",
    "        file_ids=[file_itinerary.id,file_bills.id],)"
   ]
  },
  {
   "cell_type": "markdown",
   "metadata": {},
   "source": [
    "### Define the delegate to handle function calling"
   ]
  },
  {
   "cell_type": "code",
   "execution_count": 6,
   "metadata": {},
   "outputs": [],
   "source": [
    "def function_calling_delegate(client, thread, run):\n",
    "    print(\"Function Calling\")\n",
    "    required_actions = run.required_action.submit_tool_outputs.model_dump()\n",
    "    print(required_actions)\n",
    "    tool_outputs = []\n",
    "    import json\n",
    "    for action in required_actions[\"tool_calls\"]:\n",
    "        func_name = action['function']['name']\n",
    "        arguments = json.loads(action['function']['arguments'])\n",
    "        \n",
    "        if func_name == \"block_calendar\":\n",
    "            print(\"blocking calendar...\")\n",
    "            subject = arguments['eventSubject']\n",
    "            start = arguments['startTime']\n",
    "            end = arguments['endTime']\n",
    "            mock_bloc_calendar(subject,start,end)            \n",
    "            tool_outputs.append({\n",
    "                \"tool_call_id\": action['id'],\n",
    "                \"output\": \"Calendar blocked\"\n",
    "            })\n",
    "        else:\n",
    "            raise ValueError(f\"Unknown function: {func_name}\")\n",
    "        \n",
    "    print(\"Submitting outputs back to the Assistant...\")\n",
    "    client.beta.threads.runs.submit_tool_outputs(\n",
    "        thread_id=thread.id,\n",
    "        run_id=run.id,\n",
    "        tool_outputs=tool_outputs\n",
    "    )"
   ]
  },
  {
   "cell_type": "markdown",
   "metadata": {},
   "source": [
    "### Process user messages"
   ]
  },
  {
   "cell_type": "code",
   "execution_count": 7,
   "metadata": {},
   "outputs": [
    {
     "name": "stdout",
     "output_type": "stream",
     "text": [
      "Creating new thread for Alex with user_id 123\n",
      "Added thread:  thread_k24BmB5QT3AZPZU2Sth1K99h 1\n",
      "Generated message: Based on your travel itinerary, you will be departing from Miami International Airport (MIA) to Frankfurt Airport (FRA) on September 28, 2024, and returning on October 12, 2024. That gives you about two weeks in and around Frankfurt, Germany. \n",
      "\n",
      "Being interested in walking around the city and day trips, here's a suggested day-by-day itinerary for your stay:\n",
      "\n",
      "### September 29, 2024 - Arrival in Frankfurt\n",
      "- **Morning:** Rest after your flight and get settled in your accommodation.\n",
      "- **Afternoon:** Explore the area around your hotel and familiarize yourself with the city. Perhaps a light walk through the city center.\n",
      "- **Evening:** Have a relaxing dinner nearby and rest up for the next day.\n",
      "\n",
      "### September 30, 2024 - Frankfurt City Tour\n",
      "- **Morning:** Visit the iconic Römerberg, Frankfurt's old central square.\n",
      "- **Afternoon:** Explore Frankfurt Cathedral and enjoy the panoramic view from its tower.\n",
      "- **Evening:** Stroll along the Main River and experience the Museumsufer, where many of Frankfurt's museums are located.\n",
      "\n",
      "### October 1, 2024 - Day Trip to Heidelberg\n",
      "- **Morning to Evening:** Take a train to Heidelberg and spend the day exploring this picturesque university town with its famous castle and old bridge.\n",
      "\n",
      "### October 2, 2024 - Frankfurt Museums and Parks\n",
      "- **Morning:** Visit the Städel Museum, renowned for its art collection.\n",
      "- **Afternoon:** Walk in the Palmengarten, the botanical garden with extensive greenhouses.\n",
      "- **Evening:** Try some local German cuisine at one of Frankfurt's traditional Apfelwein taverns.\n",
      "\n",
      "### October 3-11, 2024 - Exploring and Day Trips\n",
      "Since you have several days, here are some potential day trips and activities you might enjoy:\n",
      "\n",
      "- **Rhine Valley Tour:** Take a boat cruise through the scenic Rhine Valley, a UNESCO World Heritage site.\n",
      "- **Mainz and Wiesbaden:** Visit the cities of Mainz, famous for the Gutenberg Museum, and Wiesbaden, known for its thermal springs.\n",
      "- **Black Forest:** Consider a longer day trip or an overnight visit to the Black Forest region.\n",
      "- **Local Walks:** Discover more of Frankfurt's neighborhoods on foot, including the trendy Sachsenhausen and Nordend districts.\n",
      "- **Taunus Mountains:** If you're up for some hiking, take a day to explore the nearby Taunus Mountains.\n",
      "\n",
      "### October 11, 2024 - Last Day in Frankfurt\n",
      "- **Morning:** Do any last-minute shopping or sightseeing.\n",
      "- **Afternoon:** Pack and prepare for your flight.\n",
      "- **Evening:** A final stroll and meal in Frankfurt.\n",
      "\n",
      "### October 12, 2024 - Departure\n",
      "- Depart from Frankfurt to Miami in the evening.\n",
      "\n",
      "This is a rough itinerary to provide a mixture of local flavor and nearby attractions. Be sure to adjust the plan according to your interests and pace, and keep an eye on opening hours and travel advisories. Enjoy your trip!\n",
      "To Alex: Based on your travel itinerary, you will be departing from Miami International Airport (MIA) to Frankfurt Airport (FRA) on September 28, 2024, and returning on October 12, 2024. That gives you about two weeks in and around Frankfurt, Germany. \n",
      "\n",
      "Being interested in walking around the city and day trips, here's a suggested day-by-day itinerary for your stay:\n",
      "\n",
      "### September 29, 2024 - Arrival in Frankfurt\n",
      "- **Morning:** Rest after your flight and get settled in your accommodation.\n",
      "- **Afternoon:** Explore the area around your hotel and familiarize yourself with the city. Perhaps a light walk through the city center.\n",
      "- **Evening:** Have a relaxing dinner nearby and rest up for the next day.\n",
      "\n",
      "### September 30, 2024 - Frankfurt City Tour\n",
      "- **Morning:** Visit the iconic Römerberg, Frankfurt's old central square.\n",
      "- **Afternoon:** Explore Frankfurt Cathedral and enjoy the panoramic view from its tower.\n",
      "- **Evening:** Stroll along the Main River and experience the Museumsufer, where many of Frankfurt's museums are located.\n",
      "\n",
      "### October 1, 2024 - Day Trip to Heidelberg\n",
      "- **Morning to Evening:** Take a train to Heidelberg and spend the day exploring this picturesque university town with its famous castle and old bridge.\n",
      "\n",
      "### October 2, 2024 - Frankfurt Museums and Parks\n",
      "- **Morning:** Visit the Städel Museum, renowned for its art collection.\n",
      "- **Afternoon:** Walk in the Palmengarten, the botanical garden with extensive greenhouses.\n",
      "- **Evening:** Try some local German cuisine at one of Frankfurt's traditional Apfelwein taverns.\n",
      "\n",
      "### October 3-11, 2024 - Exploring and Day Trips\n",
      "Since you have several days, here are some potential day trips and activities you might enjoy:\n",
      "\n",
      "- **Rhine Valley Tour:** Take a boat cruise through the scenic Rhine Valley, a UNESCO World Heritage site.\n",
      "- **Mainz and Wiesbaden:** Visit the cities of Mainz, famous for the Gutenberg Museum, and Wiesbaden, known for its thermal springs.\n",
      "- **Black Forest:** Consider a longer day trip or an overnight visit to the Black Forest region.\n",
      "- **Local Walks:** Discover more of Frankfurt's neighborhoods on foot, including the trendy Sachsenhausen and Nordend districts.\n",
      "- **Taunus Mountains:** If you're up for some hiking, take a day to explore the nearby Taunus Mountains.\n",
      "\n",
      "### October 11, 2024 - Last Day in Frankfurt\n",
      "- **Morning:** Do any last-minute shopping or sightseeing.\n",
      "- **Afternoon:** Pack and prepare for your flight.\n",
      "- **Evening:** A final stroll and meal in Frankfurt.\n",
      "\n",
      "### October 12, 2024 - Departure\n",
      "- Depart from Frankfurt to Miami in the evening.\n",
      "\n",
      "This is a rough itinerary to provide a mixture of local flavor and nearby attractions. Be sure to adjust the plan according to your interests and pace, and keep an eye on opening hours and travel advisories. Enjoy your trip!\n",
      "Retrieving existing thread for Alex with user_id 123\n",
      "Generated message: Your share of the expenses, including lodging and your flight, is $5,250.00【16†source】.\n",
      "To Alex: Your share of the expenses, including lodging and your flight, is $5,250.00【16†source】.\n",
      "Retrieving existing thread for Alex with user_id 123\n",
      "Function Calling\n",
      "{'tool_calls': [{'id': 'call_qYStAo2JmVieKca55hBLQuBq', 'function': {'arguments': '{\\n  \"eventSubject\": \"Blocked for Personal Time\",\\n  \"startTime\": \"2024-01-16T00:00:00-05:00\",\\n  \"endTime\": \"2024-01-23T00:00:00-05:00\"\\n}', 'name': 'block_calendar'}, 'type': 'function'}]}\n",
      "blocking calendar...\n",
      "Subject: Blocked for Personal Time \n",
      "Start: 2024-01-16T00:00:00-05:00 \n",
      "End: 2024-01-23T00:00:00-05:00\n",
      "Submitting outputs back to the Assistant...\n",
      "Generated message: Your calendar has been blocked for a week starting today, from January 16, 2024, to January 23, 2024.\n",
      "To Alex: Your calendar has been blocked for a week starting today, from January 16, 2024, to January 23, 2024.\n"
     ]
    },
    {
     "data": {
      "text/plain": [
       "'Your calendar has been blocked for a week starting today, from January 16, 2024, to January 23, 2024.'"
      ]
     },
     "execution_count": 7,
     "metadata": {},
     "output_type": "execute_result"
    }
   ],
   "source": [
    "helper.generate_response(client,travel_bot_assistant,\"Suggest a day-by-day itinerary for the dates of my travel? I like walk around the city I'm visiting and go on day trips?\", \"123\", \"Alex\",function_calling_delegate)\n",
    "helper.generate_response(client,travel_bot_assistant,\"Will be 4 friends staying at this Airbnb in Berlin. What's my share of costs+my flight?\", \"123\", \"Alex\",function_calling_delegate)\n",
    "helper.generate_response(client,travel_bot_assistant,\"Block my calendar for a week starting today.\", \"123\", \"Alex\",function_calling_delegate)\n"
   ]
  },
  {
   "cell_type": "markdown",
   "metadata": {},
   "source": [
    "### Delete all demo objects"
   ]
  },
  {
   "cell_type": "code",
   "execution_count": 8,
   "metadata": {},
   "outputs": [
    {
     "name": "stdout",
     "output_type": "stream",
     "text": [
      "Deleting:  1  assistants.\n",
      "AssistantDeleted(id='asst_qLpRyEt4DGtVsFW8TY8y6ift', deleted=True, object='assistant.deleted')\n",
      "Deleting:  1  threads.\n",
      "ThreadDeleted(id='thread_k24BmB5QT3AZPZU2Sth1K99h', deleted=True, object='thread.deleted')\n",
      "Deleting:  2  files.\n",
      "FileDeleted(id='assistant-gVXZDFW7a9cqTMZN4M6PGIMB', deleted=True, object='file')\n",
      "FileDeleted(id='assistant-tZo4u2vH1dt6XwaTaJ75q0ep', deleted=True, object='file')\n"
     ]
    }
   ],
   "source": [
    "helper.cleanup(client)"
   ]
  }
 ],
 "metadata": {
  "kernelspec": {
   "display_name": "v31012",
   "language": "python",
   "name": "python3"
  },
  "language_info": {
   "codemirror_mode": {
    "name": "ipython",
    "version": 3
   },
   "file_extension": ".py",
   "mimetype": "text/x-python",
   "name": "python",
   "nbconvert_exporter": "python",
   "pygments_lexer": "ipython3",
   "version": "3.10.12"
  }
 },
 "nbformat": 4,
 "nbformat_minor": 2
}
