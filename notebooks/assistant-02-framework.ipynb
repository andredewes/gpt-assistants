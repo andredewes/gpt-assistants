{
 "cells": [
  {
   "cell_type": "markdown",
   "metadata": {},
   "source": [
    "# Assistant-02<br/>Assistant Framework\n",
    "\n",
    "This notebook showcases a foundational framework to work with Assistants.\n",
    "\n",
    "### Get an OpenAI client and an Assistant\n",
    "\n",
    "**Note:** When configuring the OpenAI client, the API version, the model version, and endpoint are \"new\"."
   ]
  },
  {
   "cell_type": "code",
   "execution_count": 1,
   "metadata": {},
   "outputs": [],
   "source": [
    "import common\n",
    "import oaihelper as framework\n",
    "\n",
    "## Get an OpenAI client\n",
    "client = framework.get_openai_client()\n",
    "\n",
    "## Create an assistant\n",
    "assistant = framework.create_assistant(client,\"Math Tutor\",\"You are a personal math tutor. Write and run code to answer math questions.\", [{\"type\": \"code_interpreter\"}], common.gpt_deployment_name)"
   ]
  },
  {
   "cell_type": "markdown",
   "metadata": {},
   "source": [
    "## Run user messages against the assistant"
   ]
  },
  {
   "cell_type": "code",
   "execution_count": 2,
   "metadata": {},
   "outputs": [
    {
     "name": "stdout",
     "output_type": "stream",
     "text": [
      "Retrieving existing thread for John with wa_id 123\n",
      "Generated message: 2 + 2 equals 4.\n",
      "To John: 2 + 2 equals 4.\n",
      "Retrieving existing thread for Sarah with wa_id 456\n",
      "Generated message: The expression \\( x \\times x \\) is equivalent to \\( x^2 \\), which is the square of the variable \\( x \\).\n",
      "To Sarah: The expression \\( x \\times x \\) is equivalent to \\( x^2 \\), which is the square of the variable \\( x \\).\n",
      "Retrieving existing thread for John with wa_id 123\n",
      "Generated message: Given \\( y = 2 \\) and \\( m = -10 \\), we can substitute these values into the equation \\( x = m \\times y + 5 \\) to find the value of \\( x \\).\n",
      "\n",
      "Let's do the calculation:\n",
      "\n",
      "\\[ x = -10 \\times 2 + 5 \\]\n",
      "\\[ x = -20 + 5 \\]\n",
      "\\[ x = -15 \\]\n",
      "\n",
      "The value of \\( x \\) is \\( -15 \\).\n",
      "To John: Given \\( y = 2 \\) and \\( m = -10 \\), we can substitute these values into the equation \\( x = m \\times y + 5 \\) to find the value of \\( x \\).\n",
      "\n",
      "Let's do the calculation:\n",
      "\n",
      "\\[ x = -10 \\times 2 + 5 \\]\n",
      "\\[ x = -20 + 5 \\]\n",
      "\\[ x = -15 \\]\n",
      "\n",
      "The value of \\( x \\) is \\( -15 \\).\n",
      "Retrieving existing thread for Sarah with wa_id 456\n",
      "Generated message: If \\( x = 2 \\), then the value of \\( y \\), for \\( y = x \\times x \\), is calculated by substituting 2 for \\( x \\):\n",
      "\n",
      "\\( y = 2 \\times 2 = 4 \\)\n",
      "\n",
      "Therefore, the value of \\( y \\) is 4.\n",
      "To Sarah: If \\( x = 2 \\), then the value of \\( y \\), for \\( y = x \\times x \\), is calculated by substituting 2 for \\( x \\):\n",
      "\n",
      "\\( y = 2 \\times 2 = 4 \\)\n",
      "\n",
      "Therefore, the value of \\( y \\) is 4.\n"
     ]
    }
   ],
   "source": [
    "# --------------------------------------------------------------\n",
    "# Test assistant\n",
    "# --------------------------------------------------------------\n",
    "new_message = framework.generate_response(client,assistant,\"What's 2+2\", \"123\", \"John\")\n",
    "\n",
    "new_message = framework.generate_response(client,assistant,\"What's x*x?\", \"456\", \"Sarah\")\n",
    "\n",
    "new_message = framework.generate_response(client,assistant,\"What the value of x, for x=m*y+5, if y=2 and m=-10?\", \"123\", \"John\")\n",
    "\n",
    "new_message = framework.generate_response(client,assistant,\"What is the value of y, for y=x*x?, if x=2?\", \"456\", \"Sarah\")"
   ]
  }
 ],
 "metadata": {
  "kernelspec": {
   "display_name": "v31012",
   "language": "python",
   "name": "python3"
  },
  "language_info": {
   "codemirror_mode": {
    "name": "ipython",
    "version": 3
   },
   "file_extension": ".py",
   "mimetype": "text/x-python",
   "name": "python",
   "nbconvert_exporter": "python",
   "pygments_lexer": "ipython3",
   "version": "3.10.12"
  }
 },
 "nbformat": 4,
 "nbformat_minor": 2
}
