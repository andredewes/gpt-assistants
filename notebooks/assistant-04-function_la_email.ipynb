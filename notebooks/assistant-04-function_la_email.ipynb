{
 "cells": [
  {
   "cell_type": "markdown",
   "metadata": {},
   "source": [
    "# Assistant-04<br/>Function calling\n",
    "\n",
    "## Trading Assistant with email functionality\n",
    "\n",
    "## Credits\n",
    "\n",
    "- https://mer.vin/2023/11/openai-assistants-api-function-calling/\n",
    "\n",
    "## Email functionality\n",
    "\n",
    "- Implemented using Logic Apps with an Http POST trigger\n",
    "\n",
    "### Get an OpenAI client and an Assistant\n",
    "\n",
    "**Note:** When configuring the OpenAI client, the API version, the model version, and endpoint are \"new\"."
   ]
  },
  {
   "cell_type": "code",
   "execution_count": 8,
   "metadata": {},
   "outputs": [],
   "source": [
    "import common\n",
    "import time\n",
    "import requests\n",
    "import oaihelper as framework\n",
    "import yfinance as yf\n",
    "\n",
    "\n",
    "## Get an OpenAI client\n",
    "client = framework.get_openai_client()"
   ]
  },
  {
   "cell_type": "markdown",
   "metadata": {},
   "source": [
    "### Get the latest stock price by ticker symbol using Yahoo Finance"
   ]
  },
  {
   "cell_type": "code",
   "execution_count": 9,
   "metadata": {},
   "outputs": [],
   "source": [
    "def get_stock_price(symbol: str) -> float:\n",
    "    stock = yf.Ticker(symbol)\n",
    "    price = stock.history(period=\"1d\")['Close'].iloc[-1]    \n",
    "    return price\n"
   ]
  },
  {
   "cell_type": "markdown",
   "metadata": {},
   "source": [
    "### Use a Logic App HTTP POST trigger to email using Outlook"
   ]
  },
  {
   "cell_type": "code",
   "execution_count": 10,
   "metadata": {},
   "outputs": [],
   "source": [
    "def send_email(json_payload):\n",
    "    headers = {'Content-Type': 'application/json'}\n",
    "    response = requests.post(framework.email_URI, json=json_payload, headers=headers)\n",
    "    if response.status_code == 202:\n",
    "        print(\"Email sent to: \" + json_payload['to'])  "
   ]
  },
  {
   "cell_type": "markdown",
   "metadata": {},
   "source": [
    "### Prepare the tool for function calling"
   ]
  },
  {
   "cell_type": "code",
   "execution_count": 11,
   "metadata": {},
   "outputs": [],
   "source": [
    "tools_list = [{\n",
    "    \"type\": \"function\",\n",
    "    \"function\": {\n",
    "\n",
    "        \"name\": \"get_stock_price\",\n",
    "        \"description\": \"Retrieve the latest closing price of a stock using its ticker symbol\",\n",
    "        \"parameters\": {\n",
    "            \"type\": \"object\",\n",
    "            \"properties\": {\n",
    "                \"symbol\": {\n",
    "                    \"type\": \"string\",\n",
    "                    \"description\": \"The ticker symbol of the stock\"\n",
    "                }\n",
    "            },\n",
    "            \"required\": [\"symbol\"]\n",
    "        }\n",
    "    }\n",
    "},\n",
    "{\n",
    "    \"type\": \"function\",\n",
    "    \"function\": {\n",
    "\n",
    "        \"name\": \"send_email\",\n",
    "        \"description\": \"sends an email to a recipient(s).\",\n",
    "        \"parameters\": {\n",
    "            \"type\": \"object\",\n",
    "            \"properties\": {\n",
    "                \"to\": {\n",
    "                    \"type\": \"string\",\n",
    "                    \"description\": \"The email(s) the email should be sent to.\"\n",
    "                },\n",
    "                \"content\": {\n",
    "                    \"type\": \"string\",\n",
    "                    \"description\": \"The content of the email.\"\n",
    "                }\n",
    "            },\n",
    "            \"required\": [\"to\", \"content\"]\n",
    "        }\n",
    "    }\n",
    "}]"
   ]
  },
  {
   "cell_type": "markdown",
   "metadata": {},
   "source": [
    "### Create the assistant"
   ]
  },
  {
   "cell_type": "code",
   "execution_count": 12,
   "metadata": {},
   "outputs": [
    {
     "name": "stdout",
     "output_type": "stream",
     "text": [
      "Added assistant:  asst_fddg8Yp7lkGhCqkRQEgoOPDP 2\n"
     ]
    }
   ],
   "source": [
    "framework.clear_shelves()\n",
    "\n",
    "## Create an assistant\n",
    "stock_assistant = framework.create_assistant(client,\n",
    "                                                  name=\"fta-Securities Trading Assistant\",\n",
    "                                                  instructions=\"You are a personal securities trading assistant. Please be polite, professional, helpful, and friendly.\", \n",
    "                                                  tools=tools_list, \n",
    "                                                  model=common.gpt_deployment_name)"
   ]
  },
  {
   "cell_type": "markdown",
   "metadata": {},
   "source": [
    "### Create a thread, put a message on the thread, and view the initial status"
   ]
  },
  {
   "cell_type": "code",
   "execution_count": 13,
   "metadata": {},
   "outputs": [],
   "source": [
    "# Step 2: Create a Thread\n",
    "thread = client.beta.threads.create()\n",
    "\n",
    "article = \"\"\"Dow Jones futures will open Sunday evening, along with S&P 500 futures and Nasdaq futures.\n",
    "\n",
    "The stock market rally had a strong rebound this past week after the major indexes and many leading stocks retreated to start 2024 but soon found support at key levels. A large number of stocks flashed buy signals, including a powerful breakout from Nvidia (NVDA).\n",
    "\n",
    "It's been a good time to add exposure.\n",
    "\n",
    "Nvidia stock is now extended, but fellow AI leader Microsoft (MSFT) is just above a buy point after solid weekly gains, on the cusp of surpassing the market cap of fellow Dow giant Apple (AAPL). Novo Nordisk (NVO) remains in a buy zone.\n",
    "\n",
    "MercadoLibre (MELI) and Tradeweb Markets (TW) flashed entries intraday.\n",
    "\n",
    "On the downside, Tesla (TSLA) had an ugly week, extending a recent sell-off and breaking key support levels amid a flurry of headlines.\n",
    "\n",
    "Nvidia and NVO stock are on IBD Leaderboard. MELI stock, Nvidia and Microsoft are on SwingTrader. MSFT stock is on IBD Long-Term Leaders. Nvidia stock, MercadoLibre, Novo Nordisk and Microsoft are on the IBD 50. Microsoft, Nvidia and MercadoLibre stock are on the IBD Big Cap 20.\"\"\"\n",
    "\n",
    "# Step 3: Add a Message to a Thread\n",
    "message = client.beta.threads.messages.create(\n",
    "    thread_id=thread.id,\n",
    "    role=\"user\",\n",
    "    content=\"For the following article: \\n\\nArticle: \"\"\"\"\"\"\" + article + \"\\n\"\"\"\"\"\"\" +\n",
    "    \"\\n\\nEmail a summary of the article in simple HTML format, include today's date, include a list of the closing prices of the stocks mentioned in the article to: alemor@microsoft.com.\" +\n",
    "    \"Use only the provide text.\"\n",
    ")\n",
    "\n",
    "# Step 4: Run the Assistant\n",
    "run = client.beta.threads.runs.create(\n",
    "    thread_id=thread.id,\n",
    "    assistant_id=stock_assistant.id,\n",
    "    instructions=\"Today's date and time is: \" + framework.get_localized_datetime() + \".\\n\\n\"\n",
    ")\n",
    "\n",
    "#print(run.model_dump_json(indent=4))"
   ]
  },
  {
   "cell_type": "markdown",
   "metadata": {},
   "source": [
    "### Process the message, function calling leveraging the latest stock prices, print the results and dispose of the objects"
   ]
  },
  {
   "cell_type": "code",
   "execution_count": 14,
   "metadata": {},
   "outputs": [
    {
     "name": "stdout",
     "output_type": "stream",
     "text": [
      "Waiting for the Assistant to process...\n",
      "Waiting for the Assistant to process...\n",
      "Waiting for the Assistant to process...\n",
      "Function Calling\n",
      "{'tool_calls': [{'id': 'call_HypMXVlw2l0rpHBJzwDGcpWo', 'function': {'arguments': '{\"symbol\": \"NVDA\"}', 'name': 'get_stock_price'}, 'type': 'function'}, {'id': 'call_CWkkouXs7KIVaY2Cn1CK41U9', 'function': {'arguments': '{\"symbol\": \"MSFT\"}', 'name': 'get_stock_price'}, 'type': 'function'}, {'id': 'call_Ox82T06Af3OgwlPisslQdHOk', 'function': {'arguments': '{\"symbol\": \"AAPL\"}', 'name': 'get_stock_price'}, 'type': 'function'}, {'id': 'call_CKeows4L0OXDuOJLQqgq4YhM', 'function': {'arguments': '{\"symbol\": \"NVO\"}', 'name': 'get_stock_price'}, 'type': 'function'}, {'id': 'call_1vfe54CjW7e5ErbKMZTBykmP', 'function': {'arguments': '{\"symbol\": \"MELI\"}', 'name': 'get_stock_price'}, 'type': 'function'}, {'id': 'call_qK44xMZnbVmpplTt2zlgLDEN', 'function': {'arguments': '{\"symbol\": \"TW\"}', 'name': 'get_stock_price'}, 'type': 'function'}, {'id': 'call_sSbjQmmDIfBvBtYDSDUFj7Jd', 'function': {'arguments': '{\"symbol\": \"TSLA\"}', 'name': 'get_stock_price'}, 'type': 'function'}]}\n",
      "Submitting outputs back to the Assistant...\n",
      "Waiting for the Assistant to process...\n",
      "Waiting for the Assistant to process...\n",
      "Waiting for the Assistant to process...\n",
      "Waiting for the Assistant to process...\n",
      "Function Calling\n",
      "{'tool_calls': [{'id': 'call_VbWCIhnneuNhtpfEW1c5YP8G', 'function': {'arguments': '{\\n  \"to\": \"alemor@microsoft.com\",\\n  \"content\": \"<html>\\\\n<head>\\\\n<title>Market Update</title>\\\\n</head>\\\\n<body>\\\\n<h1>Stock Market Summary</h1>\\\\n<p>Date: January 13, 2024</p>\\\\n<p>The stock market experienced a strong rebound this week with many stocks showing buy signals, notably Nvidia. Microsoft is hovering just above a buy point, threatening Apple\\'s market cap position. Novo Nordisk remains in the buy zone, while MercadoLibre and Tradeweb Markets indicated intraday entries. Despite the upside, Tesla continued its sell-off, breaking support levels.</p>\\\\n<h2>Closing Prices</h2>\\\\n<ul>\\\\n<li>Nvidia (NVDA): $547.10</li>\\\\n<li>Microsoft (MSFT): $388.47</li>\\\\n<li>Apple (AAPL): $185.92</li>\\\\n<li>Novo Nordisk (NVO): $107.16</li>\\\\n<li>MercadoLibre (MELI): $1658.58</li>\\\\n<li>Tradeweb Markets (TW): $95.91</li>\\\\n<li>Tesla (TSLA): $218.89</li>\\\\n</ul>\\\\n</body>\\\\n</html>\"\\n}', 'name': 'send_email'}, 'type': 'function'}]}\n",
      "Sending email...\n",
      "Email sent to: alemor@microsoft.com\n",
      "Submitting outputs back to the Assistant...\n",
      "Waiting for the Assistant to process...\n",
      "Assistant: The email with the summary of the stock market article and today's closing prices for the mentioned stocks has been sent to alemor@microsoft.com.\n",
      "User: For the following article: \n",
      "\n",
      "Article: Dow Jones futures will open Sunday evening, along with S&P 500 futures and Nasdaq futures.\n",
      "\n",
      "The stock market rally had a strong rebound this past week after the major indexes and many leading stocks retreated to start 2024 but soon found support at key levels. A large number of stocks flashed buy signals, including a powerful breakout from Nvidia (NVDA).\n",
      "\n",
      "It's been a good time to add exposure.\n",
      "\n",
      "Nvidia stock is now extended, but fellow AI leader Microsoft (MSFT) is just above a buy point after solid weekly gains, on the cusp of surpassing the market cap of fellow Dow giant Apple (AAPL). Novo Nordisk (NVO) remains in a buy zone.\n",
      "\n",
      "MercadoLibre (MELI) and Tradeweb Markets (TW) flashed entries intraday.\n",
      "\n",
      "On the downside, Tesla (TSLA) had an ugly week, extending a recent sell-off and breaking key support levels amid a flurry of headlines.\n",
      "\n",
      "Nvidia and NVO stock are on IBD Leaderboard. MELI stock, Nvidia and Microsoft are on SwingTrader. MSFT stock is on IBD Long-Term Leaders. Nvidia stock, MercadoLibre, Novo Nordisk and Microsoft are on the IBD 50. Microsoft, Nvidia and MercadoLibre stock are on the IBD Big Cap 20.\n",
      "\n",
      "\n",
      "Email a summary of the article in simple HTML format, include today's date, include a list of the closing prices of the stocks mentioned in the article to: alemor@microsoft.com.Use only the provide text.\n",
      "ThreadDeleted(id='thread_6c24ogOlTVQI2Mkvwlwlu6tw', deleted=True, object='thread.deleted')\n",
      "AssistantDeleted(id='asst_fddg8Yp7lkGhCqkRQEgoOPDP', deleted=True, object='assistant.deleted')\n"
     ]
    }
   ],
   "source": [
    "while True:\n",
    "    # Wait for 1 seconds\n",
    "    time.sleep(1)\n",
    "\n",
    "    # Retrieve the run status\n",
    "    run_status = client.beta.threads.runs.retrieve(\n",
    "        thread_id=thread.id,\n",
    "        run_id=run.id\n",
    "    )\n",
    "    #print(run_status.model_dump_json(indent=4))\n",
    "\n",
    "    # If run is completed, get messages\n",
    "    if run_status.status == 'completed':\n",
    "        messages = client.beta.threads.messages.list(\n",
    "            thread_id=thread.id\n",
    "        )\n",
    "\n",
    "        # Loop through messages and print content based on role\n",
    "        for msg in messages.data:\n",
    "            role = msg.role\n",
    "            content = msg.content[0].text.value\n",
    "            print(f\"{role.capitalize()}: {content}\")\n",
    "\n",
    "        ## Cleanup\n",
    "        print(client.beta.threads.delete(thread.id))\n",
    "        print(client.beta.assistants.delete(stock_assistant.id))\n",
    "\n",
    "        break\n",
    "    elif run_status.status == 'requires_action':\n",
    "        print(\"Function Calling\")\n",
    "        required_actions = run_status.required_action.submit_tool_outputs.model_dump()\n",
    "        print(required_actions)\n",
    "        tool_outputs = []\n",
    "        import json\n",
    "        for action in required_actions[\"tool_calls\"]:\n",
    "            func_name = action['function']['name']\n",
    "            arguments = json.loads(action['function']['arguments'])\n",
    "            \n",
    "            if func_name == \"get_stock_price\":\n",
    "                output = get_stock_price(symbol=arguments['symbol'])\n",
    "                tool_outputs.append({\n",
    "                    \"tool_call_id\": action['id'],\n",
    "                    \"output\": output\n",
    "                })\n",
    "            elif func_name == \"send_email\":\n",
    "                print(\"Sending email...\")\n",
    "                email_to = arguments['to']\n",
    "                email_content = arguments['content']\n",
    "                send_email({'to': email_to,'content':email_content})\n",
    "                \n",
    "                tool_outputs.append({\n",
    "                    \"tool_call_id\": action['id'],\n",
    "                    \"output\": \"Email sent\"\n",
    "                })\n",
    "            else:\n",
    "                raise ValueError(f\"Unknown function: {func_name}\")\n",
    "            \n",
    "        print(\"Submitting outputs back to the Assistant...\")\n",
    "        client.beta.threads.runs.submit_tool_outputs(\n",
    "            thread_id=thread.id,\n",
    "            run_id=run.id,\n",
    "            tool_outputs=tool_outputs\n",
    "        )\n",
    "    else:\n",
    "        print(\"Waiting for the Assistant to process...\")\n",
    "        time.sleep(1)"
   ]
  }
 ],
 "metadata": {
  "kernelspec": {
   "display_name": "v31012",
   "language": "python",
   "name": "python3"
  },
  "language_info": {
   "codemirror_mode": {
    "name": "ipython",
    "version": 3
   },
   "file_extension": ".py",
   "mimetype": "text/x-python",
   "name": "python",
   "nbconvert_exporter": "python",
   "pygments_lexer": "ipython3",
   "version": "3.10.12"
  }
 },
 "nbformat": 4,
 "nbformat_minor": 2
}
