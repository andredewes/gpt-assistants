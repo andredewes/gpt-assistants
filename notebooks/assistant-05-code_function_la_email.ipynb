{
 "cells": [
  {
   "cell_type": "markdown",
   "metadata": {},
   "source": [
    "# Assistant-05<br/>Code Interpreter & Function calling\n",
    "\n",
    "## Trading Assistant that can calculate portfolio values and email a report\n",
    "\n",
    "## Notes\n",
    "\n",
    "- 01/14/2024: Uploading a CSV file failed\n",
    "\n",
    "## Credits\n",
    "\n",
    "- https://mer.vin/2023/11/openai-assistants-api-function-calling/\n",
    "\n",
    "## Email functionality\n",
    "\n",
    "- Implemented using Logic Apps with an Http POST trigger\n",
    "\n",
    "### Get an OpenAI client and an Assistant\n",
    "\n",
    "**Note:** When configuring the OpenAI client, the API version, the model version, and endpoint are \"new\"."
   ]
  },
  {
   "cell_type": "code",
   "execution_count": 1,
   "metadata": {},
   "outputs": [],
   "source": [
    "import time\n",
    "import requests\n",
    "import oaihelper as framework\n",
    "import yfinance as yf\n",
    "\n",
    "\n",
    "## Get an OpenAI client\n",
    "client = framework.get_openai_client(api_key=framework.api_KEY,\n",
    "        api_version=framework.api_version,\n",
    "        azure_endpoint=framework.api_URI,)"
   ]
  },
  {
   "cell_type": "markdown",
   "metadata": {},
   "source": [
    "### Get the latest stock price by ticker symbol using Yahoo Finance"
   ]
  },
  {
   "cell_type": "code",
   "execution_count": 2,
   "metadata": {},
   "outputs": [],
   "source": [
    "def get_stock_price(symbol: str) -> float:\n",
    "    try:\n",
    "        stock = yf.Ticker(symbol)\n",
    "        price = stock.history(period=\"1d\")['Close'].iloc[-1]    \n",
    "        return price\n",
    "    except:\n",
    "        return 0"
   ]
  },
  {
   "cell_type": "markdown",
   "metadata": {},
   "source": [
    "### Use a Logic App HTTP POST trigger to email using Outlook"
   ]
  },
  {
   "cell_type": "code",
   "execution_count": 3,
   "metadata": {},
   "outputs": [],
   "source": [
    "def send_post_request(json_payload):\n",
    "    headers = {'Content-Type': 'application/json'}\n",
    "    response = requests.post(framework.email_URI, json=json_payload, headers=headers)\n",
    "    if response.status_code == 202:\n",
    "        print(\"Email sent to: \" + json_payload['to'])  "
   ]
  },
  {
   "cell_type": "markdown",
   "metadata": {},
   "source": [
    "### Prepare the tools for function calling"
   ]
  },
  {
   "cell_type": "code",
   "execution_count": 5,
   "metadata": {},
   "outputs": [],
   "source": [
    "tools_list = [\n",
    "{\"type\": \"code_interpreter\"},\n",
    "{\"type\": \"function\",\n",
    "    \"function\": {\n",
    "\n",
    "        \"name\": \"get_stock_price\",\n",
    "        \"description\": \"Retrieve the latest closing price of a stock using its ticker symbol.\",\n",
    "        \"parameters\": {\n",
    "            \"type\": \"object\",\n",
    "            \"properties\": {\n",
    "                \"symbol\": {\n",
    "                    \"type\": \"string\",\n",
    "                    \"description\": \"The ticker symbol of the stock\"\n",
    "                }\n",
    "            },\n",
    "            \"required\": [\"symbol\"]\n",
    "        }\n",
    "    }\n",
    "},\n",
    "{\n",
    "    \"type\": \"function\",\n",
    "    \"function\": {\n",
    "\n",
    "        \"name\": \"send_email\",\n",
    "        \"description\": \"Sends an email to a recipient(s).\",\n",
    "        \"parameters\": {\n",
    "            \"type\": \"object\",\n",
    "            \"properties\": {\n",
    "                \"to\": {\n",
    "                    \"type\": \"string\",\n",
    "                    \"description\": \"The email(s) the email should be sent to.\"\n",
    "                },\n",
    "                \"content\": {\n",
    "                    \"type\": \"string\",\n",
    "                    \"description\": \"The content of the email.\"\n",
    "                }\n",
    "            },\n",
    "            \"required\": [\"to\", \"content\"]\n",
    "        }\n",
    "    }\n",
    "}]"
   ]
  },
  {
   "cell_type": "code",
   "execution_count": 5,
   "metadata": {},
   "outputs": [],
   "source": [
    "#csv_file = framework.upload_file(client,\"../data/fta-portfolio.csv\")"
   ]
  },
  {
   "cell_type": "markdown",
   "metadata": {},
   "source": [
    "### Create the assistant"
   ]
  },
  {
   "cell_type": "code",
   "execution_count": 6,
   "metadata": {},
   "outputs": [
    {
     "name": "stdout",
     "output_type": "stream",
     "text": [
      "Added assistant:  asst_2hBLzf6dHveCJAccwYZxO2ac 1\n"
     ]
    }
   ],
   "source": [
    "framework.clear_shelves()\n",
    "\n",
    "## Create an assistant\n",
    "stock_assistant = framework.create_assistant(client,\n",
    "                                                  name=\"fta-Securities Trading Assistant\",\n",
    "                                                  instructions=\"You are a personal securities trading assistant. Please be polite, professional, helpful, and friendly.\", \n",
    "                                                  tools=tools_list,                                                  \n",
    "                                                  model=framework.gpt_deployment_name,\n",
    "                                                  )"
   ]
  },
  {
   "cell_type": "markdown",
   "metadata": {},
   "source": [
    "### Create a thread, put a message on the thread, and view the initial status"
   ]
  },
  {
   "cell_type": "code",
   "execution_count": 7,
   "metadata": {},
   "outputs": [],
   "source": [
    "# Step 2: Create a Thread\n",
    "thread = client.beta.threads.create()\n",
    "\n",
    "\n",
    "portfolio = \"\"\"Ticker,Price,QTY,Cost\n",
    "AAPL,250,10,2500\n",
    "MSFT,100,200,20000\n",
    "GOOGL,75,1200,90000\n",
    "AMZN,50,1800,90000\n",
    "TSLA,500,500,250000\n",
    "NFLX,80,300,24000\n",
    "NVDA,120,250,30000\"\"\"\n",
    "\n",
    "# Step 3: Add a Message to a Thread\n",
    "message = client.beta.threads.messages.create(\n",
    "    thread_id=thread.id,\n",
    "    role=\"user\",\n",
    "    content=\"Based on the provide portfolio:\\n\\n\" + portfolio + \"\\n\\nPlease email me an HTML formatted report at alemor@microsoft.com with the details for each stock based on the latest stock prices, and the best and worst performing stocks in my portfolio.\"\n",
    ")\n",
    "\n",
    "# Step 4: Run the Assistant\n",
    "run = client.beta.threads.runs.create(\n",
    "    thread_id=thread.id,\n",
    "    assistant_id=stock_assistant.id,\n",
    "    instructions=\"Today's date and time is: \" + framework.get_localized_datetime() + \".\\n\\n\"\n",
    ")\n",
    "\n",
    "#print(run.model_dump_json(indent=4))"
   ]
  },
  {
   "cell_type": "markdown",
   "metadata": {},
   "source": [
    "### Process the message, function calling leveraging the latest stock prices, print the results and dispose of the objects"
   ]
  },
  {
   "cell_type": "code",
   "execution_count": 8,
   "metadata": {},
   "outputs": [
    {
     "name": "stdout",
     "output_type": "stream",
     "text": [
      "Function Calling\n",
      "{'tool_calls': [{'id': 'call_WiTmZZDXh4edezJyVcQThh5I', 'function': {'arguments': '{\"symbol\":\"AAPL\"}', 'name': 'get_stock_price'}, 'type': 'function'}]}\n",
      "Submitting outputs back to the Assistant...\n",
      "Function Calling\n",
      "{'tool_calls': [{'id': 'call_Y0DCjXr3XFIXiEFTiabBb0YS', 'function': {'arguments': '{\"symbol\":\"MSFT\"}', 'name': 'get_stock_price'}, 'type': 'function'}]}\n",
      "Submitting outputs back to the Assistant...\n",
      "Function Calling\n",
      "{'tool_calls': [{'id': 'call_wQMK8TLmkx06TxRriXC1bfqO', 'function': {'arguments': '{\"symbol\": \"GOOGL\"}', 'name': 'get_stock_price'}, 'type': 'function'}, {'id': 'call_TThSaZYHWv0OgTUAfZaPrivY', 'function': {'arguments': '{\"symbol\": \"AMZN\"}', 'name': 'get_stock_price'}, 'type': 'function'}, {'id': 'call_GsfwfboxVosfgmxduVs9WY2i', 'function': {'arguments': '{\"symbol\": \"TSLA\"}', 'name': 'get_stock_price'}, 'type': 'function'}, {'id': 'call_gTPFfDbs5gihDoPQkx5wwWep', 'function': {'arguments': '{\"symbol\": \"NFLX\"}', 'name': 'get_stock_price'}, 'type': 'function'}, {'id': 'call_mnWu6FWhUY1Lu5v7B94VL99L', 'function': {'arguments': '{\"symbol\": \"NVDA\"}', 'name': 'get_stock_price'}, 'type': 'function'}]}\n",
      "Submitting outputs back to the Assistant...\n",
      "Waiting for the Assistant to process...\n",
      "Waiting for the Assistant to process...\n",
      "Waiting for the Assistant to process...\n",
      "Waiting for the Assistant to process...\n",
      "Waiting for the Assistant to process...\n",
      "Waiting for the Assistant to process...\n",
      "Waiting for the Assistant to process...\n",
      "Waiting for the Assistant to process...\n",
      "Waiting for the Assistant to process...\n",
      "Waiting for the Assistant to process...\n",
      "Waiting for the Assistant to process...\n",
      "Function Calling\n",
      "{'tool_calls': [{'id': 'call_XIWHnGcBWp2F3pVEWicblmkV', 'function': {'arguments': '{\"to\":\"alemor@microsoft.com\",\"content\":\"\\\\n<html>\\\\n<head>\\\\n<style>\\\\n    table {\\\\n        width: 100%;\\\\n        border-collapse: collapse;\\\\n    }\\\\n    th, td {\\\\n        padding: 8px;\\\\n        text-align: left;\\\\n        border-bottom: 1px solid #ddd;\\\\n    }\\\\n    th {\\\\n        background-color: #f2f2f2;\\\\n    }\\\\n    .highlight {\\\\n        background-color: #dff0d8;\\\\n    }\\\\n</style>\\\\n</head>\\\\n<body>\\\\n    <h2>Portfolio Report</h2>\\\\n    <table>\\\\n        <tr>\\\\n            <th>Ticker</th>\\\\n            <th>Quantity</th>\\\\n            <th>Purchase Price</th>\\\\n            <th>Cost</th>\\\\n            <th>Current Price</th>\\\\n            <th>Current Value</th>\\\\n            <th>Profit/Loss</th>\\\\n            <th>Performance (%)</th>\\\\n        </tr>\\\\n\\\\n        <tr>\\\\n            <td>AAPL</td>\\\\n            <td>250</td>\\\\n            <td>10</td>\\\\n            <td>2500</td>\\\\n            <td>185.92</td>\\\\n            <td>46480.0</td>\\\\n            <td>43980.0</td>\\\\n            <td>1759.20</td>\\\\n        </tr>\\\\n    \\\\n        <tr>\\\\n            <td>MSFT</td>\\\\n            <td>100</td>\\\\n            <td>200</td>\\\\n            <td>20000</td>\\\\n            <td>388.47</td>\\\\n            <td>38847.0</td>\\\\n            <td>18847.0</td>\\\\n            <td>94.23</td>\\\\n        </tr>\\\\n    \\\\n        <tr>\\\\n            <td>GOOGL</td>\\\\n            <td>75</td>\\\\n            <td>1200</td>\\\\n            <td>90000</td>\\\\n            <td>142.65</td>\\\\n            <td>10698.75</td>\\\\n            <td>-79301.25</td>\\\\n            <td>-88.11</td>\\\\n        </tr>\\\\n    \\\\n        <tr>\\\\n            <td>AMZN</td>\\\\n            <td>50</td>\\\\n            <td>1800</td>\\\\n            <td>90000</td>\\\\n            <td>154.62</td>\\\\n            <td>7731.0</td>\\\\n            <td>-82269.0</td>\\\\n            <td>-91.41</td>\\\\n        </tr>\\\\n    \\\\n        <tr>\\\\n            <td>TSLA</td>\\\\n            <td>500</td>\\\\n            <td>500</td>\\\\n            <td>250000</td>\\\\n            <td>218.89</td>\\\\n            <td>109445.0</td>\\\\n            <td>-140555.0</td>\\\\n            <td>-56.22</td>\\\\n        </tr>\\\\n    \\\\n        <tr>\\\\n            <td>NFLX</td>\\\\n            <td>80</td>\\\\n            <td>300</td>\\\\n            <td>24000</td>\\\\n            <td>492.16</td>\\\\n            <td>39372.8</td>\\\\n            <td>15372.800000000003</td>\\\\n            <td>64.05</td>\\\\n        </tr>\\\\n    \\\\n        <tr>\\\\n            <td>NVDA</td>\\\\n            <td>120</td>\\\\n            <td>250</td>\\\\n            <td>30000</td>\\\\n            <td>547.1</td>\\\\n            <td>65652.0</td>\\\\n            <td>35652.0</td>\\\\n            <td>118.84</td>\\\\n        </tr>\\\\n    \\\\n    </table>\\\\n    <p>Best performer: <strong>AAPL</strong> with a performance of 1759.20%</p>\\\\n    <p>Worst performer: <strong>AMZN</strong> with a performance of -91.41%</p>\\\\n</body>\\\\n</html>\\\\n\"}', 'name': 'send_email'}, 'type': 'function'}]}\n",
      "Sending email...\n",
      "Email sent to: alemor@microsoft.com\n",
      "Submitting outputs back to the Assistant...\n",
      "Assistant: The email with the HTML formatted report detailing the latest stock prices, the best and worst performing stocks in the portfolio has been sent to alemor@microsoft.com.\n",
      "User: Based on the provide portfolio:\n",
      "\n",
      "Ticker,QTY,Purchase,Cost\n",
      "AAPL,250,10,2500\n",
      "MSFT,100,200,20000\n",
      "GOOGL,75,1200,90000\n",
      "AMZN,50,1800,90000\n",
      "TSLA,500,500,250000\n",
      "NFLX,80,300,24000\n",
      "NVDA,120,250,30000\n",
      "\n",
      "Please email me an HTML formatted report at alemor@microsoft.com with the details for each stock based on the latest stock prices, and the best and worst performing stocks in my portfolio.\n",
      "ThreadDeleted(id='thread_1CnAudgu1riGhYFx33735Gbf', deleted=True, object='thread.deleted')\n",
      "AssistantDeleted(id='asst_2hBLzf6dHveCJAccwYZxO2ac', deleted=True, object='assistant.deleted')\n"
     ]
    }
   ],
   "source": [
    "while True:\n",
    "    # Wait for 1 seconds\n",
    "    time.sleep(5)\n",
    "\n",
    "    # Retrieve the run status\n",
    "    run_status = client.beta.threads.runs.retrieve(\n",
    "        thread_id=thread.id,\n",
    "        run_id=run.id\n",
    "    )\n",
    "    #print(run_status.model_dump_json(indent=4))\n",
    "\n",
    "    # If run is completed, get messages\n",
    "    if run_status.status == 'completed':\n",
    "        messages = client.beta.threads.messages.list(\n",
    "            thread_id=thread.id\n",
    "        )\n",
    "\n",
    "        # Loop through messages and print content based on role\n",
    "        for msg in messages.data:\n",
    "            role = msg.role\n",
    "            content = msg.content[0].text.value\n",
    "            print(f\"{role.capitalize()}: {content}\")\n",
    "\n",
    "        ## Cleanup\n",
    "        print(client.beta.threads.delete(thread.id))\n",
    "        print(client.beta.assistants.delete(stock_assistant.id))\n",
    "        #print(client.files.delete(csv_file.id))\n",
    "\n",
    "        break\n",
    "    elif run_status.status == 'requires_action':\n",
    "        print(\"Function Calling\")\n",
    "        required_actions = run_status.required_action.submit_tool_outputs.model_dump()\n",
    "        print(required_actions)\n",
    "        tool_outputs = []\n",
    "        import json\n",
    "        for action in required_actions[\"tool_calls\"]:\n",
    "            func_name = action['function']['name']\n",
    "            arguments = json.loads(action['function']['arguments'])\n",
    "            \n",
    "            if func_name == \"get_stock_price\":\n",
    "                output = get_stock_price(symbol=arguments['symbol'])\n",
    "                tool_outputs.append({\n",
    "                    \"tool_call_id\": action['id'],\n",
    "                    \"output\": output\n",
    "                })\n",
    "            elif func_name == \"send_email\":\n",
    "                print(\"Sending email...\")\n",
    "                email_to = arguments['to']\n",
    "                email_content = arguments['content']\n",
    "                send_post_request({'to': email_to,'content':email_content})\n",
    "                \n",
    "                tool_outputs.append({\n",
    "                    \"tool_call_id\": action['id'],\n",
    "                    \"output\": \"Email sent\"\n",
    "                })\n",
    "            else:\n",
    "                raise ValueError(f\"Unknown function: {func_name}\")\n",
    "            \n",
    "        print(\"Submitting outputs back to the Assistant...\")\n",
    "        client.beta.threads.runs.submit_tool_outputs(\n",
    "            thread_id=thread.id,\n",
    "            run_id=run.id,\n",
    "            tool_outputs=tool_outputs\n",
    "        )\n",
    "    else:\n",
    "        print(\"Waiting for the Assistant to process...\")\n",
    "        time.sleep(5)"
   ]
  }
 ],
 "metadata": {
  "kernelspec": {
   "display_name": "v31012",
   "language": "python",
   "name": "python3"
  },
  "language_info": {
   "codemirror_mode": {
    "name": "ipython",
    "version": 3
   },
   "file_extension": ".py",
   "mimetype": "text/x-python",
   "name": "python",
   "nbconvert_exporter": "python",
   "pygments_lexer": "ipython3",
   "version": "3.10.12"
  }
 },
 "nbformat": 4,
 "nbformat_minor": 2
}
