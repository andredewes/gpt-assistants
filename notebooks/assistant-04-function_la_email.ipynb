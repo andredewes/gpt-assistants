{
 "cells": [
  {
   "cell_type": "markdown",
   "metadata": {},
   "source": [
    "# Assistant-04<br/>Function calling\n",
    "\n",
    "## Trading Assistant with email functionality\n",
    "\n",
    "## Credits\n",
    "\n",
    "- https://mer.vin/2023/11/openai-assistants-api-function-calling/\n",
    "\n",
    "## Email functionality\n",
    "\n",
    "- Implemented using Logic Apps with an Http POST trigger\n",
    "\n",
    "### Get an OpenAI client and an Assistant\n",
    "\n",
    "**Note:** When configuring the OpenAI client, the API version, the model version, and endpoint are \"new\"."
   ]
  },
  {
   "cell_type": "code",
   "execution_count": 1,
   "metadata": {},
   "outputs": [],
   "source": [
    "import time\n",
    "import requests\n",
    "import oaihelper as framework\n",
    "import yfinance as yf\n",
    "\n",
    "\n",
    "## Get an OpenAI client\n",
    "client = framework.get_openai_client(api_key=framework.api_KEY,\n",
    "        api_version=framework.api_version,\n",
    "        azure_endpoint=framework.api_URI,)"
   ]
  },
  {
   "cell_type": "markdown",
   "metadata": {},
   "source": [
    "### Get the latest stock price by ticker symbol using Yahoo Finance"
   ]
  },
  {
   "cell_type": "code",
   "execution_count": 2,
   "metadata": {},
   "outputs": [],
   "source": [
    "def get_stock_price(symbol: str) -> float:\n",
    "    stock = yf.Ticker(symbol)\n",
    "    price = stock.history(period=\"1d\")['Close'].iloc[-1]    \n",
    "    return price\n"
   ]
  },
  {
   "cell_type": "markdown",
   "metadata": {},
   "source": [
    "### Use a Logic App HTTP POST trigger to email using Outlook"
   ]
  },
  {
   "cell_type": "code",
   "execution_count": 3,
   "metadata": {},
   "outputs": [],
   "source": [
    "def send_email(json_payload):\n",
    "    headers = {'Content-Type': 'application/json'}\n",
    "    response = requests.post(framework.email_URI, json=json_payload, headers=headers)\n",
    "    if response.status_code == 202:\n",
    "        print(\"Email sent to: \" + json_payload['to'])  "
   ]
  },
  {
   "cell_type": "markdown",
   "metadata": {},
   "source": [
    "### Prepare the tool for function calling"
   ]
  },
  {
   "cell_type": "code",
   "execution_count": 4,
   "metadata": {},
   "outputs": [],
   "source": [
    "tools_list = [{\n",
    "    \"type\": \"function\",\n",
    "    \"function\": {\n",
    "\n",
    "        \"name\": \"get_stock_price\",\n",
    "        \"description\": \"Retrieve the latest closing price of a stock using its ticker symbol.\",\n",
    "        \"parameters\": {\n",
    "            \"type\": \"object\",\n",
    "            \"properties\": {\n",
    "                \"symbol\": {\n",
    "                    \"type\": \"string\",\n",
    "                    \"description\": \"The ticker symbol of the stock\"\n",
    "                }\n",
    "            },\n",
    "            \"required\": [\"symbol\"]\n",
    "        }\n",
    "    }\n",
    "},\n",
    "{\n",
    "    \"type\": \"function\",\n",
    "    \"function\": {\n",
    "\n",
    "        \"name\": \"send_email\",\n",
    "        \"description\": \"Sends an email to a recipient(s).\",\n",
    "        \"parameters\": {\n",
    "            \"type\": \"object\",\n",
    "            \"properties\": {\n",
    "                \"to\": {\n",
    "                    \"type\": \"string\",\n",
    "                    \"description\": \"The email(s) the email should be sent to.\"\n",
    "                },\n",
    "                \"content\": {\n",
    "                    \"type\": \"string\",\n",
    "                    \"description\": \"The content of the email.\"\n",
    "                }\n",
    "            },\n",
    "            \"required\": [\"to\", \"content\"]\n",
    "        }\n",
    "    }\n",
    "}]"
   ]
  },
  {
   "cell_type": "markdown",
   "metadata": {},
   "source": [
    "### Create the assistant"
   ]
  },
  {
   "cell_type": "code",
   "execution_count": 5,
   "metadata": {},
   "outputs": [
    {
     "name": "stdout",
     "output_type": "stream",
     "text": [
      "Added assistant:  asst_arylhXwQihkVI27k0aX3eYo9 1\n"
     ]
    }
   ],
   "source": [
    "framework.clear_shelves()\n",
    "\n",
    "## Create an assistant\n",
    "stock_assistant = framework.create_assistant(client,\n",
    "                                                  name=\"fta-Securities Trading Assistant\",\n",
    "                                                  instructions=\"You are a personal securities trading assistant. Please be polite, professional, helpful, and friendly.\", \n",
    "                                                  tools=tools_list, \n",
    "                                                  model=framework.gpt_deployment_name)"
   ]
  },
  {
   "cell_type": "markdown",
   "metadata": {},
   "source": [
    "### Create a thread, put a message on the thread, and view the initial status"
   ]
  },
  {
   "cell_type": "code",
   "execution_count": 6,
   "metadata": {},
   "outputs": [],
   "source": [
    "# Step 2: Create a Thread\n",
    "thread = client.beta.threads.create()\n",
    "\n",
    "article = \"\"\"Title: Tech Giants Microsoft and Nvidia Outshine Others in Recent Market Performance\n",
    "\n",
    "New York, New York 01/15/2024\n",
    "\n",
    "Introduction: In the ever-evolving world of technology, the performance of major companies often serves as a barometer for the industry's overall health. In recent times, two tech giants, Microsoft (MSFT) and Nvidia (NVDA), have stood out from the pack with their impressive market performance. However, other prominent tickers such as Apple (AAPL), Novo Nordisk (NVO), MercadoLibre (MELI), Tradeweb Markets (TW), and Tesla (TSLA) have struggled to keep pace. Let's delve into the details of their respective performances and explore the factors contributing to their divergent trajectories.\n",
    "\n",
    "Microsoft (MSFT): Microsoft, a global leader in software and cloud services, has been on a remarkable upward trajectory. The company's stock price has experienced consistent growth, driven by its strong financial performance and successful transition to a cloud-based business model. MSFT has demonstrated resilience during the COVID-19 pandemic, with increased demand for its cloud services and productivity tools. Additionally, Microsoft's strategic acquisitions and investments in emerging technologies have bolstered its position in the market.\n",
    "\n",
    "Nvidia (NVDA): Nvidia, renowned for its advanced graphics processing units (GPUs) and artificial intelligence (AI) technologies, has also been a standout performer. The company's stock price has soared, fueled by its dominance in the gaming industry and its expanding presence in AI and data centers. Nvidia's GPUs have become essential components in various sectors, including gaming, autonomous vehicles, and data centers, driving its revenue growth. Furthermore, the company's recent acquisition of Arm Holdings has positioned it for further expansion into the semiconductor market.\n",
    "\n",
    "Apple (AAPL): While Apple remains one of the most valuable companies globally, its recent performance has been relatively lackluster compared to Microsoft and Nvidia. The tech giant faced challenges due to the COVID-19 pandemic, which disrupted its supply chain and impacted iPhone sales. However, Apple's strong ecosystem, including its services segment and wearable devices, has helped mitigate some of the setbacks. The upcoming release of new products and the continued growth of its services division may provide a catalyst for Apple's future performance.\n",
    "\n",
    "Novo Nordisk (NVO), MercadoLibre (MELI), Tradeweb Markets (TW), and Tesla (TSLA): In contrast to Microsoft and Nvidia, Novo Nordisk, MercadoLibre, Tradeweb Markets, and Tesla have faced difficulties in recent market performance.\n",
    "\n",
    "Novo Nordisk, a leading pharmaceutical company specializing in diabetes care, has experienced challenges due to increased competition and pricing pressures in the industry. However, the company's strong pipeline of innovative products and its commitment to research and development may help it regain momentum.\n",
    "\n",
    "MercadoLibre, often referred to as the \"Amazon of Latin America,\" has faced headwinds due to economic uncertainties in the region. Despite being a dominant e-commerce player, the company's profitability has been impacted by increased investments in logistics and expansion into new markets. However, MercadoLibre's long-term growth prospects remain promising, given the region's growing digital economy.\n",
    "\n",
    "Tradeweb Markets, a global operator of electronic marketplaces for fixed-income and derivatives trading, has experienced a slowdown in trading volumes due to market volatility and reduced investor activity. However, the company's strong market position and ongoing digital transformation efforts may help it navigate these challenges.\n",
    "\n",
    "Tesla, the electric vehicle (EV) pioneer, has witnessed significant volatility in its stock price. While the company has achieved remarkable success in the EV market, concerns about valuation and competition have impacted its performance. Tesla's ability to ramp up production, expand its product lineup, and maintain its technological edge will be crucial for its future success.\n",
    "\n",
    "Conclusion: In the world of technology, market performance can vary significantly among major players. Microsoft and Nvidia have emerged as top performers, driven by their strong financials, strategic investments, and market dominance. On the other hand, Apple, Novo Nordisk, MercadoLibre, Tradeweb Markets, and Tesla have faced challenges that have impacted their recent performance. However, each company possesses unique strengths and growth opportunities that could potentially turn the tide in their favor. Investors and industry observers will closely monitor these companies as they navigate the ever-changing landscape of the tech industry.\"\"\"\n",
    "\n",
    "# Step 3: Add a Message to a Thread\n",
    "message = client.beta.threads.messages.create(\n",
    "    thread_id=thread.id,\n",
    "    role=\"user\",\n",
    "    content=\"For the following article: \\n\\nArticle: \"\"\"\"\"\"\" + article + \"\\n\"\"\"\"\"\"\" +\n",
    "    \"\\n\\nEmail a summary of the article in simple HTML format, include today's date, include a list of the closing prices of the stocks mentioned in the article to: alemor@microsoft.com and vsantana@microsoft.com.\" +\n",
    "    \"Use only the provide text.\"\n",
    ")\n",
    "\n",
    "# Step 4: Run the Assistant\n",
    "run = client.beta.threads.runs.create(\n",
    "    thread_id=thread.id,\n",
    "    assistant_id=stock_assistant.id,\n",
    "    instructions=\"Today's date and time is: \" + framework.get_localized_datetime() + \".\\n\\n\"\n",
    ")\n",
    "\n",
    "#print(run.model_dump_json(indent=4))"
   ]
  },
  {
   "cell_type": "markdown",
   "metadata": {},
   "source": [
    "### Process the message, function calling leveraging the latest stock prices, print the results and dispose of the objects"
   ]
  },
  {
   "cell_type": "code",
   "execution_count": 7,
   "metadata": {},
   "outputs": [
    {
     "name": "stdout",
     "output_type": "stream",
     "text": [
      "Waiting for the Assistant to process...\n",
      "Waiting for the Assistant to process...\n",
      "Waiting for the Assistant to process...\n",
      "Function Calling\n",
      "{'tool_calls': [{'id': 'call_ngZlnts0EokdtChQYojNMvSs', 'function': {'arguments': '{\"symbol\": \"MSFT\"}', 'name': 'get_stock_price'}, 'type': 'function'}, {'id': 'call_JSdcVJKezQw0gQdBoPLsfl4H', 'function': {'arguments': '{\"symbol\": \"NVDA\"}', 'name': 'get_stock_price'}, 'type': 'function'}, {'id': 'call_AuLLyG3PVNLVlYDWLsL5vlre', 'function': {'arguments': '{\"symbol\": \"AAPL\"}', 'name': 'get_stock_price'}, 'type': 'function'}, {'id': 'call_6uxHtcDNCvMDQqoM3IR4cpSk', 'function': {'arguments': '{\"symbol\": \"NVO\"}', 'name': 'get_stock_price'}, 'type': 'function'}, {'id': 'call_5HTRs2DxkBkcrzinPe9NWzhz', 'function': {'arguments': '{\"symbol\": \"MELI\"}', 'name': 'get_stock_price'}, 'type': 'function'}, {'id': 'call_p0BzEP96c3lNc5T10mf9yyDA', 'function': {'arguments': '{\"symbol\": \"TW\"}', 'name': 'get_stock_price'}, 'type': 'function'}, {'id': 'call_4m15cMODoysVW8unwH8J0yri', 'function': {'arguments': '{\"symbol\": \"TSLA\"}', 'name': 'get_stock_price'}, 'type': 'function'}]}\n",
      "Submitting outputs back to the Assistant...\n",
      "Waiting for the Assistant to process...\n",
      "Waiting for the Assistant to process...\n",
      "Waiting for the Assistant to process...\n",
      "Waiting for the Assistant to process...\n",
      "Waiting for the Assistant to process...\n",
      "Function Calling\n",
      "{'tool_calls': [{'id': 'call_XFovCNvbkDuCsEm944NiNzfK', 'function': {'arguments': '{\\n  \"to\": \"alemor@microsoft.com, vsantana@microsoft.com\",\\n  \"content\": \"<html>\\\\n<head>\\\\n<title>Market Performance Summary</title>\\\\n</head>\\\\n<body>\\\\n<h1>Tech Giants Microsoft and Nvidia Outshine Others in Recent Market Performance</h1>\\\\n<p><b>Date:</b> 01/15/2024</p>\\\\n<p>In recent market performance, <b>Microsoft (MSFT)</b> and <b>Nvidia (NVDA)</b> have excelled, while others like <b>Apple (AAPL)</b>, <b>Novo Nordisk (NVO)</b>, <b>MercadoLibre (MELI)</b>, <b>Tradeweb Markets (TW)</b>, and <b>Tesla (TSLA)</b> have shown tepid results.</p>\\\\n<p>Microsoft has seen its stock price rise, supported by its transition to cloud-based services and strategic acquisitions. Nvidia\\'s value has soared due to its grip on the gaming industry and advances in AI and data centers.</p>\\\\n<p>Apple has faced challenges impacting iPhone sales, but its robust services division offers some balance. Novo Nordisk has been under pressure from competition and industry pricing, MercadoLibre with economic uncertainties in its region, Tradeweb Markets by a trading volume slowdown, and Tesla by valuation and competition concerns.</p>\\\\n<p>Looking ahead, Novo Nordisk\\'s product pipeline, MercadoLibre\\'s digital economy presence, Tradeweb\\'s market position, and Tesla\\'s production and innovation may help these companies bounce back.</p>\\\\n<p><b>Stock Closing Prices:</b></p>\\\\n<ul>\\\\n<li>Microsoft (MSFT): $388.47</li>\\\\n<li>Nvidia (NVDA): $547.10</li>\\\\n<li>Apple (AAPL): $185.92</li>\\\\n<li>Novo Nordisk (NVO): $107.16</li>\\\\n<li>MercadoLibre (MELI): $1658.58</li>\\\\n<li>Tradeweb Markets (TW): $95.91</li>\\\\n<li>Tesla (TSLA): $218.89</li>\\\\n</ul>\\\\n<p>These developments reveal a tech industry landscape with varying trajectories among key players, and they will continue to be a focal point for investors and industry watchers alike.</p>\\\\n</body>\\\\n</html>\"\\n}', 'name': 'send_email'}, 'type': 'function'}]}\n",
      "Sending email...\n",
      "Email sent to: alemor@microsoft.com, vsantana@microsoft.com\n",
      "Submitting outputs back to the Assistant...\n",
      "Waiting for the Assistant to process...\n",
      "Assistant: The email has been successfully sent to alemor@microsoft.com and vsantana@microsoft.com with the summary of the market performance article, including the latest closing prices for Microsoft, Nvidia, Apple, Novo Nordisk, MercadoLibre, Tradeweb Markets, and Tesla, formatted in simple HTML.\n",
      "User: For the following article: \n",
      "\n",
      "Article: Title: Tech Giants Microsoft and Nvidia Outshine Others in Recent Market Performance\n",
      "\n",
      "New York, New York 01/15/2024\n",
      "\n",
      "Introduction: In the ever-evolving world of technology, the performance of major companies often serves as a barometer for the industry's overall health. In recent times, two tech giants, Microsoft (MSFT) and Nvidia (NVDA), have stood out from the pack with their impressive market performance. However, other prominent tickers such as Apple (AAPL), Novo Nordisk (NVO), MercadoLibre (MELI), Tradeweb Markets (TW), and Tesla (TSLA) have struggled to keep pace. Let's delve into the details of their respective performances and explore the factors contributing to their divergent trajectories.\n",
      "\n",
      "Microsoft (MSFT): Microsoft, a global leader in software and cloud services, has been on a remarkable upward trajectory. The company's stock price has experienced consistent growth, driven by its strong financial performance and successful transition to a cloud-based business model. MSFT has demonstrated resilience during the COVID-19 pandemic, with increased demand for its cloud services and productivity tools. Additionally, Microsoft's strategic acquisitions and investments in emerging technologies have bolstered its position in the market.\n",
      "\n",
      "Nvidia (NVDA): Nvidia, renowned for its advanced graphics processing units (GPUs) and artificial intelligence (AI) technologies, has also been a standout performer. The company's stock price has soared, fueled by its dominance in the gaming industry and its expanding presence in AI and data centers. Nvidia's GPUs have become essential components in various sectors, including gaming, autonomous vehicles, and data centers, driving its revenue growth. Furthermore, the company's recent acquisition of Arm Holdings has positioned it for further expansion into the semiconductor market.\n",
      "\n",
      "Apple (AAPL): While Apple remains one of the most valuable companies globally, its recent performance has been relatively lackluster compared to Microsoft and Nvidia. The tech giant faced challenges due to the COVID-19 pandemic, which disrupted its supply chain and impacted iPhone sales. However, Apple's strong ecosystem, including its services segment and wearable devices, has helped mitigate some of the setbacks. The upcoming release of new products and the continued growth of its services division may provide a catalyst for Apple's future performance.\n",
      "\n",
      "Novo Nordisk (NVO), MercadoLibre (MELI), Tradeweb Markets (TW), and Tesla (TSLA): In contrast to Microsoft and Nvidia, Novo Nordisk, MercadoLibre, Tradeweb Markets, and Tesla have faced difficulties in recent market performance.\n",
      "\n",
      "Novo Nordisk, a leading pharmaceutical company specializing in diabetes care, has experienced challenges due to increased competition and pricing pressures in the industry. However, the company's strong pipeline of innovative products and its commitment to research and development may help it regain momentum.\n",
      "\n",
      "MercadoLibre, often referred to as the \"Amazon of Latin America,\" has faced headwinds due to economic uncertainties in the region. Despite being a dominant e-commerce player, the company's profitability has been impacted by increased investments in logistics and expansion into new markets. However, MercadoLibre's long-term growth prospects remain promising, given the region's growing digital economy.\n",
      "\n",
      "Tradeweb Markets, a global operator of electronic marketplaces for fixed-income and derivatives trading, has experienced a slowdown in trading volumes due to market volatility and reduced investor activity. However, the company's strong market position and ongoing digital transformation efforts may help it navigate these challenges.\n",
      "\n",
      "Tesla, the electric vehicle (EV) pioneer, has witnessed significant volatility in its stock price. While the company has achieved remarkable success in the EV market, concerns about valuation and competition have impacted its performance. Tesla's ability to ramp up production, expand its product lineup, and maintain its technological edge will be crucial for its future success.\n",
      "\n",
      "Conclusion: In the world of technology, market performance can vary significantly among major players. Microsoft and Nvidia have emerged as top performers, driven by their strong financials, strategic investments, and market dominance. On the other hand, Apple, Novo Nordisk, MercadoLibre, Tradeweb Markets, and Tesla have faced challenges that have impacted their recent performance. However, each company possesses unique strengths and growth opportunities that could potentially turn the tide in their favor. Investors and industry observers will closely monitor these companies as they navigate the ever-changing landscape of the tech industry.\n",
      "\n",
      "\n",
      "Email a summary of the article in simple HTML format, include today's date, include a list of the closing prices of the stocks mentioned in the article to: alemor@microsoft.com and vsantana@microsoft.com.Use only the provide text.\n",
      "ThreadDeleted(id='thread_bAYIYJ5D4tnwZx7N9qfeMu7K', deleted=True, object='thread.deleted')\n",
      "AssistantDeleted(id='asst_arylhXwQihkVI27k0aX3eYo9', deleted=True, object='assistant.deleted')\n"
     ]
    }
   ],
   "source": [
    "while True:\n",
    "    # Wait for 2 seconds\n",
    "    time.sleep(2)\n",
    "\n",
    "    # Retrieve the run status\n",
    "    run_status = client.beta.threads.runs.retrieve(\n",
    "        thread_id=thread.id,\n",
    "        run_id=run.id\n",
    "    )\n",
    "    #print(run_status.model_dump_json(indent=4))\n",
    "\n",
    "    # If run is completed, get messages\n",
    "    if run_status.status == 'completed':\n",
    "        messages = client.beta.threads.messages.list(\n",
    "            thread_id=thread.id\n",
    "        )\n",
    "\n",
    "        # Loop through messages and print content based on role\n",
    "        for msg in messages.data:\n",
    "            role = msg.role\n",
    "            content = msg.content[0].text.value\n",
    "            print(f\"{role.capitalize()}: {content}\")\n",
    "\n",
    "        ## Cleanup\n",
    "        print(client.beta.threads.delete(thread.id))\n",
    "        print(client.beta.assistants.delete(stock_assistant.id))\n",
    "\n",
    "        break\n",
    "    elif run_status.status == 'requires_action':\n",
    "        print(\"Function Calling\")\n",
    "        required_actions = run_status.required_action.submit_tool_outputs.model_dump()\n",
    "        print(required_actions)\n",
    "        tool_outputs = []\n",
    "        import json\n",
    "        for action in required_actions[\"tool_calls\"]:\n",
    "            func_name = action['function']['name']\n",
    "            arguments = json.loads(action['function']['arguments'])\n",
    "            \n",
    "            if func_name == \"get_stock_price\":\n",
    "                output = get_stock_price(symbol=arguments['symbol'])\n",
    "                tool_outputs.append({\n",
    "                    \"tool_call_id\": action['id'],\n",
    "                    \"output\": output\n",
    "                })\n",
    "            elif func_name == \"send_email\":\n",
    "                print(\"Sending email...\")\n",
    "                email_to = arguments['to']\n",
    "                email_content = arguments['content']\n",
    "                send_email({'to': email_to,'content':email_content})\n",
    "                \n",
    "                tool_outputs.append({\n",
    "                    \"tool_call_id\": action['id'],\n",
    "                    \"output\": \"Email sent\"\n",
    "                })\n",
    "            else:\n",
    "                raise ValueError(f\"Unknown function: {func_name}\")\n",
    "            \n",
    "        print(\"Submitting outputs back to the Assistant...\")\n",
    "        client.beta.threads.runs.submit_tool_outputs(\n",
    "            thread_id=thread.id,\n",
    "            run_id=run.id,\n",
    "            tool_outputs=tool_outputs\n",
    "        )\n",
    "    else:\n",
    "        print(\"Waiting for the Assistant to process...\")\n",
    "        time.sleep(2)"
   ]
  }
 ],
 "metadata": {
  "kernelspec": {
   "display_name": "v31012",
   "language": "python",
   "name": "python3"
  },
  "language_info": {
   "codemirror_mode": {
    "name": "ipython",
    "version": 3
   },
   "file_extension": ".py",
   "mimetype": "text/x-python",
   "name": "python",
   "nbconvert_exporter": "python",
   "pygments_lexer": "ipython3",
   "version": "3.10.12"
  }
 },
 "nbformat": 4,
 "nbformat_minor": 2
}
