{
 "cells": [
  {
   "cell_type": "markdown",
   "metadata": {},
   "source": [
    "# Assistant-02<br/>Assistant Framework\n",
    "\n",
    "### Get an OpenAI client\n",
    "\n",
    "**Note:** When configuring the OpenAI client, the API version, the model version, and endpoint are \"new\"."
   ]
  },
  {
   "cell_type": "code",
   "execution_count": 1,
   "metadata": {},
   "outputs": [],
   "source": [
    "import common\n",
    "import time\n",
    "import shelve\n",
    "\n",
    "## Get an OpenAI client\n",
    "client = common.get_openai_client()"
   ]
  },
  {
   "cell_type": "markdown",
   "metadata": {},
   "source": [
    "### Create an assistant"
   ]
  },
  {
   "cell_type": "code",
   "execution_count": 10,
   "metadata": {},
   "outputs": [],
   "source": [
    "def create_assistant(name,instructions, tools, model):\n",
    "    assistant = client.beta.assistants.create(\n",
    "        name=name,\n",
    "        instructions=instructions,\n",
    "        tools=tools,\n",
    "        model=model,\n",
    "    )\n",
    "    return assistant\n",
    "\n",
    "assistant = create_assistant(\"Math Tutor\",\"You are a personal math tutor. Write and run code to answer math questions.\", [{\"type\": \"code_interpreter\"}], common.gpt_deployment_name)"
   ]
  },
  {
   "cell_type": "code",
   "execution_count": 12,
   "metadata": {},
   "outputs": [],
   "source": [
    "def check_if_assistant_exists(assistant_id):\n",
    "    with shelve.open(\"assistant_db\") as assistant_shelf:\n",
    "        return assistant_shelf.get(assistant_id, None)\n",
    "    \n",
    "def store_assistant(assistant_id):\n",
    "    with shelve.open(\"assistant_db\", writeback=True) as assistant_shelf:\n",
    "        assistant_shelf[assistant_id] = assistant_id\n",
    "    \n",
    "def check_if_thread_exists(wa_id):\n",
    "    with shelve.open(\"threads_db\") as threads_shelf:\n",
    "        return threads_shelf.get(wa_id, None)\n",
    "\n",
    "def store_thread(wa_id, thread_id):\n",
    "    with shelve.open(\"threads_db\", writeback=True) as threads_shelf:\n",
    "        threads_shelf[wa_id] = thread_id"
   ]
  },
  {
   "cell_type": "code",
   "execution_count": 13,
   "metadata": {},
   "outputs": [],
   "source": [
    "def run_assistant(thread):\n",
    "    # Run the assistant\n",
    "    run = client.beta.threads.runs.create(\n",
    "        thread_id=thread.id,\n",
    "        assistant_id=assistant.id,\n",
    "    )\n",
    "\n",
    "    # Wait for completion\n",
    "    while run.status != \"completed\":\n",
    "        # Be nice to the API\n",
    "        time.sleep(0.5)\n",
    "        run = client.beta.threads.runs.retrieve(thread_id=thread.id, run_id=run.id)\n",
    "\n",
    "    # Retrieve the Messages\n",
    "    messages = client.beta.threads.messages.list(thread_id=thread.id)\n",
    "    new_message = messages.data[0].content[0].text.value\n",
    "    print(f\"Generated message: {new_message}\")\n",
    "    return new_message"
   ]
  },
  {
   "cell_type": "code",
   "execution_count": 14,
   "metadata": {},
   "outputs": [],
   "source": [
    "def generate_response(message_body, wa_id, name):\n",
    "    \n",
    "    # Check if there is already a thread_id for the wa_id\n",
    "    thread_id = check_if_thread_exists(wa_id)\n",
    "\n",
    "    # If a thread doesn't exist, create one and store it\n",
    "    if thread_id is None:\n",
    "        print(f\"Creating new thread for {name} with wa_id {wa_id}\")\n",
    "        thread = client.beta.threads.create()\n",
    "        store_thread(wa_id, thread.id)\n",
    "        thread_id = thread.id\n",
    "\n",
    "    # Otherwise, retrieve the existing thread\n",
    "    else:\n",
    "        print(f\"Retrieving existing thread for {name} with wa_id {wa_id}\")\n",
    "        thread = client.beta.threads.retrieve(thread_id)\n",
    "\n",
    "    # Add message to thread\n",
    "    message = client.beta.threads.messages.create(\n",
    "        thread_id=thread_id,\n",
    "        role=\"user\",\n",
    "        content=message_body,\n",
    "    )\n",
    "\n",
    "    # Run the assistant and get the new message\n",
    "    new_message = run_assistant(thread)\n",
    "    print(f\"To {name}:\", new_message)\n",
    "    return new_message"
   ]
  },
  {
   "cell_type": "code",
   "execution_count": 17,
   "metadata": {},
   "outputs": [
    {
     "name": "stdout",
     "output_type": "stream",
     "text": [
      "Retrieving existing thread for John with wa_id 123\n",
      "Generated message: 2 + 2 equals 4.\n",
      "To John: 2 + 2 equals 4.\n",
      "Retrieving existing thread for Sarah with wa_id 456\n",
      "Generated message: The expression \\( x \\times x \\) is mathematically represented as \\( x^2 \\), which is the square of \\( x \\). If \\( x \\) is a variable, \\( x^2 \\) is simply a way to express that variable squared without yet assigning a specific numerical value to it. If you have a particular value of \\( x \\) in mind, I can calculate that for you. For example, if \\( x = 2 \\), then \\( x \\times x = 2 \\times 2 = 4 \\). Otherwise, \\( x^2 \\) stands as the algebraic representation of the square of \\( x \\).\n",
      "To Sarah: The expression \\( x \\times x \\) is mathematically represented as \\( x^2 \\), which is the square of \\( x \\). If \\( x \\) is a variable, \\( x^2 \\) is simply a way to express that variable squared without yet assigning a specific numerical value to it. If you have a particular value of \\( x \\) in mind, I can calculate that for you. For example, if \\( x = 2 \\), then \\( x \\times x = 2 \\times 2 = 4 \\). Otherwise, \\( x^2 \\) stands as the algebraic representation of the square of \\( x \\).\n",
      "Retrieving existing thread for John with wa_id 123\n",
      "Generated message: The value of \\(x\\) for \\(x = m \\cdot y + 5\\), with \\(y = 2\\) and \\(m = -10\\), is \\(x = -15\\).\n",
      "To John: The value of \\(x\\) for \\(x = m \\cdot y + 5\\), with \\(y = 2\\) and \\(m = -10\\), is \\(x = -15\\).\n",
      "Retrieving existing thread for Sarah with wa_id 456\n",
      "Generated message: The value of \\( y \\) for \\( y = x \\times x \\) when \\( x = 2 \\) is calculated by squaring 2:\n",
      "\n",
      "\\( y = 2 \\times 2 = 4 \\)\n",
      "\n",
      "So, the value of \\( y \\) is 4.\n",
      "To Sarah: The value of \\( y \\) for \\( y = x \\times x \\) when \\( x = 2 \\) is calculated by squaring 2:\n",
      "\n",
      "\\( y = 2 \\times 2 = 4 \\)\n",
      "\n",
      "So, the value of \\( y \\) is 4.\n"
     ]
    }
   ],
   "source": [
    "# --------------------------------------------------------------\n",
    "# Test assistant\n",
    "# --------------------------------------------------------------\n",
    "new_message = generate_response(\"What's 2+2\", \"123\", \"John\")\n",
    "\n",
    "new_message = generate_response(\"What's x*x?\", \"456\", \"Sarah\")\n",
    "\n",
    "new_message = generate_response(\"What the value of x, for x=m*y+5, if y=2 and m=-10?\", \"123\", \"John\")\n",
    "\n",
    "new_message = generate_response(\"What is the value of y, for y=x*x?, if x=2?\", \"456\", \"Sarah\")"
   ]
  }
 ],
 "metadata": {
  "kernelspec": {
   "display_name": "v31012",
   "language": "python",
   "name": "python3"
  },
  "language_info": {
   "codemirror_mode": {
    "name": "ipython",
    "version": 3
   },
   "file_extension": ".py",
   "mimetype": "text/x-python",
   "name": "python",
   "nbconvert_exporter": "python",
   "pygments_lexer": "ipython3",
   "version": "3.10.12"
  }
 },
 "nbformat": 4,
 "nbformat_minor": 2
}
