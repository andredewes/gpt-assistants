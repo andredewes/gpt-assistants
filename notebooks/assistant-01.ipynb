{
 "cells": [
  {
   "cell_type": "markdown",
   "metadata": {},
   "source": [
    "# Assistant-01\n",
    "\n",
    "## The OpenAI reference demo\n",
    "\n",
    "### Get an OpenAI client"
   ]
  },
  {
   "cell_type": "code",
   "execution_count": 14,
   "metadata": {},
   "outputs": [
    {
     "name": "stdout",
     "output_type": "stream",
     "text": [
      "<openai.lib.azure.AzureOpenAI object at 0x7f4057bae980>\n"
     ]
    }
   ],
   "source": [
    "import common\n",
    "client = common.get_openai_client()\n",
    "\n",
    "print(client)"
   ]
  },
  {
   "cell_type": "markdown",
   "metadata": {},
   "source": [
    "**Note:** The API version, the model version, and endpoint matter.\n",
    "\n",
    "### Create an assistant"
   ]
  },
  {
   "cell_type": "code",
   "execution_count": 15,
   "metadata": {},
   "outputs": [],
   "source": [
    "assistant = client.beta.assistants.create(\n",
    "    name=\"Math Tutor\",\n",
    "    instructions=\"You are a personal math tutor. Write and run code to answer math questions.\",\n",
    "    tools=[{\"type\": \"code_interpreter\"}],\n",
    "    model=\"gpt-4-turbo-test\"\n",
    ")"
   ]
  },
  {
   "cell_type": "markdown",
   "metadata": {},
   "source": [
    "### Create a thread"
   ]
  },
  {
   "cell_type": "code",
   "execution_count": 16,
   "metadata": {},
   "outputs": [
    {
     "data": {
      "text/plain": [
       "Thread(id='thread_wEEkhDtTWJOwmb63SQEb8IgA', created_at=1705033553, metadata={}, object='thread')"
      ]
     },
     "execution_count": 16,
     "metadata": {},
     "output_type": "execute_result"
    }
   ],
   "source": [
    "thread = client.beta.threads.create()\n",
    "thread"
   ]
  },
  {
   "cell_type": "markdown",
   "metadata": {},
   "source": [
    "### Create a user message"
   ]
  },
  {
   "cell_type": "code",
   "execution_count": 17,
   "metadata": {},
   "outputs": [
    {
     "data": {
      "text/plain": [
       "ThreadMessage(id='msg_sJxIPugIIRgkKE2KQCmokreM', assistant_id=None, content=[MessageContentText(text=Text(annotations=[], value='I need to solve the equation `3x + 11 = 14`. Can you help me?'), type='text')], created_at=1705033554, file_ids=[], metadata={}, object='thread.message', role='user', run_id=None, thread_id='thread_wEEkhDtTWJOwmb63SQEb8IgA')"
      ]
     },
     "execution_count": 17,
     "metadata": {},
     "output_type": "execute_result"
    }
   ],
   "source": [
    "message = client.beta.threads.messages.create(\n",
    "    thread_id=thread.id,\n",
    "    role=\"user\",\n",
    "    content=\"I need to solve the equation `3x + 11 = 14`. Can you help me?\"\n",
    ")\n",
    "message"
   ]
  },
  {
   "cell_type": "markdown",
   "metadata": {},
   "source": [
    "## Run the assistant in a thread"
   ]
  },
  {
   "cell_type": "code",
   "execution_count": 18,
   "metadata": {},
   "outputs": [],
   "source": [
    "run = client.beta.threads.runs.create(\n",
    "  thread_id=thread.id,\n",
    "  assistant_id=assistant.id,\n",
    "  instructions=\"Please address the user as Jane Doe. The user has a premium account.\"\n",
    ")"
   ]
  },
  {
   "cell_type": "markdown",
   "metadata": {},
   "source": [
    "### Retrieve the run"
   ]
  },
  {
   "cell_type": "code",
   "execution_count": 19,
   "metadata": {},
   "outputs": [
    {
     "data": {
      "text/plain": [
       "Run(id='run_SzQXm4lGtaQqj7ZeUwYFVLKY', assistant_id='asst_hYxH4avXjvyst98J89Yq4IQ3', cancelled_at=None, completed_at=None, created_at=1705033554, expires_at=1705034154, failed_at=None, file_ids=[], instructions='Please address the user as Jane Doe. The user has a premium account.', last_error=None, metadata={}, model='gpt-4-turbo-test', object='thread.run', required_action=None, started_at=None, status='queued', thread_id='thread_wEEkhDtTWJOwmb63SQEb8IgA', tools=[ToolAssistantToolsCode(type='code_interpreter')])"
      ]
     },
     "execution_count": 19,
     "metadata": {},
     "output_type": "execute_result"
    }
   ],
   "source": [
    "run = client.beta.threads.runs.retrieve(\n",
    "  thread_id=thread.id,\n",
    "  run_id=run.id\n",
    ")\n",
    "run"
   ]
  },
  {
   "cell_type": "markdown",
   "metadata": {},
   "source": [
    "### Get and print the messages"
   ]
  },
  {
   "cell_type": "code",
   "execution_count": 20,
   "metadata": {},
   "outputs": [
    {
     "name": "stdout",
     "output_type": "stream",
     "text": [
      "user I need to solve the equation `3x + 11 = 14`. Can you help me?\n"
     ]
    }
   ],
   "source": [
    "messages = client.beta.threads.messages.list(\n",
    "  thread_id=thread.id\n",
    ")\n",
    "for msg in messages:\n",
    "  #print(msg)\n",
    "  content = msg.content\n",
    "  for line in content:\n",
    "    txt = line.text\n",
    "    print(msg.role,txt.value)"
   ]
  },
  {
   "cell_type": "markdown",
   "metadata": {},
   "source": [
    "### List all running assistants in the model"
   ]
  },
  {
   "cell_type": "code",
   "execution_count": 21,
   "metadata": {},
   "outputs": [
    {
     "name": "stdout",
     "output_type": "stream",
     "text": [
      "Assistant(id='asst_hYxH4avXjvyst98J89Yq4IQ3', created_at=1705033553, description=None, file_ids=[], instructions='You are a personal math tutor. Write and run code to answer math questions.', metadata={}, model='gpt-4-turbo-test', name='Math Tutor', object='assistant', tools=[ToolCodeInterpreter(type='code_interpreter')])\n",
      "Assistant(id='asst_vjEEATln0nSomn1VzE8y8P4a', created_at=1705033018, description=None, file_ids=[], instructions='You are a personal math tutor. Write and run code to answer math questions.', metadata={}, model='gpt-4-turbo-test', name='Math Tutor', object='assistant', tools=[ToolCodeInterpreter(type='code_interpreter')])\n",
      "Assistant(id='asst_PAWDmOO0941frce6sZQdTaE7', created_at=1705031991, description=None, file_ids=[], instructions='You are a personal math tutor. Write and run code to answer math questions.', metadata={}, model='gpt-4-turbo-test', name='Math Tutor', object='assistant', tools=[ToolCodeInterpreter(type='code_interpreter')])\n",
      "Assistant(id='asst_nBwmy53mhSnpwFyMuPWLpUk9', created_at=1705031920, description=None, file_ids=[], instructions='You are a personal math tutor. Write and run code to answer math questions.', metadata={}, model='gpt-4-turbo-test', name='Math Tutor', object='assistant', tools=[ToolCodeInterpreter(type='code_interpreter')])\n",
      "Assistant(id='asst_q2gHLaHDLyHcW3RGuMSDYSoA', created_at=1705031836, description=None, file_ids=[], instructions='You are a personal math tutor. Write and run code to answer math questions.', metadata={}, model='gpt-4-turbo-test', name='Math Tutor', object='assistant', tools=[ToolCodeInterpreter(type='code_interpreter')])\n",
      "Assistant(id='asst_74OhjhNSE4He2h4ygBvrG9g7', created_at=1705031814, description=None, file_ids=[], instructions='You are a personal math tutor. Write and run code to answer math questions.', metadata={}, model='gpt-4-turbo-test', name='Math Tutor', object='assistant', tools=[ToolCodeInterpreter(type='code_interpreter')])\n",
      "Assistant(id='asst_AzTWfTsf942ye1JukWO4wM5A', created_at=1705031800, description=None, file_ids=[], instructions='You are a personal math tutor. Write and run code to answer math questions.', metadata={}, model='gpt-4-turbo-test', name='Math Tutor', object='assistant', tools=[ToolCodeInterpreter(type='code_interpreter')])\n",
      "Assistant(id='asst_k8pN8hkEFoEp2NddikDhxiL7', created_at=1705031783, description=None, file_ids=[], instructions='You are a personal math tutor. Write and run code to answer math questions.', metadata={}, model='gpt-4-turbo-test', name='Math Tutor', object='assistant', tools=[ToolCodeInterpreter(type='code_interpreter')])\n",
      "Assistant(id='asst_1RupRdUTTEq0iHZeNAuDJbM0', created_at=1705030509, description=None, file_ids=[], instructions='You are a personal math tutor. Write and run code to answer math questions.', metadata={}, model='gpt-4-turbo-test', name='Math Tutor', object='assistant', tools=[ToolCodeInterpreter(type='code_interpreter')])\n",
      "Assistant(id='asst_VDcLryFAtpTTrJL3g0NDsAmc', created_at=1705030188, description=None, file_ids=[], instructions='You are a personal math tutor. Write and run code to answer math questions.', metadata={}, model='gpt-4-turbo-test', name='Math Tutor', object='assistant', tools=[ToolCodeInterpreter(type='code_interpreter')])\n",
      "Assistant(id='asst_mr57VfppzK7Ts4QENCbP09ws', created_at=1705030124, description=None, file_ids=[], instructions='You are a personal math tutor. Write and run code to answer math questions.', metadata={}, model='gpt-4-turbo-test', name='Math Tutor', object='assistant', tools=[ToolCodeInterpreter(type='code_interpreter')])\n",
      "Assistant(id='asst_mbV2iQ0EleycNSOpYRQFEfRa', created_at=1705030064, description=None, file_ids=[], instructions='You are an AI model that empowers every person and every organization on the planet to achieve more.', metadata={}, model='gpt-4-turbo-test', name=None, object='assistant', tools=[])\n",
      "Assistant(id='asst_Vug6WKjboOlCWyJiro3YTJho', created_at=1705029989, description=None, file_ids=[], instructions='You are an AI model that empowers every person and every organization on the planet to achieve more.', metadata={}, model='gpt-4-turbo-test', name=None, object='assistant', tools=[])\n",
      "Assistant(id='asst_9y3C0F7h0TgDxJlePLmNZKCj', created_at=1705029954, description=None, file_ids=[], instructions='You are an AI model that empowers every person and every organization on the planet to achieve more.', metadata={}, model='gpt-4-turbo-test', name=None, object='assistant', tools=[])\n",
      "Assistant(id='asst_J5wz2Dq3kt1hf55AT75g08Qm', created_at=1705029823, description=None, file_ids=[], instructions='You are an AI model that empowers every person and every organization on the planet to achieve more.', metadata={}, model='gpt-4-turbo-test', name=None, object='assistant', tools=[])\n",
      "Assistant(id='asst_XLekKlheqC2czp1zGS23i1on', created_at=1705029753, description=None, file_ids=[], instructions='You are an AI model that empowers every person and every organization on the planet to achieve more.', metadata={}, model='gpt-4-turbo-test', name=None, object='assistant', tools=[])\n",
      "Assistant(id='asst_zlSf0ZdZRwcC6zZT8W0Z1Pvm', created_at=1705029541, description=None, file_ids=[], instructions='You are an AI model that empowers every person and every organization on the planet to achieve more.', metadata={}, model='gpt-4-turbo-test', name=None, object='assistant', tools=[])\n",
      "Assistant(id='asst_ICOmT0mj1JaZc6vnsJAQhLX3', created_at=1705029540, description=None, file_ids=[], instructions='You are an AI model that empowers every person and every organization on the planet to achieve more.', metadata={}, model='gpt-4-turbo-test', name=None, object='assistant', tools=[])\n",
      "Assistant(id='asst_QUIPvivr2bEJQXnH6syPrRbL', created_at=1705029113, description=None, file_ids=[], instructions='You are an AI model that empowers every person and every organization on the planet to achieve more.', metadata={}, model='gpt-4-turbo-test', name=None, object='assistant', tools=[])\n",
      "Assistant(id='asst_KaQ4c0rUro7iGWHthQcpOp72', created_at=1705018845, description=None, file_ids=[], instructions='You are a personal math tutor. When asked a question, write and run Python code to answer the question.', metadata={}, model='assistants-test-1', name='AIRT Math Tutor', object='assistant', tools=[])\n"
     ]
    }
   ],
   "source": [
    "# List the registered assistants\n",
    "assistants = client.beta.assistants.list()\n",
    "for assistant in assistants.data:\n",
    "    print(assistant)\n"
   ]
  }
 ],
 "metadata": {
  "kernelspec": {
   "display_name": "v31012",
   "language": "python",
   "name": "python3"
  },
  "language_info": {
   "codemirror_mode": {
    "name": "ipython",
    "version": 3
   },
   "file_extension": ".py",
   "mimetype": "text/x-python",
   "name": "python",
   "nbconvert_exporter": "python",
   "pygments_lexer": "ipython3",
   "version": "3.10.12"
  }
 },
 "nbformat": 4,
 "nbformat_minor": 2
}
