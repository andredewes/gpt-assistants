{
 "cells": [
  {
   "cell_type": "markdown",
   "metadata": {},
   "source": [
    "# Assistant-02<br/>Assistant Framework\n",
    "\n",
    "This notebook showcases a foundational framework to work with Assistants.\n",
    "\n",
    "### Get an OpenAI client and an Assistant\n",
    "\n",
    "**Note:** When configuring the OpenAI client, the API version, the model version, and endpoint are \"new\"."
   ]
  },
  {
   "cell_type": "code",
   "execution_count": 1,
   "metadata": {},
   "outputs": [],
   "source": [
    "import common\n",
    "import oaihelper as framework\n",
    "\n",
    "## Get an OpenAI client\n",
    "client = framework.get_openai_client()\n",
    "\n",
    "## Create an assistant\n",
    "math_tutor_assistant = framework.create_assistant(client,\"Math Tutor\",\"You are a personal math tutor. Write and run code to answer math questions.\", [{\"type\": \"code_interpreter\"}], common.gpt_deployment_name)"
   ]
  },
  {
   "cell_type": "markdown",
   "metadata": {},
   "source": [
    "## Test messages and recall the threads across users"
   ]
  },
  {
   "cell_type": "code",
   "execution_count": 2,
   "metadata": {},
   "outputs": [
    {
     "name": "stdout",
     "output_type": "stream",
     "text": [
      "Retrieving existing thread for John with wa_id 123\n",
      "Generated message: 2 + 2 equals 4.\n",
      "To John: 2 + 2 equals 4.\n",
      "Retrieving existing thread for Sarah with wa_id 456\n",
      "Generated message: The expression \\( x \\times x \\) simplifies to \\( x^2 \\), which represents the square of the variable \\( x \\).\n",
      "To Sarah: The expression \\( x \\times x \\) simplifies to \\( x^2 \\), which represents the square of the variable \\( x \\).\n"
     ]
    }
   ],
   "source": [
    "\n",
    "\n",
    "new_message = framework.generate_response(client,math_tutor_assistant,\"What's 2+2\", \"123\", \"John\")\n",
    "\n",
    "new_message = framework.generate_response(client,math_tutor_assistant,\"What's x*x?\", \"456\", \"Sarah\")\n",
    "\n",
    "#new_message = framework.generate_response(client,math_tutor_assistant,\"What the value of x, for x=m*y+5, if y=2 and m=-10?\", \"123\", \"John\")\n",
    "\n",
    "#new_message = framework.generate_response(client,math_tutor_assistant,\"What is the value of y, for y=x*x?, if x=2?\", \"456\", \"Sarah\")"
   ]
  },
  {
   "cell_type": "code",
   "execution_count": 3,
   "metadata": {},
   "outputs": [],
   "source": [
    "golang_tutor = framework.create_assistant(client,\"Golang\",\"You are an assistant that can help write and explain Go code.\", None, common.gpt_deployment_name)"
   ]
  },
  {
   "cell_type": "code",
   "execution_count": 4,
   "metadata": {},
   "outputs": [
    {
     "name": "stdout",
     "output_type": "stream",
     "text": [
      "Retrieving existing thread for Victor with wa_id 789\n",
      "Generated message: Below is a Go application that calculates the 1001st prime number. You can run it on your local development setup.\n",
      "\n",
      "```go\n",
      "package main\n",
      "\n",
      "import (\n",
      "\t\"fmt\"\n",
      ")\n",
      "\n",
      "// isPrime checks if a number is a prime number by checking divisibility\n",
      "// on numbers less than or equal to its square root.\n",
      "func isPrime(number int) bool {\n",
      "\tif number <= 1 {\n",
      "\t\treturn false\n",
      "\t}\n",
      "\tif number == 2 {\n",
      "\t\treturn true\n",
      "\t}\n",
      "\tif number%2 == 0 {\n",
      "\t\treturn false\n",
      "\t}\n",
      "\tfor i := 3; i*i <= number; i += 2 {\n",
      "\t\tif number%i == 0 {\n",
      "\t\t\treturn false\n",
      "\t\t}\n",
      "\t}\n",
      "\treturn true\n",
      "}\n",
      "\n",
      "// findNthPrime finds the nth prime number by iterating over natural numbers\n",
      "// and checking for prime status until n primes have been found.\n",
      "func findNthPrime(n int) int {\n",
      "\tcount := 0\n",
      "\tnumber := 1\n",
      "\tfor count < n {\n",
      "\t\tnumber++\n",
      "\t\tif isPrime(number) {\n",
      "\t\t\tcount++\n",
      "\t\t}\n",
      "\t}\n",
      "\treturn number\n",
      "}\n",
      "\n",
      "func main() {\n",
      "\tnthPrimeNumber := findNthPrime(1001)\n",
      "\tfmt.Printf(\"The 1001st prime number is: %d\\n\", nthPrimeNumber)\n",
      "}\n",
      "```\n",
      "\n",
      "Save this code to a file with a `.go` extension, for example, `find_prime.go`. To execute the program, you need to have Go installed on your computer. Open your command line, navigate to the directory where the file is located, and run the following commands:\n",
      "\n",
      "```bash\n",
      "go run find_prime.go\n",
      "```\n",
      "\n",
      "This command will compile and run your Go program, printing the 1001st prime number to the console. If you prefer to compile it first and then run the executable, you can use `go build` followed by the execution of the generated file.\n",
      "To Victor: Below is a Go application that calculates the 1001st prime number. You can run it on your local development setup.\n",
      "\n",
      "```go\n",
      "package main\n",
      "\n",
      "import (\n",
      "\t\"fmt\"\n",
      ")\n",
      "\n",
      "// isPrime checks if a number is a prime number by checking divisibility\n",
      "// on numbers less than or equal to its square root.\n",
      "func isPrime(number int) bool {\n",
      "\tif number <= 1 {\n",
      "\t\treturn false\n",
      "\t}\n",
      "\tif number == 2 {\n",
      "\t\treturn true\n",
      "\t}\n",
      "\tif number%2 == 0 {\n",
      "\t\treturn false\n",
      "\t}\n",
      "\tfor i := 3; i*i <= number; i += 2 {\n",
      "\t\tif number%i == 0 {\n",
      "\t\t\treturn false\n",
      "\t\t}\n",
      "\t}\n",
      "\treturn true\n",
      "}\n",
      "\n",
      "// findNthPrime finds the nth prime number by iterating over natural numbers\n",
      "// and checking for prime status until n primes have been found.\n",
      "func findNthPrime(n int) int {\n",
      "\tcount := 0\n",
      "\tnumber := 1\n",
      "\tfor count < n {\n",
      "\t\tnumber++\n",
      "\t\tif isPrime(number) {\n",
      "\t\t\tcount++\n",
      "\t\t}\n",
      "\t}\n",
      "\treturn number\n",
      "}\n",
      "\n",
      "func main() {\n",
      "\tnthPrimeNumber := findNthPrime(1001)\n",
      "\tfmt.Printf(\"The 1001st prime number is: %d\\n\", nthPrimeNumber)\n",
      "}\n",
      "```\n",
      "\n",
      "Save this code to a file with a `.go` extension, for example, `find_prime.go`. To execute the program, you need to have Go installed on your computer. Open your command line, navigate to the directory where the file is located, and run the following commands:\n",
      "\n",
      "```bash\n",
      "go run find_prime.go\n",
      "```\n",
      "\n",
      "This command will compile and run your Go program, printing the 1001st prime number to the console. If you prefer to compile it first and then run the executable, you can use `go build` followed by the execution of the generated file.\n"
     ]
    }
   ],
   "source": [
    "new_message = framework.generate_response(client,golang_tutor,\"Write a Go application to find the 1001st prime number.\", \"789\", \"Victor\")"
   ]
  },
  {
   "cell_type": "code",
   "execution_count": 5,
   "metadata": {},
   "outputs": [],
   "source": [
    "#csv_analyzer_tutor = framework.create_assistant(client,\"\",\"You are an assistant that can help write and explain Go code.\", [{\"type\": \"code_interpreter\"}], common.gpt_deployment_name)\n",
    "web_parser_assistant = framework.create_assistant(client, \"Web Parser\", \"You are an assistant that can get scrape a web page and download the content.\", [{\"type\": \"code_interpreter\"}], common.gpt_deployment_name)"
   ]
  },
  {
   "cell_type": "code",
   "execution_count": 6,
   "metadata": {},
   "outputs": [
    {
     "name": "stdout",
     "output_type": "stream",
     "text": [
      "Retrieving existing thread for Victor with wa_id 789\n",
      "Generated message: It appears I made an error by attempting to perform an action that I am not capable of due to the restrictions of my current environment. I do not have the ability to directly access or interact with external websites, including the GitHub API.\n",
      "\n",
      "To fetch the content from `https://api.github.com/users/Welasco`, you will need to execute the Python script provided in previous messages on your own local machine, which has access to the internet.\n",
      "\n",
      "If you require assistance in any other way or have questions on how to execute the code, please feel free to ask!\n",
      "To Victor: It appears I made an error by attempting to perform an action that I am not capable of due to the restrictions of my current environment. I do not have the ability to directly access or interact with external websites, including the GitHub API.\n",
      "\n",
      "To fetch the content from `https://api.github.com/users/Welasco`, you will need to execute the Python script provided in previous messages on your own local machine, which has access to the internet.\n",
      "\n",
      "If you require assistance in any other way or have questions on how to execute the code, please feel free to ask!\n"
     ]
    }
   ],
   "source": [
    "new_message = framework.generate_response(client,web_parser_assistant,\"Can you help call the website at https://api.github.com/users/Welasco and get the content.\", \"789\", \"Victor\")"
   ]
  },
  {
   "cell_type": "code",
   "execution_count": 7,
   "metadata": {},
   "outputs": [
    {
     "name": "stdout",
     "output_type": "stream",
     "text": [
      "AssistantDeleted(id='asst_m3VuNaQz8DQLMbxBmjrPFYnL', deleted=True, object='assistant.deleted')\n",
      "AssistantDeleted(id='asst_5k5iTP8PXB6dXdTXn3sylo5r', deleted=True, object='assistant.deleted')\n",
      "AssistantDeleted(id='asst_W9IC1zZYLGUMQfEtskJav9Dm', deleted=True, object='assistant.deleted')\n"
     ]
    }
   ],
   "source": [
    "framework.cleanup(client)"
   ]
  }
 ],
 "metadata": {
  "kernelspec": {
   "display_name": "v31012",
   "language": "python",
   "name": "python3"
  },
  "language_info": {
   "codemirror_mode": {
    "name": "ipython",
    "version": 3
   },
   "file_extension": ".py",
   "mimetype": "text/x-python",
   "name": "python",
   "nbconvert_exporter": "python",
   "pygments_lexer": "ipython3",
   "version": "3.10.12"
  }
 },
 "nbformat": 4,
 "nbformat_minor": 2
}
