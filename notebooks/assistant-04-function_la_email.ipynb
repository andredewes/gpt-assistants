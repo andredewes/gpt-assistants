{
 "cells": [
  {
   "cell_type": "markdown",
   "metadata": {},
   "source": [
    "# Assistant-04<br/>Function calling\n",
    "\n",
    "## Trading Assistant with email functionality\n",
    "\n",
    "## Credits\n",
    "\n",
    "- https://mer.vin/2023/11/openai-assistants-api-function-calling/\n",
    "\n",
    "## Email functionality\n",
    "\n",
    "- Implemented using Logic Apps with an Http POST trigger\n",
    "\n",
    "### Get an OpenAI client and an Assistant\n",
    "\n",
    "**Note:** When configuring the OpenAI client, the API version, the model version, and endpoint are \"new\"."
   ]
  },
  {
   "cell_type": "code",
   "execution_count": 1,
   "metadata": {},
   "outputs": [],
   "source": [
    "import common\n",
    "import time\n",
    "import requests\n",
    "import oaihelper as framework\n",
    "import yfinance as yf\n",
    "\n",
    "\n",
    "## Get an OpenAI client\n",
    "client = framework.get_openai_client()"
   ]
  },
  {
   "cell_type": "markdown",
   "metadata": {},
   "source": [
    "### Retreive the latest stock price using Yahoo Finance"
   ]
  },
  {
   "cell_type": "code",
   "execution_count": 2,
   "metadata": {},
   "outputs": [],
   "source": [
    "def get_stock_price(symbol: str) -> float:\n",
    "    stock = yf.Ticker(symbol)\n",
    "    price = stock.history(period=\"1d\")['Close'].iloc[-1]    \n",
    "    return price\n",
    "\n",
    "def send_post_request(json_payload):\n",
    "    headers = {'Content-Type': 'application/json'}\n",
    "    response = requests.post(framework.email_URI, json=json_payload, headers=headers)\n",
    "    if response.status_code == 202:\n",
    "        print(\"Email sent to: \" + json_payload['to'])    \n"
   ]
  },
  {
   "cell_type": "markdown",
   "metadata": {},
   "source": [
    "### Prepare the tool for function calling"
   ]
  },
  {
   "cell_type": "code",
   "execution_count": 3,
   "metadata": {},
   "outputs": [],
   "source": [
    "tools_list = [{\n",
    "    \"type\": \"function\",\n",
    "    \"function\": {\n",
    "\n",
    "        \"name\": \"get_stock_price\",\n",
    "        \"description\": \"Retrieve the latest closing price of a stock using its ticker symbol\",\n",
    "        \"parameters\": {\n",
    "            \"type\": \"object\",\n",
    "            \"properties\": {\n",
    "                \"symbol\": {\n",
    "                    \"type\": \"string\",\n",
    "                    \"description\": \"The ticker symbol of the stock\"\n",
    "                }\n",
    "            },\n",
    "            \"required\": [\"symbol\"]\n",
    "        }\n",
    "    }\n",
    "},\n",
    "{\n",
    "    \"type\": \"function\",\n",
    "    \"function\": {\n",
    "\n",
    "        \"name\": \"send_email\",\n",
    "        \"description\": \"sends an email to a recipient(s).\",\n",
    "        \"parameters\": {\n",
    "            \"type\": \"object\",\n",
    "            \"properties\": {\n",
    "                \"to\": {\n",
    "                    \"type\": \"string\",\n",
    "                    \"description\": \"The email(s) the email should be sent to.\"\n",
    "                },\n",
    "                \"content\": {\n",
    "                    \"type\": \"string\",\n",
    "                    \"description\": \"The content of the email.\"\n",
    "                }\n",
    "            },\n",
    "            \"required\": [\"to\", \"content\"]\n",
    "        }\n",
    "    }\n",
    "}]"
   ]
  },
  {
   "cell_type": "markdown",
   "metadata": {},
   "source": [
    "### Create the assistant"
   ]
  },
  {
   "cell_type": "code",
   "execution_count": 4,
   "metadata": {},
   "outputs": [
    {
     "name": "stdout",
     "output_type": "stream",
     "text": [
      "Added assistant:  asst_HVlo2U1RjNHJQVK8XWs7zFgZ 1\n"
     ]
    }
   ],
   "source": [
    "framework.clear_shelves()\n",
    "\n",
    "## Create an assistant\n",
    "stock_assistant = framework.create_assistant(client,\n",
    "                                                  name=\"fta-Securities Trading Assistant\",\n",
    "                                                  instructions=\"You are a personal securities trading assistant. Please be polite, professional, helpful, and friendly.\", \n",
    "                                                  tools=tools_list, \n",
    "                                                  model=common.gpt_deployment_name)"
   ]
  },
  {
   "cell_type": "markdown",
   "metadata": {},
   "source": [
    "### Create a thread, put a message on the thread, and view the initial status"
   ]
  },
  {
   "cell_type": "code",
   "execution_count": 5,
   "metadata": {},
   "outputs": [],
   "source": [
    "# Step 2: Create a Thread\n",
    "thread = client.beta.threads.create()\n",
    "\n",
    "# Step 3: Add a Message to a Thread\n",
    "message = client.beta.threads.messages.create(\n",
    "    thread_id=thread.id,\n",
    "    role=\"user\",\n",
    "    content=\"Can you please provide me the latest stock prices for Microsoft and NVIDIA? Please send an email to: alemor@microsoft.com, vsantana@microsoft.com, andres.padilla@microsoft.com, andredewes@microsoft.com with the results.\"\n",
    ")\n",
    "\n",
    "# Step 4: Run the Assistant\n",
    "run = client.beta.threads.runs.create(\n",
    "    thread_id=thread.id,\n",
    "    assistant_id=stock_assistant.id\n",
    ")\n",
    "\n",
    "#print(run.model_dump_json(indent=4))"
   ]
  },
  {
   "cell_type": "markdown",
   "metadata": {},
   "source": [
    "### Process the message, function calling leveraging the latest stock prices, print the results and dispose of the objects"
   ]
  },
  {
   "cell_type": "code",
   "execution_count": 6,
   "metadata": {},
   "outputs": [
    {
     "name": "stdout",
     "output_type": "stream",
     "text": [
      "Waiting for the Assistant to process...\n",
      "Waiting for the Assistant to process...\n",
      "Waiting for the Assistant to process...\n",
      "Waiting for the Assistant to process...\n",
      "Waiting for the Assistant to process...\n",
      "Waiting for the Assistant to process...\n",
      "Waiting for the Assistant to process...\n",
      "Function Calling\n",
      "{'tool_calls': [{'id': 'call_kiAnfllx8jIfLHPD2EEipW4A', 'function': {'arguments': '{\"symbol\": \"MSFT\"}', 'name': 'get_stock_price'}, 'type': 'function'}, {'id': 'call_d80J5ANlpMhVAG7K848Fwqbp', 'function': {'arguments': '{\"symbol\": \"NVDA\"}', 'name': 'get_stock_price'}, 'type': 'function'}]}\n",
      "Submitting outputs back to the Assistant...\n",
      "Waiting for the Assistant to process...\n",
      "Waiting for the Assistant to process...\n",
      "Function Calling\n",
      "{'tool_calls': [{'id': 'call_UxJ9bxVanWSv8OQpXfz5gnrh', 'function': {'arguments': '{\\n  \"to\": \"alemor@microsoft.com, vsantana@microsoft.com, andres.padilla@microsoft.com, andredewes@microsoft.com\",\\n  \"content\": \"Dear Microsoft team,\\\\n\\\\nPlease find the latest closing stock prices for:\\\\nMicrosoft (MSFT): $388.47\\\\nNVIDIA (NVDA): $547.10\\\\n\\\\nBest regards,\\\\nPersonal Securities Trading Assistant\"\\n}', 'name': 'send_email'}, 'type': 'function'}]}\n",
      "Sending email...\n",
      "Email sent to: alemor@microsoft.com, vsantana@microsoft.com, andres.padilla@microsoft.com, andredewes@microsoft.com\n",
      "Submitting outputs back to the Assistant...\n",
      "Waiting for the Assistant to process...\n",
      "Waiting for the Assistant to process...\n",
      "Assistant: The latest stock prices have been retrieved and an email with the results has been sent to the specified recipients at Microsoft. \n",
      "\n",
      "Here are the prices for your reference:\n",
      "- Microsoft (MSFT): $388.47\n",
      "- NVIDIA (NVDA): $547.10\n",
      "\n",
      "If you need any further assistance, please let me know!\n",
      "User: Can you please provide me the latest stock prices for Microsoft and NVIDIA? Please send an email to: alemor@microsoft.com, vsantana@microsoft.com, andres.padilla@microsoft.com, andredewes@microsoft.com with the results.\n",
      "ThreadDeleted(id='thread_paUBDKooChXJM187Bjh1V1f1', deleted=True, object='thread.deleted')\n",
      "AssistantDeleted(id='asst_HVlo2U1RjNHJQVK8XWs7zFgZ', deleted=True, object='assistant.deleted')\n"
     ]
    }
   ],
   "source": [
    "while True:\n",
    "    # Wait for 1 seconds\n",
    "    time.sleep(1)\n",
    "\n",
    "    # Retrieve the run status\n",
    "    run_status = client.beta.threads.runs.retrieve(\n",
    "        thread_id=thread.id,\n",
    "        run_id=run.id\n",
    "    )\n",
    "    #print(run_status.model_dump_json(indent=4))\n",
    "\n",
    "    # If run is completed, get messages\n",
    "    if run_status.status == 'completed':\n",
    "        messages = client.beta.threads.messages.list(\n",
    "            thread_id=thread.id\n",
    "        )\n",
    "\n",
    "        # Loop through messages and print content based on role\n",
    "        for msg in messages.data:\n",
    "            role = msg.role\n",
    "            content = msg.content[0].text.value\n",
    "            print(f\"{role.capitalize()}: {content}\")\n",
    "\n",
    "        ## Cleanup\n",
    "        print(client.beta.threads.delete(thread.id))\n",
    "        print(client.beta.assistants.delete(stock_assistant.id))\n",
    "\n",
    "        break\n",
    "    elif run_status.status == 'requires_action':\n",
    "        print(\"Function Calling\")\n",
    "        required_actions = run_status.required_action.submit_tool_outputs.model_dump()\n",
    "        print(required_actions)\n",
    "        tool_outputs = []\n",
    "        import json\n",
    "        for action in required_actions[\"tool_calls\"]:\n",
    "            func_name = action['function']['name']\n",
    "            arguments = json.loads(action['function']['arguments'])\n",
    "            \n",
    "            if func_name == \"get_stock_price\":\n",
    "                output = get_stock_price(symbol=arguments['symbol'])\n",
    "                tool_outputs.append({\n",
    "                    \"tool_call_id\": action['id'],\n",
    "                    \"output\": output\n",
    "                })\n",
    "            elif func_name == \"send_email\":\n",
    "                print(\"Sending email...\")\n",
    "                email_to = arguments['to']\n",
    "                email_content = arguments['content']\n",
    "                send_post_request({'to': email_to,'content':email_content})\n",
    "                \n",
    "                tool_outputs.append({\n",
    "                    \"tool_call_id\": action['id'],\n",
    "                    \"output\": \"Email sent\"\n",
    "                })\n",
    "            else:\n",
    "                raise ValueError(f\"Unknown function: {func_name}\")\n",
    "            \n",
    "        print(\"Submitting outputs back to the Assistant...\")\n",
    "        client.beta.threads.runs.submit_tool_outputs(\n",
    "            thread_id=thread.id,\n",
    "            run_id=run.id,\n",
    "            tool_outputs=tool_outputs\n",
    "        )\n",
    "    else:\n",
    "        print(\"Waiting for the Assistant to process...\")\n",
    "        time.sleep(1)"
   ]
  }
 ],
 "metadata": {
  "kernelspec": {
   "display_name": "v31012",
   "language": "python",
   "name": "python3"
  },
  "language_info": {
   "codemirror_mode": {
    "name": "ipython",
    "version": 3
   },
   "file_extension": ".py",
   "mimetype": "text/x-python",
   "name": "python",
   "nbconvert_exporter": "python",
   "pygments_lexer": "ipython3",
   "version": "3.10.12"
  }
 },
 "nbformat": 4,
 "nbformat_minor": 2
}
