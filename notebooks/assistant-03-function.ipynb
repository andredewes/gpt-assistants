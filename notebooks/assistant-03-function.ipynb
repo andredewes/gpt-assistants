{
 "cells": [
  {
   "cell_type": "markdown",
   "metadata": {},
   "source": [
    "# Assistant-03<br/>Function calling - Trading Assistant\n",
    "\n",
    "## Credits\n",
    "\n",
    "- https://mer.vin/2023/11/openai-assistants-api-function-calling/\n",
    "\n",
    "### Get an OpenAI client and an Assistant\n",
    "\n",
    "**Note:** When configuring the OpenAI client, the API version, the model version, and endpoint are \"new\"."
   ]
  },
  {
   "cell_type": "code",
   "execution_count": 1,
   "metadata": {},
   "outputs": [],
   "source": [
    "import oaihelper as framework\n",
    "import yfinance as yf\n",
    "\n",
    "## Get an OpenAI client\n",
    "client = framework.get_openai_client(api_key=framework.api_KEY,\n",
    "        api_version=framework.api_version,\n",
    "        azure_endpoint=framework.api_URI,)"
   ]
  },
  {
   "cell_type": "markdown",
   "metadata": {},
   "source": [
    "### Retreive the latest stock price using Yahoo Finance"
   ]
  },
  {
   "cell_type": "code",
   "execution_count": 2,
   "metadata": {},
   "outputs": [],
   "source": [
    "def get_stock_price(symbol: str) -> float:\n",
    "    stock = yf.Ticker(symbol)\n",
    "    price = stock.history(period=\"1d\")['Close'].iloc[-1]\n",
    "    return price"
   ]
  },
  {
   "cell_type": "markdown",
   "metadata": {},
   "source": [
    "### Prepare the tool for function calling"
   ]
  },
  {
   "cell_type": "code",
   "execution_count": 3,
   "metadata": {},
   "outputs": [],
   "source": [
    "tools_list = [{\n",
    "    \"type\": \"function\",\n",
    "    \"function\": {\n",
    "\n",
    "        \"name\": \"get_stock_price\",\n",
    "        \"description\": \"Retrieve the latest closing price of a stock using its ticker symbol\",\n",
    "        \"parameters\": {\n",
    "            \"type\": \"object\",\n",
    "            \"properties\": {\n",
    "                \"symbol\": {\n",
    "                    \"type\": \"string\",\n",
    "                    \"description\": \"The ticker symbol of the stock\"\n",
    "                }\n",
    "            },\n",
    "            \"required\": [\"symbol\"]\n",
    "        }\n",
    "    }\n",
    "}]"
   ]
  },
  {
   "cell_type": "markdown",
   "metadata": {},
   "source": [
    "### Create the assistant"
   ]
  },
  {
   "cell_type": "code",
   "execution_count": 4,
   "metadata": {},
   "outputs": [
    {
     "name": "stdout",
     "output_type": "stream",
     "text": [
      "Added assistant:  asst_KJ0leGJW4NZTDIYwogl3IqMK 1\n"
     ]
    }
   ],
   "source": [
    "framework.clear_shelves()\n",
    "\n",
    "## Create an assistant\n",
    "stock_assistant = framework.create_assistant(client,\n",
    "                                                  name=\"fta-Securities Trading Assistant\",\n",
    "                                                  instructions=\"You are a personal securities trading assistant. Please be polite, professional, helpful, and friendly.\", \n",
    "                                                  tools=tools_list, \n",
    "                                                  model=framework.gpt_deployment_name)"
   ]
  },
  {
   "cell_type": "markdown",
   "metadata": {},
   "source": [
    "### Handle Processing functions"
   ]
  },
  {
   "cell_type": "code",
   "execution_count": 5,
   "metadata": {},
   "outputs": [],
   "source": [
    "def function_calling_delegate(client, thread, run):\n",
    "    print(\"Function Calling\")\n",
    "    required_actions = run.required_action.submit_tool_outputs.model_dump()\n",
    "    print(required_actions)\n",
    "    tool_outputs = []\n",
    "    import json\n",
    "    for action in required_actions[\"tool_calls\"]:\n",
    "        func_name = action['function']['name']\n",
    "        arguments = json.loads(action['function']['arguments'])\n",
    "        \n",
    "        if func_name == \"get_stock_price\":\n",
    "            output = get_stock_price(symbol=arguments['symbol'])\n",
    "            tool_outputs.append({\n",
    "                \"tool_call_id\": action['id'],\n",
    "                \"output\": output\n",
    "            })\n",
    "        else:\n",
    "            raise ValueError(f\"Unknown function: {func_name}\")\n",
    "        \n",
    "    print(\"Submitting outputs back to the Assistant...\")\n",
    "    client.beta.threads.runs.submit_tool_outputs(\n",
    "        thread_id=thread.id,\n",
    "        run_id=run.id,\n",
    "        tool_outputs=tool_outputs\n",
    "    )"
   ]
  },
  {
   "cell_type": "markdown",
   "metadata": {},
   "source": [
    "### Process the messages, function calling leveraging the latest stock prices, print the results and dispose of the objects"
   ]
  },
  {
   "cell_type": "code",
   "execution_count": 6,
   "metadata": {},
   "outputs": [
    {
     "name": "stdout",
     "output_type": "stream",
     "text": [
      "Creating new thread for Alex with user_id 123\n",
      "Added thread:  thread_EOZUA5kiRSWqB5ChzjTGp2gV 1\n",
      "Function Calling\n",
      "{'tool_calls': [{'id': 'call_hn9czgizwH5FlUwQdSPkZF4c', 'function': {'arguments': '{\"symbol\": \"MSFT\"}', 'name': 'get_stock_price'}, 'type': 'function'}, {'id': 'call_xJmC530Ap7xMdTYETx214z9y', 'function': {'arguments': '{\"symbol\": \"NVDA\"}', 'name': 'get_stock_price'}, 'type': 'function'}]}\n",
      "Submitting outputs back to the Assistant...\n",
      "Generated message: The latest closing prices for the stocks are as follows:\n",
      "\n",
      "- Microsoft (MSFT): $388.76\n",
      "- NVIDIA (NVDA): $561.76\n",
      "\n",
      "Please note that stock prices fluctuate frequently during trading hours. These prices represent the last closing prices.\n",
      "To Alex: The latest closing prices for the stocks are as follows:\n",
      "\n",
      "- Microsoft (MSFT): $388.76\n",
      "- NVIDIA (NVDA): $561.76\n",
      "\n",
      "Please note that stock prices fluctuate frequently during trading hours. These prices represent the last closing prices.\n",
      "Retrieving existing thread for Alex with user_id 123\n",
      "Function Calling\n",
      "{'tool_calls': [{'id': 'call_cGHAqpz5ZyC8p5in4FCnvQZb', 'function': {'arguments': '{\"symbol\": \"AAPL\"}', 'name': 'get_stock_price'}, 'type': 'function'}, {'id': 'call_yLG8IITvC3xvxFzW7UAMyAlZ', 'function': {'arguments': '{\"symbol\": \"TSLA\"}', 'name': 'get_stock_price'}, 'type': 'function'}]}\n",
      "Submitting outputs back to the Assistant...\n",
      "Generated message: The latest closing prices for the stocks are as follows:\n",
      "\n",
      "- Apple (AAPL): $182.33\n",
      "- Tesla (TSLA): $220.13\n",
      "\n",
      "As with all stock prices, these are subject to change with market conditions and the time of day. These figures represent the last closing prices.\n",
      "To Alex: The latest closing prices for the stocks are as follows:\n",
      "\n",
      "- Apple (AAPL): $182.33\n",
      "- Tesla (TSLA): $220.13\n",
      "\n",
      "As with all stock prices, these are subject to change with market conditions and the time of day. These figures represent the last closing prices.\n"
     ]
    },
    {
     "data": {
      "text/plain": [
       "'The latest closing prices for the stocks are as follows:\\n\\n- Apple (AAPL): $182.33\\n- Tesla (TSLA): $220.13\\n\\nAs with all stock prices, these are subject to change with market conditions and the time of day. These figures represent the last closing prices.'"
      ]
     },
     "execution_count": 6,
     "metadata": {},
     "output_type": "execute_result"
    }
   ],
   "source": [
    "framework.generate_response(client,stock_assistant,\"Can you please provide me the latest stock prices for Microsoft and NVIDIA?\", \"123\", \"Alex\", function_calling_delegate)\n",
    "framework.generate_response(client,stock_assistant,\"Can you please provide me the latest stock prices for Apple and Tesla?\", \"123\", \"Alex\", function_calling_delegate)\n"
   ]
  },
  {
   "cell_type": "code",
   "execution_count": 7,
   "metadata": {},
   "outputs": [
    {
     "name": "stdout",
     "output_type": "stream",
     "text": [
      "Framework counts Assistants: 1, Threads: 1, Files: 0\n"
     ]
    }
   ],
   "source": [
    "assistants, threads, files = framework.get_counts()\n",
    "print(f\"Framework counts Assistants: {assistants}, Threads: {threads}, Files: {files}\")"
   ]
  },
  {
   "cell_type": "code",
   "execution_count": 8,
   "metadata": {},
   "outputs": [
    {
     "name": "stdout",
     "output_type": "stream",
     "text": [
      "Deleting:  1  assistants.\n",
      "AssistantDeleted(id='asst_KJ0leGJW4NZTDIYwogl3IqMK', deleted=True, object='assistant.deleted')\n",
      "Deleting:  1  threads.\n",
      "ThreadDeleted(id='thread_EOZUA5kiRSWqB5ChzjTGp2gV', deleted=True, object='thread.deleted')\n",
      "Deleting:  0  files.\n"
     ]
    }
   ],
   "source": [
    "framework.cleanup(client)"
   ]
  }
 ],
 "metadata": {
  "kernelspec": {
   "display_name": "v31012",
   "language": "python",
   "name": "python3"
  },
  "language_info": {
   "codemirror_mode": {
    "name": "ipython",
    "version": 3
   },
   "file_extension": ".py",
   "mimetype": "text/x-python",
   "name": "python",
   "nbconvert_exporter": "python",
   "pygments_lexer": "ipython3",
   "version": "3.10.12"
  }
 },
 "nbformat": 4,
 "nbformat_minor": 2
}
