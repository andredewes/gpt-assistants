{
 "cells": [
  {
   "cell_type": "markdown",
   "metadata": {},
   "source": [
    "# Assistant-02<br/>Assistant Framework\n",
    "\n",
    "This notebook showcases a foundational framework to work with Assistants.\n",
    "\n",
    "### Get an OpenAI client and an Assistant\n",
    "\n",
    "**Note:** When configuring the OpenAI client, the API version, the model version, and endpoint are \"new\"."
   ]
  },
  {
   "cell_type": "code",
   "execution_count": 1,
   "metadata": {},
   "outputs": [],
   "source": [
    "import oaihelper as helper\n",
    "\n",
    "## Get an OpenAI client\n",
    "client = helper.get_openai_client(api_key=helper.api_KEY,\n",
    "        api_version=helper.api_version,\n",
    "        azure_endpoint=helper.api_URI,)"
   ]
  },
  {
   "cell_type": "markdown",
   "metadata": {},
   "source": [
    "### Create an assistant with the code interpreter tool"
   ]
  },
  {
   "cell_type": "code",
   "execution_count": 2,
   "metadata": {},
   "outputs": [
    {
     "name": "stdout",
     "output_type": "stream",
     "text": [
      "Added assistant:  asst_CXpL4YjWjbtsx4L7Fn8XvmY3 1\n"
     ]
    }
   ],
   "source": [
    "## Clear the shelves\n",
    "helper.clear_shelves()\n",
    "\n",
    "## Create an assistant\n",
    "math_tutor_assistant = helper.create_assistant(client,\n",
    "                                                  name=\"fta-Math Tutor\",\n",
    "                                                  instructions=\"You are a personal math tutor. Write and run code to answer math questions.\", \n",
    "                                                  tools=[{\"type\": \"code_interpreter\"}], \n",
    "                                                  model=helper.gpt_deployment_name)"
   ]
  },
  {
   "cell_type": "markdown",
   "metadata": {},
   "source": [
    "### Call messages for different users, create a new thread if one does not exists, and reuse a thread if one exists.\n",
    "\n",
    "Here threads can be recalled based on a user_id. The system will create a new thread if it does not exist or reuse and existing one."
   ]
  },
  {
   "cell_type": "code",
   "execution_count": 3,
   "metadata": {},
   "outputs": [
    {
     "name": "stdout",
     "output_type": "stream",
     "text": [
      "Creating new thread for John with user_id 123\n",
      "Added thread:  thread_A0C20mOg3yAuw7b1qFSj6CNb 1\n",
      "Generated message: 2 + 2 equals 4.\n",
      "To John: 2 + 2 equals 4.\n",
      "Creating new thread for Sarah with user_id 456\n",
      "Added thread:  thread_e2APAnBw0Q1sVZrz0Kg9vvlB 2\n",
      "Generated message: The expression \\( x \\cdot x \\) simplifies to \\( x^2 \\).\n",
      "To Sarah: The expression \\( x \\cdot x \\) simplifies to \\( x^2 \\).\n",
      "Retrieving existing thread for John with user_id 123\n",
      "Generated message: The value of \\( x \\) for \\( x = m \\cdot y + 5 \\), where \\( y = 2 \\) and \\( m = -10 \\), is \\( -15 \\).\n",
      "To John: The value of \\( x \\) for \\( x = m \\cdot y + 5 \\), where \\( y = 2 \\) and \\( m = -10 \\), is \\( -15 \\).\n",
      "Retrieving existing thread for Sarah with user_id 456\n",
      "Generated message: The value of \\( y \\) for \\( y = x \\times x \\) when \\( x = 2 \\) is \\( 4 \\).\n",
      "To Sarah: The value of \\( y \\) for \\( y = x \\times x \\) when \\( x = 2 \\) is \\( 4 \\).\n"
     ]
    }
   ],
   "source": [
    "new_message = helper.generate_response(client,math_tutor_assistant,\"What's 2+2\", \"123\", \"John\")\n",
    "\n",
    "new_message = helper.generate_response(client,math_tutor_assistant,\"What's x*x?\", \"456\", \"Sarah\")\n",
    "\n",
    "new_message = helper.generate_response(client,math_tutor_assistant,\"What the value of x, for x=m*y+5, if y=2 and m=-10?\", \"123\", \"John\")\n",
    "\n",
    "new_message = helper.generate_response(client,math_tutor_assistant,\"What is the value of y, for y=x*x?, if x=2?\", \"456\", \"Sarah\")"
   ]
  },
  {
   "cell_type": "markdown",
   "metadata": {},
   "source": [
    "### Create another assistant without tools"
   ]
  },
  {
   "cell_type": "code",
   "execution_count": 4,
   "metadata": {},
   "outputs": [
    {
     "name": "stdout",
     "output_type": "stream",
     "text": [
      "Added assistant:  asst_Nx0j5U6kuBeCNws6UimFgbyk 2\n"
     ]
    }
   ],
   "source": [
    "golang_tutor = helper.create_assistant(client,name=\"Golang\",instructions=\"You are an assistant that can help write and explain Go code.\", model=helper.gpt_deployment_name)"
   ]
  },
  {
   "cell_type": "markdown",
   "metadata": {},
   "source": [
    "### Get the messages for a new user"
   ]
  },
  {
   "cell_type": "code",
   "execution_count": 5,
   "metadata": {},
   "outputs": [
    {
     "name": "stdout",
     "output_type": "stream",
     "text": [
      "Creating new thread for Victor with user_id 789\n",
      "Added thread:  thread_oGGpegnAtqi5nxJOpItNC5zl 3\n",
      "Generated message: int(math.Sqrt(float64(num)))\n",
      "\tfor i := 3; i <= sqrtNum; i += 2 {\n",
      "\t\tif num%i == 0 {\n",
      "\t\t\treturn false\n",
      "\t\t}\n",
      "\t}\n",
      "\treturn true\n",
      "}\n",
      "\n",
      "// findNthPrime finds the nth prime number\n",
      "func findNthPrime(n int) int {\n",
      "\tcount := 0  // Number of primes found\n",
      "\tcurrent := 1 // Current number to check\n",
      "\n",
      "\tfor count < n {\n",
      "\t\tcurrent++\n",
      "\t\tif isPrime(current) {\n",
      "\t\t\tcount++\n",
      "\t\t}\n",
      "\t}\n",
      "\n",
      "\treturn current\n",
      "}\n",
      "\n",
      "func main() {\n",
      "\tnthPrime := 1001\n",
      "\tprime := findNthPrime(nthPrime)\n",
      "\tfmt.Printf(\"The %dth prime number is %d\\n\", nthPrime, prime)\n",
      "}\n",
      "```\n",
      "\n",
      "The main part of the application is the `findNthPrime` function which keeps looking for prime numbers until it finds the `n`th one. It uses the `isPrime` helper function to determine if a number is a prime.\n",
      "\n",
      "To run this application, save it to a file with a `.go` extension, for example `find_prime.go`, and execute it by running `go run find_prime.go` from your command line in the directory where the file is located.\n",
      "\n",
      "The application may take some time to compute the 1001st prime, depending on your system, as it performs a brute-force search for prime numbers.\n",
      "To Victor: int(math.Sqrt(float64(num)))\n",
      "\tfor i := 3; i <= sqrtNum; i += 2 {\n",
      "\t\tif num%i == 0 {\n",
      "\t\t\treturn false\n",
      "\t\t}\n",
      "\t}\n",
      "\treturn true\n",
      "}\n",
      "\n",
      "// findNthPrime finds the nth prime number\n",
      "func findNthPrime(n int) int {\n",
      "\tcount := 0  // Number of primes found\n",
      "\tcurrent := 1 // Current number to check\n",
      "\n",
      "\tfor count < n {\n",
      "\t\tcurrent++\n",
      "\t\tif isPrime(current) {\n",
      "\t\t\tcount++\n",
      "\t\t}\n",
      "\t}\n",
      "\n",
      "\treturn current\n",
      "}\n",
      "\n",
      "func main() {\n",
      "\tnthPrime := 1001\n",
      "\tprime := findNthPrime(nthPrime)\n",
      "\tfmt.Printf(\"The %dth prime number is %d\\n\", nthPrime, prime)\n",
      "}\n",
      "```\n",
      "\n",
      "The main part of the application is the `findNthPrime` function which keeps looking for prime numbers until it finds the `n`th one. It uses the `isPrime` helper function to determine if a number is a prime.\n",
      "\n",
      "To run this application, save it to a file with a `.go` extension, for example `find_prime.go`, and execute it by running `go run find_prime.go` from your command line in the directory where the file is located.\n",
      "\n",
      "The application may take some time to compute the 1001st prime, depending on your system, as it performs a brute-force search for prime numbers.\n"
     ]
    }
   ],
   "source": [
    "new_message = helper.generate_response(client,golang_tutor,\"Write a Go application to find the 1001st prime number.\", \"789\", \"Victor\")"
   ]
  },
  {
   "cell_type": "markdown",
   "metadata": {},
   "source": [
    "### Cleanup\n",
    "\n",
    "The framework keeps a list of instantiated assistants, clients, and files"
   ]
  },
  {
   "cell_type": "code",
   "execution_count": 6,
   "metadata": {},
   "outputs": [
    {
     "name": "stdout",
     "output_type": "stream",
     "text": [
      "Deleting:  2  assistants.\n",
      "AssistantDeleted(id='asst_CXpL4YjWjbtsx4L7Fn8XvmY3', deleted=True, object='assistant.deleted')\n",
      "AssistantDeleted(id='asst_Nx0j5U6kuBeCNws6UimFgbyk', deleted=True, object='assistant.deleted')\n",
      "Deleting:  3  threads.\n",
      "ThreadDeleted(id='thread_A0C20mOg3yAuw7b1qFSj6CNb', deleted=True, object='thread.deleted')\n",
      "ThreadDeleted(id='thread_e2APAnBw0Q1sVZrz0Kg9vvlB', deleted=True, object='thread.deleted')\n",
      "ThreadDeleted(id='thread_oGGpegnAtqi5nxJOpItNC5zl', deleted=True, object='thread.deleted')\n",
      "Deleting:  0  files.\n"
     ]
    }
   ],
   "source": [
    "#assert framework.ai_assistants == 2\n",
    "#assert framework.ai_threads==3\n",
    "\n",
    "helper.cleanup(client)"
   ]
  }
 ],
 "metadata": {
  "kernelspec": {
   "display_name": "v31012",
   "language": "python",
   "name": "python3"
  },
  "language_info": {
   "codemirror_mode": {
    "name": "ipython",
    "version": 3
   },
   "file_extension": ".py",
   "mimetype": "text/x-python",
   "name": "python",
   "nbconvert_exporter": "python",
   "pygments_lexer": "ipython3",
   "version": "3.10.12"
  }
 },
 "nbformat": 4,
 "nbformat_minor": 2
}
