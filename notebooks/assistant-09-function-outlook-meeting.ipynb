{
 "cells": [
  {
   "cell_type": "markdown",
   "metadata": {},
   "source": [
    "# Assistant-09<br/>Function calling\n",
    "\n",
    "## Outlook meeting assistant\n",
    "- There is no easy way in Outlook today to book a new meeting with the same partipants with an event that already occurred previously. \n",
    "- You either have to move the original meeting to a new time (then you loose the meeting history) or you need to manually open the past meeting details, manually copy the participants to a new meeting request window.\n",
    "- This assistant will scan your local Outlook appointments from last month and it will call an Outlook \"New meeting\" window with the same participants as you described.\n",
    "\n",
    "### Get an OpenAI client and an Assistant\n",
    "\n",
    "**Note:** When configuring the OpenAI client, the API version, the model version, and endpoint are \"new\"."
   ]
  },
  {
   "cell_type": "code",
   "execution_count": 1,
   "metadata": {},
   "outputs": [],
   "source": [
    "import oaihelper as helper\n",
    "\n",
    "# Open Outlook if it is not open\n",
    "helper.outlook_is_running()\n",
    "\n",
    "## Get an OpenAI client\n",
    "client = helper.get_openai_client(api_key=helper.api_KEY,\n",
    "        api_version=helper.api_version,\n",
    "        azure_endpoint=helper.api_URI)"
   ]
  },
  {
   "cell_type": "markdown",
   "metadata": {},
   "source": [
    "### Fetch Outlook meetings from last 30 days from your local Outlook"
   ]
  },
  {
   "cell_type": "code",
   "execution_count": 2,
   "metadata": {},
   "outputs": [],
   "source": [
    "meetings_past_month = helper.get_outlook_meetings(30)\n"
   ]
  },
  {
   "cell_type": "markdown",
   "metadata": {},
   "source": [
    "### Prepare the tool for function calling"
   ]
  },
  {
   "cell_type": "code",
   "execution_count": 3,
   "metadata": {},
   "outputs": [],
   "source": [
    "tools_list = [{\n",
    "    \"type\": \"function\",\n",
    "    \"function\": {\n",
    "\n",
    "        \"name\": \"create_new_meeting\",\n",
    "        \"description\": \"Create a new meeting request with the same participants as another meeting that occurred in the past\",\n",
    "        \"parameters\": {\n",
    "            \"type\": \"object\",\n",
    "            \"properties\": {\n",
    "                \"required_attendees\": {\n",
    "                    \"type\": \"string\",\n",
    "                    \"description\": \"The list of required attendees. Keep the same list of attendees as in the original meeting.\"\n",
    "                },\n",
    "                \"subject\": {\n",
    "                    \"type\": \"string\",\n",
    "                    \"description\": \"The list of required attendees. Keep the same subject as the original meeting.\"\n",
    "                },\n",
    "                \"optional_attendees\": {\n",
    "                    \"type\": \"string\",\n",
    "                    \"description\": \"The list of optional attendees. Keep the same optiona attendees list as the original meeting.\"\n",
    "                }\n",
    "            },\n",
    "            \"required\": [\"required_attendees\", \"subject\"]\n",
    "        }\n",
    "    }\n",
    "}]"
   ]
  },
  {
   "cell_type": "markdown",
   "metadata": {},
   "source": [
    "### Create the assistant"
   ]
  },
  {
   "cell_type": "code",
   "execution_count": 4,
   "metadata": {},
   "outputs": [
    {
     "name": "stdout",
     "output_type": "stream",
     "text": [
      "Added assistant:  asst_MOZaOQBptYcPT4z2AM5JVCUh 1\n"
     ]
    }
   ],
   "source": [
    "helper.clear_shelves()\n",
    "\n",
    "## Create an assistant\n",
    "meeting_assistant = helper.create_assistant(client,\n",
    "                                                  name=\"fta-Meeting Assistant\",\n",
    "                                                  instructions=\"You are an assistant that helps to create new meetings requests in Outlook. You will be provided a list of meetings from last month and you need to setup a new meeting keeping all the same details from the original meeting you found. Only select a single meeting (single JSON) and DO NOT mix data from other meetings.\", \n",
    "                                                  tools=tools_list, \n",
    "                                                  model=helper.gpt_deployment_name)"
   ]
  },
  {
   "cell_type": "markdown",
   "metadata": {},
   "source": [
    "### Define the function calling delegate"
   ]
  },
  {
   "cell_type": "code",
   "execution_count": 5,
   "metadata": {},
   "outputs": [],
   "source": [
    "def function_calling_delegate(client, thread, run):\n",
    "    print(\"Function Calling\")\n",
    "    required_actions = run.required_action.submit_tool_outputs.model_dump()\n",
    "    print(required_actions)\n",
    "    tool_outputs = []\n",
    "    import json\n",
    "    for action in required_actions[\"tool_calls\"]:\n",
    "        func_name = action['function']['name']\n",
    "        arguments = json.loads(action['function']['arguments'])\n",
    "        \n",
    "        if func_name == \"create_new_meeting\":\n",
    "            helper.show_meeting_window(subject=arguments['subject'], required_attendees=arguments['required_attendees'], optional_attendees = arguments['optional_attendees'])\n",
    "            tool_outputs.append({\n",
    "                \"tool_call_id\": action['id'],\n",
    "                \"output\": \"OK\"\n",
    "            })\n",
    "        else:\n",
    "            raise ValueError(f\"Unknown function: {func_name}\")\n",
    "        \n",
    "    print(\"Submitting outputs back to the Assistant...\")\n",
    "    client.beta.threads.runs.submit_tool_outputs(\n",
    "        thread_id=thread.id,\n",
    "        run_id=run.id,\n",
    "        tool_outputs=tool_outputs\n",
    "    )"
   ]
  },
  {
   "cell_type": "markdown",
   "metadata": {},
   "source": [
    "### User input\n",
    "- The user provide as much details as he remembers from the meeting he want to book a new event with the same participants. Such as: what was the subject and some participants involved?\n",
    "- The list of last month events will be provded as JSON input and OpenAI will find what is the closest original appointment with the information provided by the user\n",
    "- And then it will return the function outputs required to call a new Outlook Meeting window locally, which will contains the same Subject and Participants as the original event"
   ]
  },
  {
   "cell_type": "code",
   "execution_count": 6,
   "metadata": {},
   "outputs": [
    {
     "name": "stdout",
     "output_type": "stream",
     "text": [
      "Creating new thread for Alex with user_id 123\n",
      "Added thread:  thread_T2GmKj6wvOA1mvVYngP4OWLq 1\n",
      "Function Calling\n",
      "{'tool_calls': [{'id': 'call_tqaS20F1rYp8hQAbMjlZfYaf', 'function': {'arguments': '{\\n  \"required_attendees\": \"Andre Dewes; ishani.vyas@wellpoint.com; Umar Mohamed Usman; sanjay.durisheti@wellpoint.com\",\\n  \"subject\": \"[Microsoft FastTrack] Elevance Health working session\",\\n  \"optional_attendees\": \"Bappaditya Banerjee; Srini Padala; Sanjeev Nair; Ankesh Anupam; Ishani Vyas; Basuki.Winoto@elevancehealth.com; Vyas, Ishani; Narendra Amirineni\"\\n}', 'name': 'create_new_meeting'}, 'type': 'function'}]}\n",
      "Submitting outputs back to the Assistant...\n",
      "Generated message: The new meeting request with the subject \"[Microsoft FastTrack] Elevance Health working session\" has been created successfully, including all the required and optional attendees as per the original meeting. Please specify a new date and time for this meeting so that it can be scheduled accordingly.\n",
      "To Alex: The new meeting request with the subject \"[Microsoft FastTrack] Elevance Health working session\" has been created successfully, including all the required and optional attendees as per the original meeting. Please specify a new date and time for this meeting so that it can be scheduled accordingly.\n"
     ]
    },
    {
     "data": {
      "text/plain": [
       "'The new meeting request with the subject \"[Microsoft FastTrack] Elevance Health working session\" has been created successfully, including all the required and optional attendees as per the original meeting. Please specify a new date and time for this meeting so that it can be scheduled accordingly.'"
      ]
     },
     "execution_count": 6,
     "metadata": {},
     "output_type": "execute_result"
    }
   ],
   "source": [
    "userInput = f'I had a meeting with customers from [COMPANY] last week. One of the customer name was [NAME]'\n",
    "\n",
    "if \"[COMPANY]\" in userInput or \"[NAME]\" in userInput:\n",
    "    raise Exception(\"Please replace [COMPANY] and [NAME] with your information in line above\")\n",
    "\n",
    "userInput += f'\\n\\nLast month meetings: ### {meetings_past_month}'\n",
    "\n",
    "helper.generate_response(client,meeting_assistant, userInput , \"123\", \"Alex\", function_calling_delegate)"
   ]
  },
  {
   "cell_type": "markdown",
   "metadata": {},
   "source": [
    "### Delete all demo objects"
   ]
  },
  {
   "cell_type": "code",
   "execution_count": 7,
   "metadata": {},
   "outputs": [
    {
     "name": "stdout",
     "output_type": "stream",
     "text": [
      "Deleting:  1  assistants.\n",
      "AssistantDeleted(id='asst_MOZaOQBptYcPT4z2AM5JVCUh', deleted=True, object='assistant.deleted')\n",
      "Deleting:  1  threads.\n",
      "ThreadDeleted(id='thread_T2GmKj6wvOA1mvVYngP4OWLq', deleted=True, object='thread.deleted')\n",
      "Deleting:  0  files.\n"
     ]
    }
   ],
   "source": [
    "helper.cleanup(client)"
   ]
  }
 ],
 "metadata": {
  "kernelspec": {
   "display_name": "Python 3",
   "language": "python",
   "name": "python3"
  },
  "language_info": {
   "codemirror_mode": {
    "name": "ipython",
    "version": 3
   },
   "file_extension": ".py",
   "mimetype": "text/x-python",
   "name": "python",
   "nbconvert_exporter": "python",
   "pygments_lexer": "ipython3",
   "version": "3.11.7"
  }
 },
 "nbformat": 4,
 "nbformat_minor": 2
}
