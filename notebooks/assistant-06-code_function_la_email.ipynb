{
 "cells": [
  {
   "cell_type": "markdown",
   "metadata": {},
   "source": [
    "# Assistant-05<br/>Code Interpreter & Function calling\n",
    "\n",
    "## Trading Assistant that can calculate portfolio values and email a report\n",
    "\n",
    "## Notes\n",
    "\n",
    "- 01/14/2024: Uploading a CSV file failed\n",
    "\n",
    "## Credits\n",
    "\n",
    "- https://mer.vin/2023/11/openai-assistants-api-function-calling/\n",
    "\n",
    "## Email functionality\n",
    "\n",
    "- Implemented using Logic Apps with an Http POST trigger\n",
    "\n",
    "### Get an OpenAI client and an Assistant\n",
    "\n",
    "**Note:** When configuring the OpenAI client, the API version, the model version, and endpoint are \"new\"."
   ]
  },
  {
   "cell_type": "code",
   "execution_count": 8,
   "metadata": {},
   "outputs": [],
   "source": [
    "import time\n",
    "import oaihelper as framework\n",
    "import yfinance as yf\n",
    "\n",
    "\n",
    "## Get an OpenAI client\n",
    "client = framework.get_openai_client(api_key=framework.api_KEY,\n",
    "        api_version=framework.api_version,\n",
    "        azure_endpoint=framework.api_URI,)"
   ]
  },
  {
   "cell_type": "markdown",
   "metadata": {},
   "source": [
    "### Get the latest stock price by ticker symbol using Yahoo Finance"
   ]
  },
  {
   "cell_type": "code",
   "execution_count": 9,
   "metadata": {},
   "outputs": [],
   "source": [
    "def get_stock_price(symbol: str) -> float:\n",
    "    try:\n",
    "        stock = yf.Ticker(symbol)\n",
    "        price = stock.history(period=\"1d\")['Close'].iloc[-1]    \n",
    "        return price\n",
    "    except:\n",
    "        return 0"
   ]
  },
  {
   "cell_type": "markdown",
   "metadata": {},
   "source": [
    "### Prepare the tools for function calling"
   ]
  },
  {
   "cell_type": "code",
   "execution_count": 10,
   "metadata": {},
   "outputs": [],
   "source": [
    "tools_list = [\n",
    "{\"type\": \"code_interpreter\"},\n",
    "{\"type\": \"function\",\n",
    "    \"function\": {\n",
    "\n",
    "        \"name\": \"get_stock_price\",\n",
    "        \"description\": \"Retrieve the latest closing price of a stock using its ticker symbol.\",\n",
    "        \"parameters\": {\n",
    "            \"type\": \"object\",\n",
    "            \"properties\": {\n",
    "                \"symbol\": {\n",
    "                    \"type\": \"string\",\n",
    "                    \"description\": \"The ticker symbol of the stock\"\n",
    "                }\n",
    "            },\n",
    "            \"required\": [\"symbol\"]\n",
    "        }\n",
    "    }\n",
    "},\n",
    "{\n",
    "    \"type\": \"function\",\n",
    "    \"function\": {\n",
    "        \"name\": \"send_email\",\n",
    "        \"description\": \"Sends an email to a recipient(s).\",\n",
    "        \"parameters\": {\n",
    "            \"type\": \"object\",\n",
    "            \"properties\": {\n",
    "                \"to\": {\n",
    "                    \"type\": \"string\",\n",
    "                    \"description\": \"The email(s) the email should be sent to.\"\n",
    "                },\n",
    "                \"content\": {\n",
    "                    \"type\": \"string\",\n",
    "                    \"description\": \"The content of the email.\"\n",
    "                }\n",
    "            },\n",
    "            \"required\": [\"to\", \"content\"]\n",
    "        }\n",
    "    }\n",
    "}]"
   ]
  },
  {
   "cell_type": "code",
   "execution_count": 11,
   "metadata": {},
   "outputs": [],
   "source": [
    "csv_file = framework.upload_file(client,\"../data/fta-portfolio.csv\")"
   ]
  },
  {
   "cell_type": "markdown",
   "metadata": {},
   "source": [
    "### Create the assistant"
   ]
  },
  {
   "cell_type": "code",
   "execution_count": 12,
   "metadata": {},
   "outputs": [
    {
     "name": "stdout",
     "output_type": "stream",
     "text": [
      "Added assistant:  asst_kyfLQ7ioPqs0faC1YvFYPPaN 2\n"
     ]
    }
   ],
   "source": [
    "framework.clear_shelves()\n",
    "\n",
    "## Create an assistant\n",
    "stock_assistant = framework.create_assistant(client,\n",
    "                                                  name=\"fta-Securities Trading Assistant\",\n",
    "                                                  instructions=\"You are a personal securities trading assistant. Please be polite, professional, helpful, and friendly.\", \n",
    "                                                  tools=tools_list,                                                  \n",
    "                                                  model=framework.gpt_deployment_name,\n",
    "                                                  file_ids=[csv_file.id]\n",
    "                                                  )"
   ]
  },
  {
   "cell_type": "markdown",
   "metadata": {},
   "source": [
    "### Create a thread, put a message on the thread, and view the initial status"
   ]
  },
  {
   "cell_type": "code",
   "execution_count": 13,
   "metadata": {},
   "outputs": [],
   "source": [
    "# Step 2: Create a Thread\n",
    "thread = client.beta.threads.create()\n",
    "\n",
    "# Step 3: Add a Message to a Thread\n",
    "message = client.beta.threads.messages.create(\n",
    "    thread_id=thread.id,\n",
    "    role=\"user\",\n",
    "    content=\"Based on the provided portfolio, please email me an HTML formatted report to alemor@microsoft.com with the details for each stock based on the latest stock prices, and list the best and worst performing stocks in my portfolio.\"\n",
    ")\n",
    "\n",
    "# Step 4: Run the Assistant\n",
    "run = client.beta.threads.runs.create(\n",
    "    thread_id=thread.id,\n",
    "    assistant_id=stock_assistant.id,\n",
    "    instructions=\"Today's date and time is: \" + framework.get_localized_datetime() + \".\\n\\n\"\n",
    ")\n",
    "\n",
    "#print(run.model_dump_json(indent=4))"
   ]
  },
  {
   "cell_type": "markdown",
   "metadata": {},
   "source": [
    "### Process the message, function calling leveraging the latest stock prices, print the results and dispose of the objects"
   ]
  },
  {
   "cell_type": "code",
   "execution_count": 14,
   "metadata": {},
   "outputs": [
    {
     "name": "stdout",
     "output_type": "stream",
     "text": [
      "Waiting for the Assistant to process...\n",
      "Waiting for the Assistant to process...\n",
      "Function Calling\n",
      "{'tool_calls': [{'id': 'call_MDf3RDJVBumRHoH99Trn2EVe', 'function': {'arguments': '{\"symbol\": \"AAPL\"}', 'name': 'get_stock_price'}, 'type': 'function'}, {'id': 'call_1jfzdD8XWpxvFxUZhbwH66yu', 'function': {'arguments': '{\"symbol\": \"MSFT\"}', 'name': 'get_stock_price'}, 'type': 'function'}, {'id': 'call_KNGFTnOkVIeZ7NE0YgRwlzPR', 'function': {'arguments': '{\"symbol\": \"GOOGL\"}', 'name': 'get_stock_price'}, 'type': 'function'}, {'id': 'call_tf8PsATH3hXHek7IPRKkls8G', 'function': {'arguments': '{\"symbol\": \"AMZN\"}', 'name': 'get_stock_price'}, 'type': 'function'}, {'id': 'call_U2nTfN1xOfvwQwxpL47EhdFh', 'function': {'arguments': '{\"symbol\": \"TSLA\"}', 'name': 'get_stock_price'}, 'type': 'function'}, {'id': 'call_E0apT6RBBnkiVQJ825lIOBY7', 'function': {'arguments': '{\"symbol\": \"NFLX\"}', 'name': 'get_stock_price'}, 'type': 'function'}, {'id': 'call_whqcoq5wSsSsnreAAAuicz92', 'function': {'arguments': '{\"symbol\": \"NVDA\"}', 'name': 'get_stock_price'}, 'type': 'function'}]}\n",
      "Submitting outputs back to the Assistant...\n",
      "Waiting for the Assistant to process...\n",
      "Waiting for the Assistant to process...\n",
      "Waiting for the Assistant to process...\n",
      "Waiting for the Assistant to process...\n",
      "Waiting for the Assistant to process...\n",
      "Waiting for the Assistant to process...\n",
      "Waiting for the Assistant to process...\n",
      "Waiting for the Assistant to process...\n",
      "Waiting for the Assistant to process...\n",
      "Waiting for the Assistant to process...\n",
      "Function Calling\n",
      "{'tool_calls': [{'id': 'call_UY1ojm5U3lfIQtfYsWJWsguN', 'function': {'arguments': '{\"to\":\"alemor@microsoft.com\",\"content\":\"\\\\n<html>\\\\n    <head>\\\\n        <style>\\\\n            table, th, td {\\\\n                border: 1px solid black;\\\\n                border-collapse: collapse;\\\\n            }\\\\n            th, td {\\\\n                padding: 5px;\\\\n                text-align: left;\\\\n            }\\\\n            th {\\\\n                background-color: #4CAF50;\\\\n                color: white;\\\\n            }\\\\n            .best {\\\\n                background-color: #90ee90;\\\\n            }\\\\n            .worst {\\\\n                background-color: #ffcccb;\\\\n            }\\\\n        </style>\\\\n    </head>\\\\n    <body>\\\\n        <h2>Stock Portfolio Report</h2>\\\\n        <table>\\\\n            <tr>\\\\n                <th>Ticker</th>\\\\n                <th>Quantity</th>\\\\n                <th>Purchase Price</th>\\\\n                <th>Cost</th>\\\\n                <th>Latest Price</th>\\\\n                <th>Market Value</th>\\\\n                <th>Profit/Loss</th>\\\\n            </tr>\\\\n            \\\\n        <tr class=\\\\\"\\\\\">\\\\n            <td>AAPL</td>\\\\n            <td>10</td>\\\\n            <td>$250.00</td>\\\\n            <td>$2500.00</td>\\\\n            <td>$182.62</td>\\\\n            <td>$1826.20</td>\\\\n            <td>-$673.80</td>\\\\n        </tr>\\\\n    \\\\n        <tr class=\\\\\"best\\\\\">\\\\n            <td>MSFT</td>\\\\n            <td>200</td>\\\\n            <td>$100.00</td>\\\\n            <td>$20000.00</td>\\\\n            <td>$390.61</td>\\\\n            <td>$78123.00</td>\\\\n            <td>$58123.00</td>\\\\n        </tr>\\\\n    \\\\n        <tr class=\\\\\"\\\\\">\\\\n            <td>GOOGL</td>\\\\n            <td>1200</td>\\\\n            <td>$75.00</td>\\\\n            <td>$90000.00</td>\\\\n            <td>$142.26</td>\\\\n            <td>$170718.00</td>\\\\n            <td>$80718.00</td>\\\\n        </tr>\\\\n    \\\\n        <tr class=\\\\\"\\\\\">\\\\n            <td>AMZN</td>\\\\n            <td>1800</td>\\\\n            <td>$50.00</td>\\\\n            <td>$90000.00</td>\\\\n            <td>$152.79</td>\\\\n            <td>$275022.00</td>\\\\n            <td>$185022.00</td>\\\\n        </tr>\\\\n    \\\\n        <tr class=\\\\\"worst\\\\\">\\\\n            <td>TSLA</td>\\\\n            <td>500</td>\\\\n            <td>$500.00</td>\\\\n            <td>$250000.00</td>\\\\n            <td>$219.39</td>\\\\n            <td>$109697.20</td>\\\\n            <td>-$140302.80</td>\\\\n        </tr>\\\\n    \\\\n        <tr class=\\\\\"\\\\\">\\\\n            <td>NFLX</td>\\\\n            <td>300</td>\\\\n            <td>$80.00</td>\\\\n            <td>$24000.00</td>\\\\n            <td>$482.11</td>\\\\n            <td>$144631.50</td>\\\\n            <td>$120631.50</td>\\\\n        </tr>\\\\n    \\\\n        <tr class=\\\\\"\\\\\">\\\\n            <td>NVDA</td>\\\\n            <td>250</td>\\\\n            <td>$120.00</td>\\\\n            <td>$30000.00</td>\\\\n            <td>$563.30</td>\\\\n            <td>$140826.25</td>\\\\n            <td>$110826.25</td>\\\\n        </tr>\\\\n    \\\\n            </table>\\\\n            \\\\n        <h3>Best Performing Stock: AMZN</h3>\\\\n        <p>\\\\n            Quantity: 1800<br>\\\\n            Purchase Price: $50.00<br>\\\\n            Latest Price: $152.79<br>\\\\n            Profit/Loss: $185022.00\\\\n        </p>\\\\n            \\\\n        <h3>Worst Performing Stock: TSLA</h3>\\\\n        <p>\\\\n            Quantity: 500<br>\\\\n            Purchase Price: $500.00<br>\\\\n            Latest Price: $219.39<br>\\\\n            Profit/Loss: -$140302.80\\\\n        </p>\\\\n    </body>\\\\n</html>\\\\n\"}', 'name': 'send_email'}, 'type': 'function'}]}\n",
      "Sending email...\n",
      "Email sent to: alemor@microsoft.com\n",
      "Submitting outputs back to the Assistant...\n",
      "Waiting for the Assistant to process...\n",
      "Assistant: The HTML formatted report with the details for each stock based on the latest stock prices, and the best and worst performing stocks in your portfolio, has been sent to alemor@microsoft.com.\n",
      "User: Based on the provided portfolio, please email me an HTML formatted report at alemor@microsoft.com with the details for each stock based on the latest stock prices, and the best and worst performing stocks in my portfolio.\n",
      "ThreadDeleted(id='thread_atx1U1aFxDTZdZ5cdNk0ru7Q', deleted=True, object='thread.deleted')\n",
      "AssistantDeleted(id='asst_kyfLQ7ioPqs0faC1YvFYPPaN', deleted=True, object='assistant.deleted')\n",
      "FileDeleted(id='assistant-LRmMdeziJqDgQe35HctdaedD', deleted=True, object='file')\n"
     ]
    }
   ],
   "source": [
    "while True:\n",
    "    # Wait for 1 seconds\n",
    "    time.sleep(5)\n",
    "\n",
    "    # Retrieve the run status\n",
    "    run_status = client.beta.threads.runs.retrieve(\n",
    "        thread_id=thread.id,\n",
    "        run_id=run.id\n",
    "    )\n",
    "    #print(run_status.model_dump_json(indent=4))\n",
    "\n",
    "    # If run is completed, get messages\n",
    "    if run_status.status == 'completed':\n",
    "        messages = client.beta.threads.messages.list(\n",
    "            thread_id=thread.id\n",
    "        )\n",
    "\n",
    "        # Loop through messages and print content based on role\n",
    "        for msg in messages.data:\n",
    "            role = msg.role\n",
    "            content = msg.content[0].text.value\n",
    "            print(f\"{role.capitalize()}: {content}\")\n",
    "\n",
    "        ## Cleanup\n",
    "        print(client.beta.threads.delete(thread.id))\n",
    "        print(client.beta.assistants.delete(stock_assistant.id))\n",
    "        print(client.files.delete(csv_file.id))\n",
    "\n",
    "        break\n",
    "    elif run_status.status == 'requires_action':\n",
    "        print(\"Function Calling\")\n",
    "        required_actions = run_status.required_action.submit_tool_outputs.model_dump()\n",
    "        print(required_actions)\n",
    "        tool_outputs = []\n",
    "        import json\n",
    "        for action in required_actions[\"tool_calls\"]:\n",
    "            func_name = action['function']['name']\n",
    "            arguments = json.loads(action['function']['arguments'])\n",
    "            \n",
    "            if func_name == \"get_stock_price\":\n",
    "                output = get_stock_price(symbol=arguments['symbol'])\n",
    "                tool_outputs.append({\n",
    "                    \"tool_call_id\": action['id'],\n",
    "                    \"output\": output\n",
    "                })\n",
    "            elif func_name == \"send_email\":\n",
    "                print(\"Sending email...\")\n",
    "                email_to = arguments['to']\n",
    "                email_content = arguments['content']\n",
    "                framework.send_email({'to': email_to,'content':email_content})\n",
    "                \n",
    "                tool_outputs.append({\n",
    "                    \"tool_call_id\": action['id'],\n",
    "                    \"output\": \"Email sent\"\n",
    "                })\n",
    "            else:\n",
    "                raise ValueError(f\"Unknown function: {func_name}\")\n",
    "            \n",
    "        print(\"Submitting outputs back to the Assistant...\")\n",
    "        client.beta.threads.runs.submit_tool_outputs(\n",
    "            thread_id=thread.id,\n",
    "            run_id=run.id,\n",
    "            tool_outputs=tool_outputs\n",
    "        )\n",
    "    else:\n",
    "        print(\"Waiting for the Assistant to process...\")\n",
    "        time.sleep(5)"
   ]
  }
 ],
 "metadata": {
  "kernelspec": {
   "display_name": "v31012",
   "language": "python",
   "name": "python3"
  },
  "language_info": {
   "codemirror_mode": {
    "name": "ipython",
    "version": 3
   },
   "file_extension": ".py",
   "mimetype": "text/x-python",
   "name": "python",
   "nbconvert_exporter": "python",
   "pygments_lexer": "ipython3",
   "version": "3.10.12"
  }
 },
 "nbformat": 4,
 "nbformat_minor": 2
}
