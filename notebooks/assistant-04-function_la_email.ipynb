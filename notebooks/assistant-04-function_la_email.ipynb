{
 "cells": [
  {
   "cell_type": "markdown",
   "metadata": {},
   "source": [
    "# Assistant-04<br/>Function calling\n",
    "\n",
    "## Trading Assistant with email functionality\n",
    "\n",
    "## Credits\n",
    "\n",
    "- https://mer.vin/2023/11/openai-assistants-api-function-calling/\n",
    "\n",
    "## Email functionality\n",
    "\n",
    "- Implemented using Logic Apps with an Http POST trigger\n",
    "\n",
    "### Get an OpenAI client and an Assistant\n",
    "\n",
    "**Note:** When configuring the OpenAI client, the API version, the model version, and endpoint are \"new\"."
   ]
  },
  {
   "cell_type": "code",
   "execution_count": 1,
   "metadata": {},
   "outputs": [],
   "source": [
    "import time\n",
    "import oaihelper as framework\n",
    "import yfinance as yf\n",
    "\n",
    "\n",
    "## Get an OpenAI client\n",
    "client = framework.get_openai_client(api_key=framework.api_KEY,\n",
    "        api_version=framework.api_version,\n",
    "        azure_endpoint=framework.api_URI,)"
   ]
  },
  {
   "cell_type": "markdown",
   "metadata": {},
   "source": [
    "### Get the latest stock price by ticker symbol using Yahoo Finance"
   ]
  },
  {
   "cell_type": "code",
   "execution_count": 2,
   "metadata": {},
   "outputs": [],
   "source": [
    "def get_stock_price(symbol: str) -> float:\n",
    "    stock = yf.Ticker(symbol)\n",
    "    price = stock.history(period=\"1d\")['Close'].iloc[-1]    \n",
    "    return price\n"
   ]
  },
  {
   "cell_type": "markdown",
   "metadata": {},
   "source": [
    "### Prepare the tool for function calling"
   ]
  },
  {
   "cell_type": "code",
   "execution_count": 4,
   "metadata": {},
   "outputs": [],
   "source": [
    "tools_list = [{\n",
    "    \"type\": \"function\",\n",
    "    \"function\": {\n",
    "\n",
    "        \"name\": \"get_stock_price\",\n",
    "        \"description\": \"Retrieve the latest closing price of a stock using its ticker symbol.\",\n",
    "        \"parameters\": {\n",
    "            \"type\": \"object\",\n",
    "            \"properties\": {\n",
    "                \"symbol\": {\n",
    "                    \"type\": \"string\",\n",
    "                    \"description\": \"The ticker symbol of the stock\"\n",
    "                }\n",
    "            },\n",
    "            \"required\": [\"symbol\"]\n",
    "        }\n",
    "    }\n",
    "},\n",
    "{\n",
    "    \"type\": \"function\",\n",
    "    \"function\": {\n",
    "\n",
    "        \"name\": \"send_email\",\n",
    "        \"description\": \"Sends an email to a recipient(s).\",\n",
    "        \"parameters\": {\n",
    "            \"type\": \"object\",\n",
    "            \"properties\": {\n",
    "                \"to\": {\n",
    "                    \"type\": \"string\",\n",
    "                    \"description\": \"The email(s) the email should be sent to.\"\n",
    "                },\n",
    "                \"content\": {\n",
    "                    \"type\": \"string\",\n",
    "                    \"description\": \"The content of the email.\"\n",
    "                }\n",
    "            },\n",
    "            \"required\": [\"to\", \"content\"]\n",
    "        }\n",
    "    }\n",
    "}]"
   ]
  },
  {
   "cell_type": "markdown",
   "metadata": {},
   "source": [
    "### Create the assistant"
   ]
  },
  {
   "cell_type": "code",
   "execution_count": 5,
   "metadata": {},
   "outputs": [
    {
     "name": "stdout",
     "output_type": "stream",
     "text": [
      "Added assistant:  asst_zjb6TicktpixN9oPLBiKIUif 1\n"
     ]
    }
   ],
   "source": [
    "framework.clear_shelves()\n",
    "\n",
    "## Create an assistant\n",
    "stock_assistant = framework.create_assistant(client,\n",
    "                                                  name=\"fta-Securities Trading Assistant\",\n",
    "                                                  instructions=\"You are a personal securities trading assistant. Please be polite, professional, helpful, and friendly.\", \n",
    "                                                  tools=tools_list, \n",
    "                                                  model=framework.gpt_deployment_name)"
   ]
  },
  {
   "cell_type": "code",
   "execution_count": 6,
   "metadata": {},
   "outputs": [],
   "source": [
    "def function_calling_delegate(client, thread, run):\n",
    "    print(\"Function Calling\")\n",
    "    required_actions = run.required_action.submit_tool_outputs.model_dump()\n",
    "    print(required_actions)\n",
    "    tool_outputs = []\n",
    "    import json\n",
    "    for action in required_actions[\"tool_calls\"]:\n",
    "        func_name = action['function']['name']\n",
    "        arguments = json.loads(action['function']['arguments'])\n",
    "        \n",
    "        if func_name == \"get_stock_price\":\n",
    "            output = get_stock_price(symbol=arguments['symbol'])\n",
    "            tool_outputs.append({\n",
    "                \"tool_call_id\": action['id'],\n",
    "                \"output\": output\n",
    "            })\n",
    "        elif func_name == \"send_email\":\n",
    "            print(\"Sending email...\")\n",
    "            email_to = arguments['to']\n",
    "            email_content = arguments['content']\n",
    "            framework.send_email({'to': email_to,'content':email_content})\n",
    "            \n",
    "            tool_outputs.append({\n",
    "                \"tool_call_id\": action['id'],\n",
    "                \"output\": \"Email sent\"\n",
    "            })\n",
    "        else:\n",
    "            raise ValueError(f\"Unknown function: {func_name}\")\n",
    "        \n",
    "    print(\"Submitting outputs back to the Assistant...\")\n",
    "    client.beta.threads.runs.submit_tool_outputs(\n",
    "        thread_id=thread.id,\n",
    "        run_id=run.id,\n",
    "        tool_outputs=tool_outputs\n",
    "    )"
   ]
  },
  {
   "cell_type": "markdown",
   "metadata": {},
   "source": [
    "### Create a thread, put a message on the thread, and view the initial status"
   ]
  },
  {
   "cell_type": "code",
   "execution_count": 7,
   "metadata": {},
   "outputs": [
    {
     "name": "stdout",
     "output_type": "stream",
     "text": [
      "Creating new thread for Alex with user_id 123\n",
      "Added thread:  thread_TuDS2L4sgBFWspM2ZlNDXEXi 1\n",
      "Function Calling\n",
      "{'tool_calls': [{'id': 'call_52aWEqZMRffKXIMOePAOu4y2', 'function': {'arguments': '{\"symbol\": \"MSFT\"}', 'name': 'get_stock_price'}, 'type': 'function'}, {'id': 'call_kGrmCcxhIJe0QIcjF56EXJkd', 'function': {'arguments': '{\"symbol\": \"NVDA\"}', 'name': 'get_stock_price'}, 'type': 'function'}, {'id': 'call_9DzuLmM2HKekj1IyC3O8ie77', 'function': {'arguments': '{\"symbol\": \"AAPL\"}', 'name': 'get_stock_price'}, 'type': 'function'}, {'id': 'call_mUt4ccB5ntf5nGsHYaUOw5AR', 'function': {'arguments': '{\"symbol\": \"NVO\"}', 'name': 'get_stock_price'}, 'type': 'function'}, {'id': 'call_ay1NMZgKacamI334M3wzyaMm', 'function': {'arguments': '{\"symbol\": \"MELI\"}', 'name': 'get_stock_price'}, 'type': 'function'}, {'id': 'call_bggBagjrdUyAsZqFqntue1zx', 'function': {'arguments': '{\"symbol\": \"TW\"}', 'name': 'get_stock_price'}, 'type': 'function'}, {'id': 'call_2EZOBi2FDmg7HO9cha0OoF1t', 'function': {'arguments': '{\"symbol\": \"TSLA\"}', 'name': 'get_stock_price'}, 'type': 'function'}]}\n",
      "Submitting outputs back to the Assistant...\n",
      "Function Calling\n",
      "{'tool_calls': [{'id': 'call_TywNrc8dsmRPDfCWW2HE1FLj', 'function': {'arguments': '{\\n  \"to\": \"alemor@microsoft.com, vsantana@microsoft.com\",\\n  \"content\": \"<html>\\\\n<head>\\\\n<title>Market Performance Summary</title>\\\\n</head>\\\\n<body>\\\\n<h1>Summary of Recent Market Performance</h1>\\\\n<p>Date: 05/02/2024</p>\\\\n<p>Microsoft (MSFT) and Nvidia (NVDA) have recently outshone other tech giants such as Apple (AAPL), Novo Nordisk (NVO), MercadoLibre (MELI), Tradeweb Markets (TW), and Tesla (TSLA) in market performance.<br/>\\\\nMSFT has thrived due to strong financials and a transition to cloud-based services, while NVDA has seen growth from its dominance in gaming and AI technology.<br/>\\\\nAAPL, despite supply chain issues and a hit to iPhone sales, has maintained resilience through its ecosystem. Other mentioned companies have faced various challenges but have potential for future growth.</p>\\\\n<h2>Closing Prices as of Most Recent Trading Day:</h2>\\\\n<ul>\\\\n<li>Microsoft (MSFT) - $388.60</li>\\\\n<li>Nvidia (NVDA) - $562.15</li>\\\\n<li>Apple (AAPL) - $182.44</li>\\\\n<li>Novo Nordisk (NVO) - $106.17</li>\\\\n<li>MercadoLibre (MELI) - $1656.69</li>\\\\n<li>Tradeweb Markets (TW) - $95.67</li>\\\\n<li>Tesla (TSLA) - $219.56</li>\\\\n</ul>\\\\n</body>\\\\n</html>\"\\n}', 'name': 'send_email'}, 'type': 'function'}]}\n",
      "Sending email...\n",
      "Email sent to: alemor@microsoft.com, vsantana@microsoft.com\n",
      "Submitting outputs back to the Assistant...\n",
      "Generated message: The email summarizing the article has been sent to both alemor@microsoft.com and vsantana@microsoft.com with the requested information and today's closing prices for the mentioned stocks. If there's anything else you would like assistance with, please let me know.\n",
      "To Alex: The email summarizing the article has been sent to both alemor@microsoft.com and vsantana@microsoft.com with the requested information and today's closing prices for the mentioned stocks. If there's anything else you would like assistance with, please let me know.\n"
     ]
    },
    {
     "data": {
      "text/plain": [
       "\"The email summarizing the article has been sent to both alemor@microsoft.com and vsantana@microsoft.com with the requested information and today's closing prices for the mentioned stocks. If there's anything else you would like assistance with, please let me know.\""
      ]
     },
     "execution_count": 7,
     "metadata": {},
     "output_type": "execute_result"
    }
   ],
   "source": [
    "# Step 2: Create a Thread\n",
    "article = \"\"\"Title: Tech Giants Microsoft and Nvidia Outshine Others in Recent Market Performance\n",
    "\n",
    "New York, New York 01/15/2024\n",
    "\n",
    "Introduction: In the ever-evolving world of technology, the performance of major companies often serves as a barometer for the industry's overall health. In recent times, two tech giants, Microsoft (MSFT) and Nvidia (NVDA), have stood out from the pack with their impressive market performance. However, other prominent tickers such as Apple (AAPL), Novo Nordisk (NVO), MercadoLibre (MELI), Tradeweb Markets (TW), and Tesla (TSLA) have struggled to keep pace. Let's delve into the details of their respective performances and explore the factors contributing to their divergent trajectories.\n",
    "\n",
    "Microsoft (MSFT): Microsoft, a global leader in software and cloud services, has been on a remarkable upward trajectory. The company's stock price has experienced consistent growth, driven by its strong financial performance and successful transition to a cloud-based business model. MSFT has demonstrated resilience during the COVID-19 pandemic, with increased demand for its cloud services and productivity tools. Additionally, Microsoft's strategic acquisitions and investments in emerging technologies have bolstered its position in the market.\n",
    "\n",
    "Nvidia (NVDA): Nvidia, renowned for its advanced graphics processing units (GPUs) and artificial intelligence (AI) technologies, has also been a standout performer. The company's stock price has soared, fueled by its dominance in the gaming industry and its expanding presence in AI and data centers. Nvidia's GPUs have become essential components in various sectors, including gaming, autonomous vehicles, and data centers, driving its revenue growth. Furthermore, the company's recent acquisition of Arm Holdings has positioned it for further expansion into the semiconductor market.\n",
    "\n",
    "Apple (AAPL): While Apple remains one of the most valuable companies globally, its recent performance has been relatively lackluster compared to Microsoft and Nvidia. The tech giant faced challenges due to the COVID-19 pandemic, which disrupted its supply chain and impacted iPhone sales. However, Apple's strong ecosystem, including its services segment and wearable devices, has helped mitigate some of the setbacks. The upcoming release of new products and the continued growth of its services division may provide a catalyst for Apple's future performance.\n",
    "\n",
    "Novo Nordisk (NVO), MercadoLibre (MELI), Tradeweb Markets (TW), and Tesla (TSLA): In contrast to Microsoft and Nvidia, Novo Nordisk, MercadoLibre, Tradeweb Markets, and Tesla have faced difficulties in recent market performance.\n",
    "\n",
    "Novo Nordisk, a leading pharmaceutical company specializing in diabetes care, has experienced challenges due to increased competition and pricing pressures in the industry. However, the company's strong pipeline of innovative products and its commitment to research and development may help it regain momentum.\n",
    "\n",
    "MercadoLibre, often referred to as the \"Amazon of Latin America,\" has faced headwinds due to economic uncertainties in the region. Despite being a dominant e-commerce player, the company's profitability has been impacted by increased investments in logistics and expansion into new markets. However, MercadoLibre's long-term growth prospects remain promising, given the region's growing digital economy.\n",
    "\n",
    "Tradeweb Markets, a global operator of electronic marketplaces for fixed-income and derivatives trading, has experienced a slowdown in trading volumes due to market volatility and reduced investor activity. However, the company's strong market position and ongoing digital transformation efforts may help it navigate these challenges.\n",
    "\n",
    "Tesla, the electric vehicle (EV) pioneer, has witnessed significant volatility in its stock price. While the company has achieved remarkable success in the EV market, concerns about valuation and competition have impacted its performance. Tesla's ability to ramp up production, expand its product lineup, and maintain its technological edge will be crucial for its future success.\n",
    "\n",
    "Conclusion: In the world of technology, market performance can vary significantly among major players. Microsoft and Nvidia have emerged as top performers, driven by their strong financials, strategic investments, and market dominance. On the other hand, Apple, Novo Nordisk, MercadoLibre, Tradeweb Markets, and Tesla have faced challenges that have impacted their recent performance. However, each company possesses unique strengths and growth opportunities that could potentially turn the tide in their favor. Investors and industry observers will closely monitor these companies as they navigate the ever-changing landscape of the tech industry.\"\"\"\n",
    "\n",
    "question = \"For the following article: \\n\\nArticle: \"\"\"\"\"\"\" + article + \"\\n\"\"\"\"\"\"\" + \"\\n\\nEmail a summary of the article in simple HTML format, include today's date, include a list of the closing prices of the stocks mentioned in the article to: alemor@microsoft.com.\" + \"Use only the provide text.\"\n",
    "\n",
    "framework.generate_response(client,stock_assistant,question, \"123\", \"Alex\", function_calling_delegate)"
   ]
  },
  {
   "cell_type": "markdown",
   "metadata": {},
   "source": [
    "### Be a good citizen are move assistants, threads, and files"
   ]
  },
  {
   "cell_type": "code",
   "execution_count": null,
   "metadata": {},
   "outputs": [],
   "source": [
    "framework.cleanup(client)"
   ]
  }
 ],
 "metadata": {
  "kernelspec": {
   "display_name": "v31012",
   "language": "python",
   "name": "python3"
  },
  "language_info": {
   "codemirror_mode": {
    "name": "ipython",
    "version": 3
   },
   "file_extension": ".py",
   "mimetype": "text/x-python",
   "name": "python",
   "nbconvert_exporter": "python",
   "pygments_lexer": "ipython3",
   "version": "3.10.12"
  }
 },
 "nbformat": 4,
 "nbformat_minor": 2
}
