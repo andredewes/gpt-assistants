{
 "cells": [
  {
   "cell_type": "markdown",
   "metadata": {},
   "source": [
    "# Assistant-10<br/>Knowledge Retrieval\n",
    "\n",
    "Notes:\n",
    "- As of 01/14/2024 there's still a bug with knowledge retrieval.\n",
    "\n",
    "\n",
    "### Get an OpenAI client\n",
    "\n",
    "**Note:** When configuring the OpenAI client, the API version, the model version, and endpoint are \"new\"."
   ]
  },
  {
   "cell_type": "code",
   "execution_count": 7,
   "metadata": {},
   "outputs": [],
   "source": [
    "import time\n",
    "import oaihelper as framework\n",
    "\n",
    "## Get an OpenAI client\n",
    "client = framework.get_openai_client(api_key=framework.api_KEY,\n",
    "        api_version=framework.api_version,\n",
    "        azure_endpoint=framework.api_URI,)"
   ]
  },
  {
   "cell_type": "code",
   "execution_count": 8,
   "metadata": {},
   "outputs": [],
   "source": [
    "## Files\n",
    "file_benefits = framework.upload_file(client,\"../data/contoso-benefits.txt\")\n",
    "file_401k = framework.upload_file(client,\"../data/contoso-401k.txt\")\n",
    "file_leave = framework.upload_file(client,\"../data/contoso-medical_leave.txt\")"
   ]
  },
  {
   "cell_type": "code",
   "execution_count": 9,
   "metadata": {},
   "outputs": [],
   "source": [
    "tools_list = [        \n",
    "        {\n",
    "            \"type\": \"function\",\n",
    "            \"function\": {\n",
    "                \"name\": \"send_email\",\n",
    "                \"description\": \"Sends an email to a recipient(s).\",\n",
    "                \"parameters\": {\n",
    "                    \"type\": \"object\",\n",
    "                    \"properties\": {\n",
    "                        \"to\": {\n",
    "                            \"type\": \"string\",\n",
    "                            \"description\": \"The email(s) the email should be sent to.\"\n",
    "                        },\n",
    "                        \"content\": {\n",
    "                            \"type\": \"string\",\n",
    "                            \"description\": \"The content of the email.\"\n",
    "                        }\n",
    "                    },\n",
    "                    \"required\": [\"to\", \"content\"]\n",
    "                }\n",
    "            }\n",
    "        },\n",
    "        {\"type\",\"retrieval\"}\n",
    "    ]"
   ]
  },
  {
   "cell_type": "code",
   "execution_count": 10,
   "metadata": {},
   "outputs": [
    {
     "name": "stdout",
     "output_type": "stream",
     "text": [
      "Added assistant:  asst_xGZRZrM5rrCVBv9ZR1Lg9U8W 2\n"
     ]
    }
   ],
   "source": [
    "hr_assistant = framework.create_assistant(client,\n",
    "        name=\"HR Assistant\",\n",
    "        instructions=\"You HR support chatbot. Use your knowledge base to best respond to the employee queries. Be friendly, professional, and helpful. If you don't know the answer, please say, 'contact HR for more information.'\",\n",
    "        tools=[{\"type\": \"retrieval\"}],\n",
    "        model=framework.gpt_deployment_name,\n",
    "        file_ids=[file_benefits.id, file_401k.id, file_leave.id],)"
   ]
  },
  {
   "cell_type": "code",
   "execution_count": 11,
   "metadata": {},
   "outputs": [],
   "source": [
    "# Step 2: Create a Thread\n",
    "thread = client.beta.threads.create()\n",
    "\n",
    "# Step 3: Add a Message to a Thread\n",
    "message = client.beta.threads.messages.create(\n",
    "    thread_id=thread.id,\n",
    "    role=\"user\",\n",
    "    content=\"What is the procedure to request medical leave and can you provide citations?\"\n",
    ")\n",
    "\n",
    "# Step 4: Run the Assistant\n",
    "run = client.beta.threads.runs.create(\n",
    "    thread_id=thread.id,\n",
    "    assistant_id=hr_assistant.id,\n",
    "    instructions=\"Today's date and time is: \" + framework.get_localized_datetime() + \".\\n\\n\"\n",
    ")"
   ]
  },
  {
   "cell_type": "code",
   "execution_count": 12,
   "metadata": {},
   "outputs": [
    {
     "name": "stdout",
     "output_type": "stream",
     "text": [
      "Waiting for the Assistant to process...\n",
      "Waiting for the Assistant to process...\n",
      "Assistant: The procedure to request medical leave at Contoso includes the following steps:\n",
      "\n",
      "1. Notify their supervisor and the human resources department as soon as possible about the need for leave and the expected duration.\n",
      "2. Provide appropriate documentation to support the request, such as a doctor's note, a certificate of enrollment, a court summons, or a military order.\n",
      "3. Complete and submit the required forms to the human resources department before the start of the leave.\n",
      "4. Keep in touch with their supervisor and the human resources department during the leave and inform them of any changes in their situation or return date.\n",
      "5. Return to work on the agreed date and resume the duties and responsibilities.\n",
      "\n",
      "Further details on employee entitlements, obligations, and expectations during medical leave are outlined in the document, including the continuation of health insurance coverage, restoration of the original or equivalent position upon return, and protection from discrimination and retaliation. The document also mentions that the policy could be modified or terminated at any time and is subject to applicable laws and regulations【0†source】.\n",
      "User: What is the procedure to request medical leave and can you provide citations?\n",
      "ThreadDeleted(id='thread_VTGfXVuxw9eXfx0gaVJGiCCZ', deleted=True, object='thread.deleted')\n",
      "AssistantDeleted(id='asst_xGZRZrM5rrCVBv9ZR1Lg9U8W', deleted=True, object='assistant.deleted')\n",
      "FileDeleted(id='assistant-8o2T2wGspBE9e5SqfqGOPA9c', deleted=True, object='file')\n",
      "FileDeleted(id='assistant-dIcTyXPSc6sKqLzkiqI687c4', deleted=True, object='file')\n",
      "FileDeleted(id='assistant-rpGjqiO45Hsko3KghuBPsXy5', deleted=True, object='file')\n"
     ]
    }
   ],
   "source": [
    "while True:\n",
    "    # Wait for 1 seconds\n",
    "    time.sleep(5)\n",
    "\n",
    "    # Retrieve the run status\n",
    "    run_status = client.beta.threads.runs.retrieve(\n",
    "        thread_id=thread.id,\n",
    "        run_id=run.id\n",
    "    )\n",
    "    #print(run_status.model_dump_json(indent=4))\n",
    "\n",
    "    # If run is completed, get messages\n",
    "    if run_status.status == 'completed':\n",
    "        messages = client.beta.threads.messages.list(\n",
    "            thread_id=thread.id\n",
    "        )\n",
    "\n",
    "        # Loop through messages and print content based on role\n",
    "        for msg in messages.data:\n",
    "            role = msg.role\n",
    "            content = msg.content[0].text.value\n",
    "            print(f\"{role.capitalize()}: {content}\")\n",
    "\n",
    "        ## Cleanup\n",
    "        print(client.beta.threads.delete(thread.id))\n",
    "        print(client.beta.assistants.delete(hr_assistant.id))\n",
    "        print(client.files.delete(file_benefits.id))\n",
    "        print(client.files.delete(file_401k.id))\n",
    "        print(client.files.delete(file_leave.id))\n",
    "\n",
    "        break\n",
    "    elif run_status.status == 'requires_action':\n",
    "        print(\"Function Calling\")\n",
    "        required_actions = run_status.required_action.submit_tool_outputs.model_dump()\n",
    "        print(required_actions)\n",
    "        tool_outputs = []\n",
    "        import json\n",
    "        for action in required_actions[\"tool_calls\"]:\n",
    "            func_name = action['function']['name']\n",
    "            arguments = json.loads(action['function']['arguments'])\n",
    "            \n",
    "            if func_name == \"send_email\":\n",
    "                print(\"Sending email...\")\n",
    "                email_to = arguments['to']\n",
    "                email_content = arguments['content']\n",
    "                framework.send_email({'to': email_to,'content':email_content})\n",
    "                \n",
    "                tool_outputs.append({\n",
    "                    \"tool_call_id\": action['id'],\n",
    "                    \"output\": \"Email sent\"\n",
    "                })\n",
    "            else:\n",
    "                raise ValueError(f\"Unknown function: {func_name}\")\n",
    "            \n",
    "        print(\"Submitting outputs back to the Assistant...\")\n",
    "        client.beta.threads.runs.submit_tool_outputs(\n",
    "            thread_id=thread.id,\n",
    "            run_id=run.id,\n",
    "            tool_outputs=tool_outputs\n",
    "        )\n",
    "    else:\n",
    "        print(\"Waiting for the Assistant to process...\")\n",
    "        time.sleep(5)"
   ]
  }
 ],
 "metadata": {
  "kernelspec": {
   "display_name": "v31012",
   "language": "python",
   "name": "python3"
  },
  "language_info": {
   "codemirror_mode": {
    "name": "ipython",
    "version": 3
   },
   "file_extension": ".py",
   "mimetype": "text/x-python",
   "name": "python",
   "nbconvert_exporter": "python",
   "pygments_lexer": "ipython3",
   "version": "3.10.12"
  }
 },
 "nbformat": 4,
 "nbformat_minor": 2
}
