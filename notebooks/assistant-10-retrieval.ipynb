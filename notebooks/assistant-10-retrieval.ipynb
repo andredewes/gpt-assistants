{
 "cells": [
  {
   "cell_type": "markdown",
   "metadata": {},
   "source": [
    "# Assistant-10<br/>Knowledge Retrieval\n",
    "\n",
    "Notes:\n",
    "- As of 01/14/2024 there's still a bug with knowledge retrieval.\n",
    "\n",
    "\n",
    "### Get an OpenAI client\n",
    "\n",
    "**Note:** When configuring the OpenAI client, the API version, the model version, and endpoint are \"new\"."
   ]
  },
  {
   "cell_type": "code",
   "execution_count": 1,
   "metadata": {},
   "outputs": [],
   "source": [
    "import oaihelper as framework\n",
    "\n",
    "## Get an OpenAI client\n",
    "client = framework.get_openai_client(api_key=framework.api_KEY,\n",
    "        api_version=framework.api_version,\n",
    "        azure_endpoint=framework.api_URI,)"
   ]
  },
  {
   "cell_type": "markdown",
   "metadata": {},
   "source": [
    "### Load the files"
   ]
  },
  {
   "cell_type": "code",
   "execution_count": 2,
   "metadata": {},
   "outputs": [
    {
     "name": "stdout",
     "output_type": "stream",
     "text": [
      "Added file:  assistant-KnL2yFgcyrCmkokBQqiGQviQ 1\n",
      "Added file:  assistant-Z2i2mytb1I2QMdjZIyIf2x3x 2\n",
      "Added file:  assistant-AOcvZWSifkvospoLP3A0X3mD 3\n"
     ]
    }
   ],
   "source": [
    "## Files\n",
    "file_benefits = framework.upload_file(client,\"../data/contoso-benefits.txt\")\n",
    "file_401k = framework.upload_file(client,\"../data/contoso-401k.txt\")\n",
    "file_leave = framework.upload_file(client,\"../data/contoso-medical_leave.txt\")"
   ]
  },
  {
   "cell_type": "markdown",
   "metadata": {},
   "source": [
    "### Define the tools to use in the Assistants"
   ]
  },
  {
   "cell_type": "code",
   "execution_count": 3,
   "metadata": {},
   "outputs": [],
   "source": [
    "tools_list = [        \n",
    "        {\n",
    "            \"type\": \"function\",\n",
    "            \"function\": {\n",
    "                \"name\": \"send_email\",\n",
    "                \"description\": \"Sends an email to a recipient(s).\",\n",
    "                \"parameters\": {\n",
    "                    \"type\": \"object\",\n",
    "                    \"properties\": {\n",
    "                        \"to\": {\n",
    "                            \"type\": \"string\",\n",
    "                            \"description\": \"The email(s) the email should be sent to.\"\n",
    "                        },\n",
    "                        \"content\": {\n",
    "                            \"type\": \"string\",\n",
    "                            \"description\": \"The content of the email.\"\n",
    "                        }\n",
    "                    },\n",
    "                    \"required\": [\"to\", \"content\"]\n",
    "                }\n",
    "            }\n",
    "        },\n",
    "        {\"type\",\"retrieval\"}\n",
    "    ]"
   ]
  },
  {
   "cell_type": "markdown",
   "metadata": {},
   "source": [
    "### Define the HR Assistant"
   ]
  },
  {
   "cell_type": "code",
   "execution_count": 4,
   "metadata": {},
   "outputs": [
    {
     "name": "stdout",
     "output_type": "stream",
     "text": [
      "Added assistant:  asst_GkELuxgDchd4IfW9Epx35I8o 1\n"
     ]
    }
   ],
   "source": [
    "framework.clear_shelves()\n",
    "\n",
    "hr_assistant = framework.create_assistant(client,\n",
    "        name=\"HR Assistant\",\n",
    "        instructions=\"You HR support chatbot. Use your knowledge base to best respond to the employee queries. Be friendly, professional, and helpful. If you don't know the answer, please say, 'contact HR for more information.'\",\n",
    "        tools=[{\"type\": \"retrieval\"}],\n",
    "        model=framework.gpt_deployment_name,\n",
    "        file_ids=[file_benefits.id, file_401k.id, file_leave.id],)"
   ]
  },
  {
   "cell_type": "markdown",
   "metadata": {},
   "source": [
    "### Define the delegate to handle function calling"
   ]
  },
  {
   "cell_type": "code",
   "execution_count": 5,
   "metadata": {},
   "outputs": [],
   "source": [
    "def function_calling_delegate(client, run, thread):\n",
    "    print(\"Function Calling\")\n",
    "    required_actions = run.required_action.submit_tool_outputs.model_dump()\n",
    "    print(required_actions)\n",
    "    tool_outputs = []\n",
    "    import json\n",
    "    for action in required_actions[\"tool_calls\"]:\n",
    "        func_name = action['function']['name']\n",
    "        arguments = json.loads(action['function']['arguments'])\n",
    "        \n",
    "        if func_name == \"send_email\":\n",
    "            print(\"Sending email...\")\n",
    "            email_to = arguments['to']\n",
    "            email_content = arguments['content']\n",
    "            framework.send_email({'to': email_to,'content':email_content})\n",
    "            \n",
    "            tool_outputs.append({\n",
    "                \"tool_call_id\": action['id'],\n",
    "                \"output\": \"Email sent\"\n",
    "            })\n",
    "        else:\n",
    "            raise ValueError(f\"Unknown function: {func_name}\")\n",
    "        \n",
    "    print(\"Submitting outputs back to the Assistant...\")\n",
    "    client.beta.threads.runs.submit_tool_outputs(\n",
    "        thread_id=thread.id,\n",
    "        run_id=run.id,\n",
    "        tool_outputs=tool_outputs\n",
    "    )"
   ]
  },
  {
   "cell_type": "markdown",
   "metadata": {},
   "source": [
    "### Process a user message"
   ]
  },
  {
   "cell_type": "code",
   "execution_count": 6,
   "metadata": {},
   "outputs": [
    {
     "name": "stdout",
     "output_type": "stream",
     "text": [
      "Creating new thread for Alex with user_id 123\n",
      "Added thread:  thread_w9Y3utOBGrCdytg6r5SgRd3I 1\n",
      "Generated message: Here are some of the company benefits:\n",
      "\n",
      "- **Health insurance**: The company covers 100% of the premiums for medical, dental, and vision plans for employees and their dependents, along with offering flexible spending accounts, health savings accounts, and wellness programs.\n",
      "- **Retirement savings**: There's a 50% match on employee's contributions to their 401(k) plans, up to 6% of their salary. Financial education and planning services are also available to help with retirement goals.\n",
      "- **Paid time off**: Generous policies are in place, which include vacation, sick leave, holidays, parental leave, and sabbatical leave. Employees are encouraged to take this time to recharge and spend with family and friends【11†source】.\n",
      "\n",
      "Regarding requesting medical leave, the policy indicates the following steps and entitlements:\n",
      "\n",
      "1. Notify your supervisor and human resources as soon as possible about the need for leave and expected duration.\n",
      "2. Provide appropriate documentation (e.g., a doctor's note, a certificate of enrollment, a court summons, or a military order).\n",
      "3. Complete and submit the required forms to the human resources department before the leave starts.\n",
      "4. Keep in touch with your supervisor and HR during the leave, informing them of any changes to your situation or return date.\n",
      "5. Return to work on the agreed date to resume duties and responsibilities.\n",
      "\n",
      "Benefits and protections include:\n",
      "\n",
      "- Continuation of health insurance coverage and other benefits during leave, adhering to benefit plan terms.\n",
      "- Restoration of the original or an equivalent position upon return, unless the position has been eliminated or the employee can't perform the essential functions.\n",
      "- Protection against discrimination, harassment, retaliation, or interference for exercising the right to take leave.\n",
      "\n",
      "Obligations and expectations are:\n",
      "\n",
      "- Use the leave for the intended purpose and avoid any inconsistent activities.\n",
      "- Follow the company's policies on attendance, performance, conduct, and communication during the leave.\n",
      "- Cooperate with company requests for information or verification about leave status or eligibility.\n",
      "- Return any company property or equipment in possession before or during the leave.\n",
      "\n",
      "The policy does not create a contract or guarantee of employment and can be modified or terminated at any time. It's also subject to federal, state, and local laws and regulations【18†source】.\n",
      "To Alex: Here are some of the company benefits:\n",
      "\n",
      "- **Health insurance**: The company covers 100% of the premiums for medical, dental, and vision plans for employees and their dependents, along with offering flexible spending accounts, health savings accounts, and wellness programs.\n",
      "- **Retirement savings**: There's a 50% match on employee's contributions to their 401(k) plans, up to 6% of their salary. Financial education and planning services are also available to help with retirement goals.\n",
      "- **Paid time off**: Generous policies are in place, which include vacation, sick leave, holidays, parental leave, and sabbatical leave. Employees are encouraged to take this time to recharge and spend with family and friends【11†source】.\n",
      "\n",
      "Regarding requesting medical leave, the policy indicates the following steps and entitlements:\n",
      "\n",
      "1. Notify your supervisor and human resources as soon as possible about the need for leave and expected duration.\n",
      "2. Provide appropriate documentation (e.g., a doctor's note, a certificate of enrollment, a court summons, or a military order).\n",
      "3. Complete and submit the required forms to the human resources department before the leave starts.\n",
      "4. Keep in touch with your supervisor and HR during the leave, informing them of any changes to your situation or return date.\n",
      "5. Return to work on the agreed date to resume duties and responsibilities.\n",
      "\n",
      "Benefits and protections include:\n",
      "\n",
      "- Continuation of health insurance coverage and other benefits during leave, adhering to benefit plan terms.\n",
      "- Restoration of the original or an equivalent position upon return, unless the position has been eliminated or the employee can't perform the essential functions.\n",
      "- Protection against discrimination, harassment, retaliation, or interference for exercising the right to take leave.\n",
      "\n",
      "Obligations and expectations are:\n",
      "\n",
      "- Use the leave for the intended purpose and avoid any inconsistent activities.\n",
      "- Follow the company's policies on attendance, performance, conduct, and communication during the leave.\n",
      "- Cooperate with company requests for information or verification about leave status or eligibility.\n",
      "- Return any company property or equipment in possession before or during the leave.\n",
      "\n",
      "The policy does not create a contract or guarantee of employment and can be modified or terminated at any time. It's also subject to federal, state, and local laws and regulations【18†source】.\n",
      "Retrieving existing thread for Alex with user_id 123\n",
      "Generated message: Certainly! Here's a complete list of company benefits at Contoso:\n",
      "\n",
      "1. **Health Insurance**: Contoso covers 100% of the premiums for medical, dental, and vision plans for employees and their dependents and offers flexible spending accounts, health savings accounts, and wellness programs.\n",
      "2. **Retirement Savings**: The company matches 50% of employee contributions to their 401(k) plans, up to 6% of their salary. Financial education and planning services are also provided to help employees achieve their retirement goals.\n",
      "3. **Paid Time Off**: Generous policies are in place, which include vacation, sick leave, holidays, parental leave, and sabbatical leave, with encouragement to employees to take this time to recharge and spend quality time with their families and friends.\n",
      "4. **Professional Development**: Contoso invests in employee growth and development by providing opportunities to learn new skills, advance careers, and pursue passions, including tuition reimbursement, online courses, mentoring programs, and internal mobility.\n",
      "5. **Work-Life Balance**: The company respects employees' work-life balance, offering support through flexible work arrangements, remote work options, and employee assistance programs. Additionally, there's a culture of recognition and appreciation that celebrates employees' achievements and contributions.\n",
      "To Alex: Certainly! Here's a complete list of company benefits at Contoso:\n",
      "\n",
      "1. **Health Insurance**: Contoso covers 100% of the premiums for medical, dental, and vision plans for employees and their dependents and offers flexible spending accounts, health savings accounts, and wellness programs.\n",
      "2. **Retirement Savings**: The company matches 50% of employee contributions to their 401(k) plans, up to 6% of their salary. Financial education and planning services are also provided to help employees achieve their retirement goals.\n",
      "3. **Paid Time Off**: Generous policies are in place, which include vacation, sick leave, holidays, parental leave, and sabbatical leave, with encouragement to employees to take this time to recharge and spend quality time with their families and friends.\n",
      "4. **Professional Development**: Contoso invests in employee growth and development by providing opportunities to learn new skills, advance careers, and pursue passions, including tuition reimbursement, online courses, mentoring programs, and internal mobility.\n",
      "5. **Work-Life Balance**: The company respects employees' work-life balance, offering support through flexible work arrangements, remote work options, and employee assistance programs. Additionally, there's a culture of recognition and appreciation that celebrates employees' achievements and contributions.\n",
      "Retrieving existing thread for Alex with user_id 123\n",
      "Generated message: The company matches 50% of the employees' contributions to their 401(k) plans, up to 6% of their salary【10†source】.\n",
      "To Alex: The company matches 50% of the employees' contributions to their 401(k) plans, up to 6% of their salary【10†source】.\n"
     ]
    },
    {
     "data": {
      "text/plain": [
       "\"The company matches 50% of the employees' contributions to their 401(k) plans, up to 6% of their salary【10†source】.\""
      ]
     },
     "execution_count": 6,
     "metadata": {},
     "output_type": "execute_result"
    }
   ],
   "source": [
    "framework.generate_response(client,hr_assistant,\"Can you list some company benefits? Can you provide a summary for requesting medical leave?\", \"123\", \"Alex\", function_calling_delegate)\n",
    "framework.generate_response(client,hr_assistant,\"Can you provide me a complete list of company benefits benefits?\", \"123\", \"Alex\", function_calling_delegate)\n",
    "framework.generate_response(client,hr_assistant,\"What is the 401k matching percentage?\", \"123\", \"Alex\", function_calling_delegate)\n"
   ]
  },
  {
   "cell_type": "markdown",
   "metadata": {},
   "source": [
    "### Delete all demo objects"
   ]
  },
  {
   "cell_type": "code",
   "execution_count": 7,
   "metadata": {},
   "outputs": [
    {
     "name": "stdout",
     "output_type": "stream",
     "text": [
      "Deleting:  1  assistants.\n",
      "AssistantDeleted(id='asst_GkELuxgDchd4IfW9Epx35I8o', deleted=True, object='assistant.deleted')\n",
      "Deleting:  1  threads.\n",
      "ThreadDeleted(id='thread_w9Y3utOBGrCdytg6r5SgRd3I', deleted=True, object='thread.deleted')\n",
      "Deleting:  3  files.\n",
      "FileDeleted(id='assistant-KnL2yFgcyrCmkokBQqiGQviQ', deleted=True, object='file')\n",
      "FileDeleted(id='assistant-Z2i2mytb1I2QMdjZIyIf2x3x', deleted=True, object='file')\n",
      "FileDeleted(id='assistant-AOcvZWSifkvospoLP3A0X3mD', deleted=True, object='file')\n"
     ]
    }
   ],
   "source": [
    "framework.cleanup(client)"
   ]
  }
 ],
 "metadata": {
  "kernelspec": {
   "display_name": "v31012",
   "language": "python",
   "name": "python3"
  },
  "language_info": {
   "codemirror_mode": {
    "name": "ipython",
    "version": 3
   },
   "file_extension": ".py",
   "mimetype": "text/x-python",
   "name": "python",
   "nbconvert_exporter": "python",
   "pygments_lexer": "ipython3",
   "version": "3.10.12"
  }
 },
 "nbformat": 4,
 "nbformat_minor": 2
}
