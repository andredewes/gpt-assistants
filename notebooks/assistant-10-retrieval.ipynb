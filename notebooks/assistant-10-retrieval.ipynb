{
 "cells": [
  {
   "cell_type": "markdown",
   "metadata": {},
   "source": [
    "# Assistant-10<br/>Knowledge Retrieval\n",
    "\n",
    "Notes:\n",
    "- As of 01/14/2024 there's still a bug with knowledge retrieval.\n",
    "\n",
    "\n",
    "### Get an OpenAI client\n",
    "\n",
    "**Note:** When configuring the OpenAI client, the API version, the model version, and endpoint are \"new\"."
   ]
  },
  {
   "cell_type": "code",
   "execution_count": 1,
   "metadata": {},
   "outputs": [],
   "source": [
    "import oaihelper as helper\n",
    "\n",
    "## Get an OpenAI client\n",
    "client = helper.get_openai_client(api_key=helper.api_KEY,\n",
    "        api_version=helper.api_version,\n",
    "        azure_endpoint=helper.api_URI,)"
   ]
  },
  {
   "cell_type": "code",
   "execution_count": null,
   "metadata": {},
   "outputs": [],
   "source": []
  },
  {
   "cell_type": "markdown",
   "metadata": {},
   "source": [
    "### Load the files"
   ]
  },
  {
   "cell_type": "code",
   "execution_count": 2,
   "metadata": {},
   "outputs": [
    {
     "name": "stdout",
     "output_type": "stream",
     "text": [
      "Added file:  assistant-frvSdofG8Rt6OhG63iJ8kAgb 1\n",
      "Added file:  assistant-kEsQXn8Tq1w3X9RYBtzhTXW0 2\n",
      "Added file:  assistant-CoeVzGt77tmzCtxIJbwl80Cv 3\n"
     ]
    }
   ],
   "source": [
    "## Files\n",
    "file_benefits = helper.upload_file(client,\"../data/contoso-benefits.txt\")\n",
    "file_401k = helper.upload_file(client,\"../data/contoso-401k.txt\")\n",
    "file_leave = helper.upload_file(client,\"../data/contoso-medical_leave.txt\")"
   ]
  },
  {
   "cell_type": "markdown",
   "metadata": {},
   "source": [
    "### Define the tools to use in the Assistants"
   ]
  },
  {
   "cell_type": "code",
   "execution_count": 3,
   "metadata": {},
   "outputs": [],
   "source": [
    "tools_list = [        \n",
    "        {\n",
    "            \"type\": \"function\",\n",
    "            \"function\": {\n",
    "                \"name\": \"send_email\",\n",
    "                \"description\": \"Sends an email to a recipient(s).\",\n",
    "                \"parameters\": {\n",
    "                    \"type\": \"object\",\n",
    "                    \"properties\": {\n",
    "                        \"to\": {\n",
    "                            \"type\": \"string\",\n",
    "                            \"description\": \"The email(s) the email should be sent to.\"\n",
    "                        },\n",
    "                        \"content\": {\n",
    "                            \"type\": \"string\",\n",
    "                            \"description\": \"The content of the email.\"\n",
    "                        }\n",
    "                    },\n",
    "                    \"required\": [\"to\", \"content\"]\n",
    "                }\n",
    "            }\n",
    "        },\n",
    "        {\"type\",\"retrieval\"}\n",
    "    ]"
   ]
  },
  {
   "cell_type": "markdown",
   "metadata": {},
   "source": [
    "### Define the HR Assistant"
   ]
  },
  {
   "cell_type": "code",
   "execution_count": 4,
   "metadata": {},
   "outputs": [
    {
     "name": "stdout",
     "output_type": "stream",
     "text": [
      "Added assistant:  asst_b7FY5qTrSdaPERJj0pL03v8H 1\n"
     ]
    }
   ],
   "source": [
    "helper.clear_shelves()\n",
    "\n",
    "hr_assistant = helper.create_assistant(client,\n",
    "        name=\"HR Assistant\",\n",
    "        instructions=\"You HR support chatbot. Use your knowledge base to best respond to the employee queries. Be friendly, professional, and helpful. If you don't know the answer, please say, 'contact HR for more information.'\",\n",
    "        tools=[{\"type\": \"retrieval\"}],\n",
    "        model=helper.gpt_deployment_name,\n",
    "        file_ids=[file_benefits.id, file_401k.id, file_leave.id],)"
   ]
  },
  {
   "cell_type": "markdown",
   "metadata": {},
   "source": [
    "### Define the delegate to handle function calling"
   ]
  },
  {
   "cell_type": "code",
   "execution_count": 5,
   "metadata": {},
   "outputs": [],
   "source": [
    "def function_calling_delegate(client, run, thread):\n",
    "    print(\"Function Calling\")\n",
    "    required_actions = run.required_action.submit_tool_outputs.model_dump()\n",
    "    print(required_actions)\n",
    "    tool_outputs = []\n",
    "    import json\n",
    "    for action in required_actions[\"tool_calls\"]:\n",
    "        func_name = action['function']['name']\n",
    "        arguments = json.loads(action['function']['arguments'])\n",
    "        \n",
    "        if func_name == \"send_email\":\n",
    "            print(\"Sending email...\")\n",
    "            email_to = arguments['to']\n",
    "            email_content = arguments['content']\n",
    "            helper.send_email({'to': email_to,'content':email_content})\n",
    "            \n",
    "            tool_outputs.append({\n",
    "                \"tool_call_id\": action['id'],\n",
    "                \"output\": \"Email sent\"\n",
    "            })\n",
    "        else:\n",
    "            raise ValueError(f\"Unknown function: {func_name}\")\n",
    "        \n",
    "    print(\"Submitting outputs back to the Assistant...\")\n",
    "    client.beta.threads.runs.submit_tool_outputs(\n",
    "        thread_id=thread.id,\n",
    "        run_id=run.id,\n",
    "        tool_outputs=tool_outputs\n",
    "    )"
   ]
  },
  {
   "cell_type": "markdown",
   "metadata": {},
   "source": [
    "### Process a user message"
   ]
  },
  {
   "cell_type": "code",
   "execution_count": 6,
   "metadata": {},
   "outputs": [
    {
     "name": "stdout",
     "output_type": "stream",
     "text": [
      "Creating new thread for Alex with user_id 123\n",
      "Added thread:  thread_lPvkMylnfd1iw0sifHStLg2H 1\n",
      "Generated message: Here is a summary of the company benefits:\n",
      "\n",
      "- **Health Insurance**: The company covers 100% of the premiums for medical, dental, and vision plans for employees and their dependents, along with flexible spending accounts, health savings accounts, and wellness programs.\n",
      "- **Retirement Savings**: There's a 401(k) plan with a 50% match of employees' contributions up to 6% of their salary. Financial education and planning services are also provided.\n",
      "- **Paid Time Off**: Contoso offers generous policies for vacation, sick leave, holidays, parental leave, and sabbatical leave, encouraging employees to take time to recharge.\n",
      "- **Professional Development**: Opportunities for learning new skills and career advancement are provided through tuition reimbursement, online courses, mentoring programs, and internal mobility.\n",
      "- **Work-Life Balance**: Flexible work arrangements, remote work options, and employee assistance programs are in place to support the balance between work and personal life. The company also recognizes and celebrates employee achievements【0†source】【5†source】.\n",
      "\n",
      "As for the Medical Leave, to request it, employees should follow these steps:\n",
      "\n",
      "1. **Notification**: Notify their supervisor and the Human Resources department as soon as possible about their need for leave and the expected duration.\n",
      "2. **Documentation**: Provide documentation to support their request, such as a doctor's note, or other relevant certificates.\n",
      "3. **Forms Submission**: Complete and submit the required forms to the Human Resources department before the start of their leave.\n",
      "4. **Communication**: Maintain communication with the supervisor and Human Resources during their leave, informing them of any changes in their situation or return date.\n",
      "5. **Return to Work**: Return to work on the agreed date and resume their duties and responsibilities.\n",
      "\n",
      "Employees on medical leave are entitled to the continuation of their health insurance coverage and other benefits during their leave, subject to the benefit plans’ terms. They should also receive job restoration upon return, unless their position is eliminated or they cannot perform their essential duties. The policy ensures protection from discrimination, harassment, retaliation, or interference due to exercising their leave rights【2†source】【3†source】【7†source】.\n",
      "To Alex: Here is a summary of the company benefits:\n",
      "\n",
      "- **Health Insurance**: The company covers 100% of the premiums for medical, dental, and vision plans for employees and their dependents, along with flexible spending accounts, health savings accounts, and wellness programs.\n",
      "- **Retirement Savings**: There's a 401(k) plan with a 50% match of employees' contributions up to 6% of their salary. Financial education and planning services are also provided.\n",
      "- **Paid Time Off**: Contoso offers generous policies for vacation, sick leave, holidays, parental leave, and sabbatical leave, encouraging employees to take time to recharge.\n",
      "- **Professional Development**: Opportunities for learning new skills and career advancement are provided through tuition reimbursement, online courses, mentoring programs, and internal mobility.\n",
      "- **Work-Life Balance**: Flexible work arrangements, remote work options, and employee assistance programs are in place to support the balance between work and personal life. The company also recognizes and celebrates employee achievements【0†source】【5†source】.\n",
      "\n",
      "As for the Medical Leave, to request it, employees should follow these steps:\n",
      "\n",
      "1. **Notification**: Notify their supervisor and the Human Resources department as soon as possible about their need for leave and the expected duration.\n",
      "2. **Documentation**: Provide documentation to support their request, such as a doctor's note, or other relevant certificates.\n",
      "3. **Forms Submission**: Complete and submit the required forms to the Human Resources department before the start of their leave.\n",
      "4. **Communication**: Maintain communication with the supervisor and Human Resources during their leave, informing them of any changes in their situation or return date.\n",
      "5. **Return to Work**: Return to work on the agreed date and resume their duties and responsibilities.\n",
      "\n",
      "Employees on medical leave are entitled to the continuation of their health insurance coverage and other benefits during their leave, subject to the benefit plans’ terms. They should also receive job restoration upon return, unless their position is eliminated or they cannot perform their essential duties. The policy ensures protection from discrimination, harassment, retaliation, or interference due to exercising their leave rights【2†source】【3†source】【7†source】.\n",
      "Retrieving existing thread for Alex with user_id 123\n",
      "Generated message: , and internal mobility initiatives.\n",
      "- **Work-Life Balance**: The company acknowledges the importance of work-life balance and assists its employees with flexible work arrangements and remote work options. An employee assistance program is also available to support staff. Furthermore, Contoso fosters a culture of recognition and appreciation, celebrating employees' achievements and contributions.\n",
      "\n",
      "These benefits are part of Contoso's commitment to supporting its employees' professional and personal growth while fostering a positive work environment.\n",
      "To Alex: , and internal mobility initiatives.\n",
      "- **Work-Life Balance**: The company acknowledges the importance of work-life balance and assists its employees with flexible work arrangements and remote work options. An employee assistance program is also available to support staff. Furthermore, Contoso fosters a culture of recognition and appreciation, celebrating employees' achievements and contributions.\n",
      "\n",
      "These benefits are part of Contoso's commitment to supporting its employees' professional and personal growth while fostering a positive work environment.\n",
      "Retrieving existing thread for Alex with user_id 123\n",
      "Generated message: The company's 401(k) matching percentage is 50% of the employee's contributions, with the match applying to up to 6% of the employee's salary. This means if an employee contributes 6% or more of their salary to their 401(k) plan, Contoso will contribute an additional 3% (which is 50% of the employee's 6%).\n",
      "To Alex: The company's 401(k) matching percentage is 50% of the employee's contributions, with the match applying to up to 6% of the employee's salary. This means if an employee contributes 6% or more of their salary to their 401(k) plan, Contoso will contribute an additional 3% (which is 50% of the employee's 6%).\n"
     ]
    },
    {
     "data": {
      "text/plain": [
       "\"The company's 401(k) matching percentage is 50% of the employee's contributions, with the match applying to up to 6% of the employee's salary. This means if an employee contributes 6% or more of their salary to their 401(k) plan, Contoso will contribute an additional 3% (which is 50% of the employee's 6%).\""
      ]
     },
     "execution_count": 6,
     "metadata": {},
     "output_type": "execute_result"
    }
   ],
   "source": [
    "helper.generate_response(client,hr_assistant,\"Can you list some company benefits? Can you provide a summary for requesting medical leave?\", \"123\", \"Alex\", function_calling_delegate)\n",
    "helper.generate_response(client,hr_assistant,\"Can you provide me a complete list of company benefits benefits?\", \"123\", \"Alex\", function_calling_delegate)\n",
    "helper.generate_response(client,hr_assistant,\"What is the 401k matching percentage?\", \"123\", \"Alex\", function_calling_delegate)"
   ]
  },
  {
   "cell_type": "markdown",
   "metadata": {},
   "source": [
    "### Delete all demo objects"
   ]
  },
  {
   "cell_type": "code",
   "execution_count": 7,
   "metadata": {},
   "outputs": [
    {
     "name": "stdout",
     "output_type": "stream",
     "text": [
      "Deleting:  1  assistants.\n",
      "AssistantDeleted(id='asst_b7FY5qTrSdaPERJj0pL03v8H', deleted=True, object='assistant.deleted')\n",
      "Deleting:  1  threads.\n",
      "ThreadDeleted(id='thread_lPvkMylnfd1iw0sifHStLg2H', deleted=True, object='thread.deleted')\n",
      "Deleting:  3  files.\n",
      "FileDeleted(id='assistant-frvSdofG8Rt6OhG63iJ8kAgb', deleted=True, object='file')\n",
      "FileDeleted(id='assistant-kEsQXn8Tq1w3X9RYBtzhTXW0', deleted=True, object='file')\n",
      "FileDeleted(id='assistant-CoeVzGt77tmzCtxIJbwl80Cv', deleted=True, object='file')\n"
     ]
    }
   ],
   "source": [
    "helper.cleanup(client)"
   ]
  }
 ],
 "metadata": {
  "kernelspec": {
   "display_name": "v31012",
   "language": "python",
   "name": "python3"
  },
  "language_info": {
   "codemirror_mode": {
    "name": "ipython",
    "version": 3
   },
   "file_extension": ".py",
   "mimetype": "text/x-python",
   "name": "python",
   "nbconvert_exporter": "python",
   "pygments_lexer": "ipython3",
   "version": "3.10.12"
  }
 },
 "nbformat": 4,
 "nbformat_minor": 2
}
