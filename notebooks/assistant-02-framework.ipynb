{
 "cells": [
  {
   "cell_type": "markdown",
   "metadata": {},
   "source": [
    "# Assistant-02<br/>Assistant Framework\n",
    "\n",
    "### Get an OpenAI client\n",
    "\n",
    "**Note:** When configuring the OpenAI client, the API version, the model version, and endpoint are \"new\"."
   ]
  },
  {
   "cell_type": "code",
   "execution_count": null,
   "metadata": {},
   "outputs": [],
   "source": [
    "import common\n",
    "import framework\n",
    "\n",
    "## Get an OpenAI client\n",
    "client = common.get_openai_client()\n",
    "assistant = framework.create_assistant(client,\"Math Tutor\",\"You are a personal math tutor. Write and run code to answer math questions.\", [{\"type\": \"code_interpreter\"}], common.gpt_deployment_name)"
   ]
  },
  {
   "cell_type": "code",
   "execution_count": null,
   "metadata": {},
   "outputs": [],
   "source": [
    "# --------------------------------------------------------------\n",
    "# Test assistant\n",
    "# --------------------------------------------------------------\n",
    "new_message = framework.generate_response(client,assistant,\"What's 2+2\", \"123\", \"John\")\n",
    "\n",
    "new_message = framework.generate_response(client,assistant,\"What's x*x?\", \"456\", \"Sarah\")\n",
    "\n",
    "new_message = framework.generate_response(client,assistant,\"What the value of x, for x=m*y+5, if y=2 and m=-10?\", \"123\", \"John\")\n",
    "\n",
    "new_message = framework.generate_response(client,assistant,\"What is the value of y, for y=x*x?, if x=2?\", \"456\", \"Sarah\")"
   ]
  }
 ],
 "metadata": {
  "kernelspec": {
   "display_name": "v31012",
   "language": "python",
   "name": "python3"
  },
  "language_info": {
   "codemirror_mode": {
    "name": "ipython",
    "version": 3
   },
   "file_extension": ".py",
   "mimetype": "text/x-python",
   "name": "python",
   "nbconvert_exporter": "python",
   "pygments_lexer": "ipython3",
   "version": "3.10.12"
  }
 },
 "nbformat": 4,
 "nbformat_minor": 2
}
