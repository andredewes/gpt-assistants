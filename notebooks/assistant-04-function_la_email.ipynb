{
 "cells": [
  {
   "cell_type": "markdown",
   "metadata": {},
   "source": [
    "# Assistant-04<br/>Function calling\n",
    "\n",
    "## Trading Assistant with email functionality\n",
    "\n",
    "## Credits\n",
    "\n",
    "- https://mer.vin/2023/11/openai-assistants-api-function-calling/\n",
    "\n",
    "## Email functionality\n",
    "\n",
    "- Implemented using Logic Apps with an Http POST trigger\n",
    "\n",
    "### Get an OpenAI client and an Assistant\n",
    "\n",
    "**Note:** When configuring the OpenAI client, the API version, the model version, and endpoint are \"new\"."
   ]
  },
  {
   "cell_type": "code",
   "execution_count": 19,
   "metadata": {},
   "outputs": [],
   "source": [
    "import common\n",
    "import time\n",
    "import requests\n",
    "import oaihelper as framework\n",
    "import yfinance as yf\n",
    "\n",
    "\n",
    "## Get an OpenAI client\n",
    "client = framework.get_openai_client()"
   ]
  },
  {
   "cell_type": "markdown",
   "metadata": {},
   "source": [
    "### Retreive the latest stock price using Yahoo Finance"
   ]
  },
  {
   "cell_type": "code",
   "execution_count": 20,
   "metadata": {},
   "outputs": [],
   "source": [
    "def get_stock_price(symbol: str) -> float:\n",
    "    stock = yf.Ticker(symbol)\n",
    "    price = stock.history(period=\"1d\")['Close'].iloc[-1]    \n",
    "    return price\n",
    "\n",
    "def send_post_request(json_payload):\n",
    "    headers = {'Content-Type': 'application/json'}\n",
    "    response = requests.post(framework.email_URI, json=json_payload, headers=headers)\n",
    "    if response.status_code == 202:\n",
    "        print(\"Email sent to: \" + json_payload['to'])    \n"
   ]
  },
  {
   "cell_type": "markdown",
   "metadata": {},
   "source": [
    "### Prepare the tool for function calling"
   ]
  },
  {
   "cell_type": "code",
   "execution_count": 21,
   "metadata": {},
   "outputs": [],
   "source": [
    "tools_list = [{\n",
    "    \"type\": \"function\",\n",
    "    \"function\": {\n",
    "\n",
    "        \"name\": \"get_stock_price\",\n",
    "        \"description\": \"Retrieve the latest closing price of a stock using its ticker symbol\",\n",
    "        \"parameters\": {\n",
    "            \"type\": \"object\",\n",
    "            \"properties\": {\n",
    "                \"symbol\": {\n",
    "                    \"type\": \"string\",\n",
    "                    \"description\": \"The ticker symbol of the stock\"\n",
    "                }\n",
    "            },\n",
    "            \"required\": [\"symbol\"]\n",
    "        }\n",
    "    }\n",
    "},\n",
    "{\n",
    "    \"type\": \"function\",\n",
    "    \"function\": {\n",
    "\n",
    "        \"name\": \"send_email\",\n",
    "        \"description\": \"sends an email to a recipient(s).\",\n",
    "        \"parameters\": {\n",
    "            \"type\": \"object\",\n",
    "            \"properties\": {\n",
    "                \"to\": {\n",
    "                    \"type\": \"string\",\n",
    "                    \"description\": \"The email(s) the email should be sent to.\"\n",
    "                },\n",
    "                \"content\": {\n",
    "                    \"type\": \"string\",\n",
    "                    \"description\": \"The content of the email.\"\n",
    "                }\n",
    "            },\n",
    "            \"required\": [\"to\", \"content\"]\n",
    "        }\n",
    "    }\n",
    "}]"
   ]
  },
  {
   "cell_type": "markdown",
   "metadata": {},
   "source": [
    "### Create the assistant"
   ]
  },
  {
   "cell_type": "code",
   "execution_count": 22,
   "metadata": {},
   "outputs": [
    {
     "name": "stdout",
     "output_type": "stream",
     "text": [
      "Added assistant:  asst_gaGpkHX8M9YrFRUkhosqvpMH 4\n"
     ]
    }
   ],
   "source": [
    "framework.clear_shelves()\n",
    "\n",
    "## Create an assistant\n",
    "stock_assistant = framework.create_assistant(client,\n",
    "                                                  name=\"fta-Securities Trading Assistant\",\n",
    "                                                  instructions=\"You are a personal securities trading assistant. Please be polite, professional, helpful, and friendly.\", \n",
    "                                                  tools=tools_list, \n",
    "                                                  model=common.gpt_deployment_name)"
   ]
  },
  {
   "cell_type": "markdown",
   "metadata": {},
   "source": [
    "### Create a thread, put a message on the thread, and view the initial status"
   ]
  },
  {
   "cell_type": "code",
   "execution_count": 23,
   "metadata": {},
   "outputs": [],
   "source": [
    "# Step 2: Create a Thread\n",
    "thread = client.beta.threads.create()\n",
    "\n",
    "article = \"\"\"Dow Jones futures will open Sunday evening, along with S&P 500 futures and Nasdaq futures.\n",
    "\n",
    "The stock market rally had a strong rebound this past week after the major indexes and many leading stocks retreated to start 2024 but soon found support at key levels. A large number of stocks flashed buy signals, including a powerful breakout from Nvidia (NVDA).\n",
    "\n",
    "It's been a good time to add exposure.\n",
    "\n",
    "Nvidia stock is now extended, but fellow AI leader Microsoft (MSFT) is just above a buy point after solid weekly gains, on the cusp of surpassing the market cap of fellow Dow giant Apple (AAPL). Novo Nordisk (NVO) remains in a buy zone.\n",
    "\n",
    "MercadoLibre (MELI) and Tradeweb Markets (TW) flashed entries intraday.\n",
    "\n",
    "On the downside, Tesla (TSLA) had an ugly week, extending a recent sell-off and breaking key support levels amid a flurry of headlines.\n",
    "\n",
    "Nvidia and NVO stock are on IBD Leaderboard. MELI stock, Nvidia and Microsoft are on SwingTrader. MSFT stock is on IBD Long-Term Leaders. Nvidia stock, MercadoLibre, Novo Nordisk and Microsoft are on the IBD 50. Microsoft, Nvidia and MercadoLibre stock are on the IBD Big Cap 20.\"\"\"\n",
    "\n",
    "# Step 3: Add a Message to a Thread\n",
    "message = client.beta.threads.messages.create(\n",
    "    thread_id=thread.id,\n",
    "    role=\"user\",\n",
    "    content=\"For the following article: \\n\\nArticle: \"\"\"\"\"\"\" + article + \"\\n\"\"\"\"\"\"\" +\n",
    "    \"\\n\\nEmail a summary of the article in simple HTML format and include a list of the closing prices of the stocks mentioned in the article to: alemor@microsoft.com.\" +\n",
    "    \"Use only the provide text.\"\n",
    ")\n",
    "\n",
    "# Step 4: Run the Assistant\n",
    "run = client.beta.threads.runs.create(\n",
    "    thread_id=thread.id,\n",
    "    assistant_id=stock_assistant.id\n",
    ")\n",
    "\n",
    "#print(run.model_dump_json(indent=4))"
   ]
  },
  {
   "cell_type": "markdown",
   "metadata": {},
   "source": [
    "### Process the message, function calling leveraging the latest stock prices, print the results and dispose of the objects"
   ]
  },
  {
   "cell_type": "code",
   "execution_count": 24,
   "metadata": {},
   "outputs": [
    {
     "name": "stdout",
     "output_type": "stream",
     "text": [
      "Waiting for the Assistant to process...\n",
      "Waiting for the Assistant to process...\n",
      "Waiting for the Assistant to process...\n",
      "Waiting for the Assistant to process...\n",
      "Waiting for the Assistant to process...\n",
      "Function Calling\n",
      "{'tool_calls': [{'id': 'call_SSfQiU7RML5MBHuu2RXafWcB', 'function': {'arguments': '{\"symbol\": \"NVDA\"}', 'name': 'get_stock_price'}, 'type': 'function'}, {'id': 'call_E76KIWXsxjh3nxXT34SUS7Zh', 'function': {'arguments': '{\"symbol\": \"MSFT\"}', 'name': 'get_stock_price'}, 'type': 'function'}, {'id': 'call_bOTmiuaQ0MKgT5UPThdPefgg', 'function': {'arguments': '{\"symbol\": \"AAPL\"}', 'name': 'get_stock_price'}, 'type': 'function'}, {'id': 'call_bVJ7HvPQLmOO0OZ2vhvPqJqg', 'function': {'arguments': '{\"symbol\": \"NVO\"}', 'name': 'get_stock_price'}, 'type': 'function'}, {'id': 'call_db4EJeQoDwg7rEnc1MGyFa1n', 'function': {'arguments': '{\"symbol\": \"MELI\"}', 'name': 'get_stock_price'}, 'type': 'function'}, {'id': 'call_R1211nqvf9uuZzXny9l4cBGN', 'function': {'arguments': '{\"symbol\": \"TW\"}', 'name': 'get_stock_price'}, 'type': 'function'}, {'id': 'call_S3qxMR92wKdaeOg2O51CJaP6', 'function': {'arguments': '{\"symbol\": \"TSLA\"}', 'name': 'get_stock_price'}, 'type': 'function'}]}\n",
      "Submitting outputs back to the Assistant...\n",
      "Waiting for the Assistant to process...\n",
      "Waiting for the Assistant to process...\n",
      "Waiting for the Assistant to process...\n",
      "Waiting for the Assistant to process...\n",
      "Waiting for the Assistant to process...\n",
      "Waiting for the Assistant to process...\n",
      "Waiting for the Assistant to process...\n",
      "Waiting for the Assistant to process...\n",
      "Function Calling\n",
      "{'tool_calls': [{'id': 'call_7XPK5HO4ND1GqVnfG71T6ehh', 'function': {'arguments': '{\\n  \"to\": \"alemor@microsoft.com\",\\n  \"content\": \"<html>\\\\n<head>\\\\n<title>Market Summary</title>\\\\n<style>\\\\nbody { font-family: Arial, sans-serif; }\\\\nh2 { color: #4F8A10; }\\\\nul { list-style-type: none; }\\\\nli { margin: 5px 0; }\\\\n</style>\\\\n</head>\\\\n<body>\\\\n<h2>Stock Market Summary</h2>\\\\n<p>The stock market rally experienced a strong rebound this past week. Major indexes and many leading stocks recovered from early 2024 losses, finding support at key levels. Numerous stocks presented buy signals, with Nvidia (NVDA) showing a significant breakout.</p>\\\\n<p>While Nvidia stock is currently extended, Microsoft (MSFT) remains just above a buy point after a week of strong gains, challenging Apple\\'s (AAPL) market cap. Novo Nordisk (NVO) is still inside a buy zone, whereas MercadoLibre (MELI) and Tradeweb Markets (TW) indicated intraday entry points.</p>\\\\n<p>Conversely, Tesla (TSLA) had a poor performance, continuing its recent downward trajectory and breaching crucial supports amidst a series of notable news.</p>\\\\n<p>Nvidia and NVO are featured on IBD Leaderboard, with MELI stock, Nvidia, and Microsoft on SwingTrader. Moreover, MSFT is part of the IBD Long-Term Leaders, and along with Nvidia, MercadoLibre, Novo Nordisk, and Microsoft, is also included in the IBD 50. Microsoft, Nvidia, and MercadoLibre form part of the IBD Big Cap 20 list.</p>\\\\n<h3>Closing Prices:</h3>\\\\n<ul>\\\\n<li>Nvidia (NVDA): $547.10</li>\\\\n<li>Microsoft (MSFT): $388.47</li>\\\\n<li>Apple (AAPL): $185.92</li>\\\\n<li>Novo Nordisk (NVO): $107.16</li>\\\\n<li>MercadoLibre (MELI): $1658.58</li>\\\\n<li>Tradeweb Markets (TW): $95.91</li>\\\\n<li>Tesla (TSLA): $218.89</li>\\\\n</ul>\\\\n</body>\\\\n</html>\"\\n}', 'name': 'send_email'}, 'type': 'function'}]}\n",
      "Sending email...\n",
      "Email sent to: alemor@microsoft.com\n",
      "Submitting outputs back to the Assistant...\n",
      "Waiting for the Assistant to process...\n",
      "Assistant: The email with the requested summary and the list of closing stock prices has been sent to alemor@microsoft.com. If there is anything more I can assist you with, please let me know!\n",
      "User: For the following article: \n",
      "\n",
      "Article: Dow Jones futures will open Sunday evening, along with S&P 500 futures and Nasdaq futures.\n",
      "\n",
      "The stock market rally had a strong rebound this past week after the major indexes and many leading stocks retreated to start 2024 but soon found support at key levels. A large number of stocks flashed buy signals, including a powerful breakout from Nvidia (NVDA).\n",
      "\n",
      "It's been a good time to add exposure.\n",
      "\n",
      "Nvidia stock is now extended, but fellow AI leader Microsoft (MSFT) is just above a buy point after solid weekly gains, on the cusp of surpassing the market cap of fellow Dow giant Apple (AAPL). Novo Nordisk (NVO) remains in a buy zone.\n",
      "\n",
      "MercadoLibre (MELI) and Tradeweb Markets (TW) flashed entries intraday.\n",
      "\n",
      "On the downside, Tesla (TSLA) had an ugly week, extending a recent sell-off and breaking key support levels amid a flurry of headlines.\n",
      "\n",
      "Nvidia and NVO stock are on IBD Leaderboard. MELI stock, Nvidia and Microsoft are on SwingTrader. MSFT stock is on IBD Long-Term Leaders. Nvidia stock, MercadoLibre, Novo Nordisk and Microsoft are on the IBD 50. Microsoft, Nvidia and MercadoLibre stock are on the IBD Big Cap 20.\n",
      "\n",
      "\n",
      "Email a summary of the article in simple HTML format and include a list of the closing prices of the stocks mentioned in the article to: alemor@microsoft.com.Use only the provide text.\n",
      "ThreadDeleted(id='thread_xREVxAFMyuaXl8z2Msq1vmgD', deleted=True, object='thread.deleted')\n",
      "AssistantDeleted(id='asst_gaGpkHX8M9YrFRUkhosqvpMH', deleted=True, object='assistant.deleted')\n"
     ]
    }
   ],
   "source": [
    "while True:\n",
    "    # Wait for 1 seconds\n",
    "    time.sleep(1)\n",
    "\n",
    "    # Retrieve the run status\n",
    "    run_status = client.beta.threads.runs.retrieve(\n",
    "        thread_id=thread.id,\n",
    "        run_id=run.id\n",
    "    )\n",
    "    #print(run_status.model_dump_json(indent=4))\n",
    "\n",
    "    # If run is completed, get messages\n",
    "    if run_status.status == 'completed':\n",
    "        messages = client.beta.threads.messages.list(\n",
    "            thread_id=thread.id\n",
    "        )\n",
    "\n",
    "        # Loop through messages and print content based on role\n",
    "        for msg in messages.data:\n",
    "            role = msg.role\n",
    "            content = msg.content[0].text.value\n",
    "            print(f\"{role.capitalize()}: {content}\")\n",
    "\n",
    "        ## Cleanup\n",
    "        print(client.beta.threads.delete(thread.id))\n",
    "        print(client.beta.assistants.delete(stock_assistant.id))\n",
    "\n",
    "        break\n",
    "    elif run_status.status == 'requires_action':\n",
    "        print(\"Function Calling\")\n",
    "        required_actions = run_status.required_action.submit_tool_outputs.model_dump()\n",
    "        print(required_actions)\n",
    "        tool_outputs = []\n",
    "        import json\n",
    "        for action in required_actions[\"tool_calls\"]:\n",
    "            func_name = action['function']['name']\n",
    "            arguments = json.loads(action['function']['arguments'])\n",
    "            \n",
    "            if func_name == \"get_stock_price\":\n",
    "                output = get_stock_price(symbol=arguments['symbol'])\n",
    "                tool_outputs.append({\n",
    "                    \"tool_call_id\": action['id'],\n",
    "                    \"output\": output\n",
    "                })\n",
    "            elif func_name == \"send_email\":\n",
    "                print(\"Sending email...\")\n",
    "                email_to = arguments['to']\n",
    "                email_content = arguments['content']\n",
    "                send_post_request({'to': email_to,'content':email_content})\n",
    "                \n",
    "                tool_outputs.append({\n",
    "                    \"tool_call_id\": action['id'],\n",
    "                    \"output\": \"Email sent\"\n",
    "                })\n",
    "            else:\n",
    "                raise ValueError(f\"Unknown function: {func_name}\")\n",
    "            \n",
    "        print(\"Submitting outputs back to the Assistant...\")\n",
    "        client.beta.threads.runs.submit_tool_outputs(\n",
    "            thread_id=thread.id,\n",
    "            run_id=run.id,\n",
    "            tool_outputs=tool_outputs\n",
    "        )\n",
    "    else:\n",
    "        print(\"Waiting for the Assistant to process...\")\n",
    "        time.sleep(1)"
   ]
  }
 ],
 "metadata": {
  "kernelspec": {
   "display_name": "v31012",
   "language": "python",
   "name": "python3"
  },
  "language_info": {
   "codemirror_mode": {
    "name": "ipython",
    "version": 3
   },
   "file_extension": ".py",
   "mimetype": "text/x-python",
   "name": "python",
   "nbconvert_exporter": "python",
   "pygments_lexer": "ipython3",
   "version": "3.10.12"
  }
 },
 "nbformat": 4,
 "nbformat_minor": 2
}
