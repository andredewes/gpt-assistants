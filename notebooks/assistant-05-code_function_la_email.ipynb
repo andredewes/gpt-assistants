{
 "cells": [
  {
   "cell_type": "markdown",
   "metadata": {},
   "source": [
    "# Assistant-05<br/>Code Interpreter & Function calling\n",
    "\n",
    "## Trading Assistant that can calculate portfolio values and email a report\n",
    "\n",
    "## Notes\n",
    "\n",
    "- 01/14/2024: Uploading a CSV file failed\n",
    "\n",
    "## Credits\n",
    "\n",
    "- https://mer.vin/2023/11/openai-assistants-api-function-calling/\n",
    "\n",
    "## Email functionality\n",
    "\n",
    "- Implemented using Logic Apps with an Http POST trigger\n",
    "\n",
    "### Get an OpenAI client and an Assistant\n",
    "\n",
    "**Note:** When configuring the OpenAI client, the API version, the model version, and endpoint are \"new\"."
   ]
  },
  {
   "cell_type": "code",
   "execution_count": 1,
   "metadata": {},
   "outputs": [],
   "source": [
    "import common\n",
    "import time\n",
    "import requests\n",
    "import oaihelper as framework\n",
    "import yfinance as yf\n",
    "\n",
    "\n",
    "## Get an OpenAI client\n",
    "client = framework.get_openai_client()"
   ]
  },
  {
   "cell_type": "markdown",
   "metadata": {},
   "source": [
    "### Get the latest stock price by ticker symbol using Yahoo Finance"
   ]
  },
  {
   "cell_type": "code",
   "execution_count": 2,
   "metadata": {},
   "outputs": [],
   "source": [
    "def get_stock_price(symbol: str) -> float:\n",
    "    try:\n",
    "        stock = yf.Ticker(symbol)\n",
    "        price = stock.history(period=\"1d\")['Close'].iloc[-1]    \n",
    "        return price\n",
    "    except:\n",
    "        return 0"
   ]
  },
  {
   "cell_type": "markdown",
   "metadata": {},
   "source": [
    "### Use a Logic App HTTP POST trigger to email using Outlook"
   ]
  },
  {
   "cell_type": "code",
   "execution_count": 3,
   "metadata": {},
   "outputs": [],
   "source": [
    "def send_post_request(json_payload):\n",
    "    headers = {'Content-Type': 'application/json'}\n",
    "    response = requests.post(framework.email_URI, json=json_payload, headers=headers)\n",
    "    if response.status_code == 202:\n",
    "        print(\"Email sent to: \" + json_payload['to'])  "
   ]
  },
  {
   "cell_type": "markdown",
   "metadata": {},
   "source": [
    "### Prepare the tool for function calling"
   ]
  },
  {
   "cell_type": "code",
   "execution_count": 4,
   "metadata": {},
   "outputs": [],
   "source": [
    "tools_list = [\n",
    "{\"type\": \"code_interpreter\"},\n",
    "{\"type\": \"function\",\n",
    "    \"function\": {\n",
    "\n",
    "        \"name\": \"get_stock_price\",\n",
    "        \"description\": \"Retrieve the latest closing price of a stock using its ticker symbol\",\n",
    "        \"parameters\": {\n",
    "            \"type\": \"object\",\n",
    "            \"properties\": {\n",
    "                \"symbol\": {\n",
    "                    \"type\": \"string\",\n",
    "                    \"description\": \"The ticker symbol of the stock\"\n",
    "                }\n",
    "            },\n",
    "            \"required\": [\"symbol\"]\n",
    "        }\n",
    "    }\n",
    "},\n",
    "{\n",
    "    \"type\": \"function\",\n",
    "    \"function\": {\n",
    "\n",
    "        \"name\": \"send_email\",\n",
    "        \"description\": \"sends an email to a recipient(s).\",\n",
    "        \"parameters\": {\n",
    "            \"type\": \"object\",\n",
    "            \"properties\": {\n",
    "                \"to\": {\n",
    "                    \"type\": \"string\",\n",
    "                    \"description\": \"The email(s) the email should be sent to.\"\n",
    "                },\n",
    "                \"content\": {\n",
    "                    \"type\": \"string\",\n",
    "                    \"description\": \"The content of the email.\"\n",
    "                }\n",
    "            },\n",
    "            \"required\": [\"to\", \"content\"]\n",
    "        }\n",
    "    }\n",
    "}]"
   ]
  },
  {
   "cell_type": "code",
   "execution_count": 5,
   "metadata": {},
   "outputs": [],
   "source": [
    "csv_file = framework.upload_file(client,\"../data/fta-portfolio.csv\")"
   ]
  },
  {
   "cell_type": "markdown",
   "metadata": {},
   "source": [
    "### Create the assistant"
   ]
  },
  {
   "cell_type": "code",
   "execution_count": 6,
   "metadata": {},
   "outputs": [
    {
     "name": "stdout",
     "output_type": "stream",
     "text": [
      "Added assistant:  asst_jUGXQfgJqX3vIU0Czd4Yr27R 1\n"
     ]
    }
   ],
   "source": [
    "framework.clear_shelves()\n",
    "\n",
    "## Create an assistant\n",
    "stock_assistant = framework.create_assistant(client,\n",
    "                                                  name=\"fta-Securities Trading Assistant\",\n",
    "                                                  instructions=\"You are a personal securities trading assistant. Please be polite, professional, helpful, and friendly.\", \n",
    "                                                  tools=tools_list,                                                  \n",
    "                                                  model=common.gpt_deployment_name,\n",
    "                                                  file_ids=[csv_file.id])"
   ]
  },
  {
   "cell_type": "markdown",
   "metadata": {},
   "source": [
    "### Create a thread, put a message on the thread, and view the initial status"
   ]
  },
  {
   "cell_type": "code",
   "execution_count": 7,
   "metadata": {},
   "outputs": [],
   "source": [
    "# Step 2: Create a Thread\n",
    "thread = client.beta.threads.create()\n",
    "\n",
    "# Step 3: Add a Message to a Thread\n",
    "message = client.beta.threads.messages.create(\n",
    "    thread_id=thread.id,\n",
    "    role=\"user\",\n",
    "    content=\"Based on the provide portfolio and using latest stock prices, please email me an HTML formatted report at alemor@microsoft.com with the details for each stock, and the best and worst performing stocks in my portfolio.\"\n",
    ")\n",
    "\n",
    "# Step 4: Run the Assistant\n",
    "run = client.beta.threads.runs.create(\n",
    "    thread_id=thread.id,\n",
    "    assistant_id=stock_assistant.id,\n",
    "    instructions=\"Today's date and time is: \" + framework.get_localized_datetime() + \".\\n\\n\"\n",
    ")\n",
    "\n",
    "#print(run.model_dump_json(indent=4))"
   ]
  },
  {
   "cell_type": "markdown",
   "metadata": {},
   "source": [
    "### Process the message, function calling leveraging the latest stock prices, print the results and dispose of the objects"
   ]
  },
  {
   "cell_type": "code",
   "execution_count": 8,
   "metadata": {},
   "outputs": [
    {
     "name": "stdout",
     "output_type": "stream",
     "text": [
      "Waiting for the Assistant to process...\n",
      "Waiting for the Assistant to process...\n",
      "Waiting for the Assistant to process...\n",
      "Waiting for the Assistant to process...\n",
      "Waiting for the Assistant to process...\n",
      "Waiting for the Assistant to process...\n",
      "Assistant: Once again, I apologize for the inconvenience. Unfortunately, I am unable to access the file using this approach as well. Since these methods are not yielding the desired result, I would suggest downloading the file and opening it on your local machine to see if you can identify its format and contents. Once you have verified the file's format, I can continue with a more targeted method to parse and utilize the data.\n",
      "\n",
      "Please check the file locally and let me know the format and the structure of the data (such as the column names and the type of information contained within), or if possible, provide a sample of the data. With this information, I can proceed with creating the required stock performance report and sending the email.\n",
      "Assistant: It appears there is a persistent problem preventing the file from being read correctly. To bypass these issues and continue with your request, I will assume the file is either a text or a structured data file (like CSV or XLSX), which is common for portfolio data.\n",
      "\n",
      "Typically, a portfolio file might contain columns for the stock tickers, the number of shares, the purchase price, and perhaps the purchase date. Given this, the next step would be to attempt to parse the file with a method that can handle multiple potential formats.\n",
      "\n",
      "I'll proceed by attempting to parse the file as if it were a CSV, as this is one of the most common formats for such data. If this fails, I may need to try additional methods such as attempting to open it as an Excel file or examining it as a plain text document.\n",
      "\n",
      "Let's start with the assumption that it's a CSV and see if we can read it in that format.\n",
      "Assistant: I apologize for the repeated issues. It looks like we're experiencing technical errors. I'm going to attempt a different approach to diagnose the problem and read the file. I will read the file and display the first few characters to ascertain the file type and structure. Let's try this now.\n",
      "Assistant: It seems we are still encountering an issue when attempting to read the file. To diagnose the problem accurately, I will directly inspect the first few bytes of the file to determine its type and encoding. Let's proceed with this approach.\n",
      "Assistant: It seems there was an error while trying to read the file. Let's correct this and try to load the file again to inspect its content.\n",
      "Assistant: To create the report, I need to do the following:\n",
      "\n",
      "1. Load and parse the provided portfolio file to extract the ticker symbols and other necessary information about the stocks.\n",
      "2. Fetch the latest stock prices for each ticker symbol in the portfolio.\n",
      "3. Compare the latest stock prices with the entry prices from the portfolio to determine performance.\n",
      "4. Identify the best and worst-performing stocks based on the performance calculation.\n",
      "5. Compose a HTML formatted report with the details for each stock as well as highlight the best and worst-performing stocks.\n",
      "6. Email the report to the provided email address.\n",
      "\n",
      "First, I will perform step 1 and examine the contents of the provided portfolio file to understand its structure and to extract the relevant information for your stocks. Let's start by reviewing the contents of the file.\n",
      "User: Based on the provide portfolio and using latest stock prices, please email me an HTML formatted report at alemor@microsoft.com with the details for each stock, and the best and worst performing stocks in my portfolio.\n",
      "ThreadDeleted(id='thread_UewrKtOGqhW9MxKp37kyXXFK', deleted=True, object='thread.deleted')\n",
      "AssistantDeleted(id='asst_jUGXQfgJqX3vIU0Czd4Yr27R', deleted=True, object='assistant.deleted')\n",
      "FileDeleted(id='assistant-GmJ4Dt5nQbVWNv65rN8T0zq2', deleted=True, object='file')\n"
     ]
    }
   ],
   "source": [
    "while True:\n",
    "    # Wait for 1 seconds\n",
    "    time.sleep(5)\n",
    "\n",
    "    # Retrieve the run status\n",
    "    run_status = client.beta.threads.runs.retrieve(\n",
    "        thread_id=thread.id,\n",
    "        run_id=run.id\n",
    "    )\n",
    "    #print(run_status.model_dump_json(indent=4))\n",
    "\n",
    "    # If run is completed, get messages\n",
    "    if run_status.status == 'completed':\n",
    "        messages = client.beta.threads.messages.list(\n",
    "            thread_id=thread.id\n",
    "        )\n",
    "\n",
    "        # Loop through messages and print content based on role\n",
    "        for msg in messages.data:\n",
    "            role = msg.role\n",
    "            content = msg.content[0].text.value\n",
    "            print(f\"{role.capitalize()}: {content}\")\n",
    "\n",
    "        ## Cleanup\n",
    "        print(client.beta.threads.delete(thread.id))\n",
    "        print(client.beta.assistants.delete(stock_assistant.id))\n",
    "        print(client.files.delete(csv_file.id))\n",
    "\n",
    "        break\n",
    "    elif run_status.status == 'requires_action':\n",
    "        print(\"Function Calling\")\n",
    "        required_actions = run_status.required_action.submit_tool_outputs.model_dump()\n",
    "        print(required_actions)\n",
    "        tool_outputs = []\n",
    "        import json\n",
    "        for action in required_actions[\"tool_calls\"]:\n",
    "            func_name = action['function']['name']\n",
    "            arguments = json.loads(action['function']['arguments'])\n",
    "            \n",
    "            if func_name == \"get_stock_price\":\n",
    "                output = get_stock_price(symbol=arguments['symbol'])\n",
    "                tool_outputs.append({\n",
    "                    \"tool_call_id\": action['id'],\n",
    "                    \"output\": output\n",
    "                })\n",
    "            elif func_name == \"send_email\":\n",
    "                print(\"Sending email...\")\n",
    "                email_to = arguments['to']\n",
    "                email_content = arguments['content']\n",
    "                send_post_request({'to': email_to,'content':email_content})\n",
    "                \n",
    "                tool_outputs.append({\n",
    "                    \"tool_call_id\": action['id'],\n",
    "                    \"output\": \"Email sent\"\n",
    "                })\n",
    "            else:\n",
    "                raise ValueError(f\"Unknown function: {func_name}\")\n",
    "            \n",
    "        print(\"Submitting outputs back to the Assistant...\")\n",
    "        client.beta.threads.runs.submit_tool_outputs(\n",
    "            thread_id=thread.id,\n",
    "            run_id=run.id,\n",
    "            tool_outputs=tool_outputs\n",
    "        )\n",
    "    else:\n",
    "        print(\"Waiting for the Assistant to process...\")\n",
    "        time.sleep(5)"
   ]
  }
 ],
 "metadata": {
  "kernelspec": {
   "display_name": "v31012",
   "language": "python",
   "name": "python3"
  },
  "language_info": {
   "codemirror_mode": {
    "name": "ipython",
    "version": 3
   },
   "file_extension": ".py",
   "mimetype": "text/x-python",
   "name": "python",
   "nbconvert_exporter": "python",
   "pygments_lexer": "ipython3",
   "version": "3.10.12"
  }
 },
 "nbformat": 4,
 "nbformat_minor": 2
}
