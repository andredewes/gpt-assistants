{
 "cells": [
  {
   "cell_type": "markdown",
   "metadata": {},
   "source": [
    "# Assistant-01<br/>The OpenAI reference demo\n",
    "\n",
    "Reference:\n",
    "- https://platform.openai.com/docs/assistants/overview\n",
    "\n",
    "### Get an OpenAI client\n",
    "\n",
    "**Note:** When configuring the OpenAI client, the API version, the model version, and endpoint are \"new\"."
   ]
  },
  {
   "cell_type": "code",
   "execution_count": 1,
   "metadata": {},
   "outputs": [],
   "source": [
    "import common\n",
    "import time\n",
    "\n",
    "## Get an OpenAI client\n",
    "client = common.get_openai_client()"
   ]
  },
  {
   "cell_type": "markdown",
   "metadata": {},
   "source": [
    "### Create an assistant"
   ]
  },
  {
   "cell_type": "code",
   "execution_count": 2,
   "metadata": {},
   "outputs": [],
   "source": [
    "assistant = client.beta.assistants.create(\n",
    "    name=\"Math Tutor\",\n",
    "    instructions=\"You are a personal math tutor. Write and run code to answer math questions.\",\n",
    "    tools=[{\"type\": \"code_interpreter\"}],\n",
    "    model=\"gpt-4-turbo-test\"\n",
    ")\n",
    "assistant_id = assistant.id"
   ]
  },
  {
   "cell_type": "markdown",
   "metadata": {},
   "source": [
    "### Create an assistant thread"
   ]
  },
  {
   "cell_type": "code",
   "execution_count": 3,
   "metadata": {},
   "outputs": [
    {
     "data": {
      "text/plain": [
       "'thread_pKyOd8o2eJFRz4SfysqRJBbv'"
      ]
     },
     "execution_count": 3,
     "metadata": {},
     "output_type": "execute_result"
    }
   ],
   "source": [
    "thread = client.beta.threads.create()\n",
    "thread_id = thread.id\n",
    "thread_id"
   ]
  },
  {
   "cell_type": "markdown",
   "metadata": {},
   "source": [
    "### Create a user message in the assistant thread"
   ]
  },
  {
   "cell_type": "code",
   "execution_count": 4,
   "metadata": {},
   "outputs": [
    {
     "data": {
      "text/plain": [
       "ThreadMessage(id='msg_tFBStpr139kLwArJdb88EvCl', assistant_id=None, content=[MessageContentText(text=Text(annotations=[], value='I need to solve the equation `3x + 11 = 14`. Can you help me?'), type='text')], created_at=1705035659, file_ids=[], metadata={}, object='thread.message', role='user', run_id=None, thread_id='thread_pKyOd8o2eJFRz4SfysqRJBbv')"
      ]
     },
     "execution_count": 4,
     "metadata": {},
     "output_type": "execute_result"
    }
   ],
   "source": [
    "message = client.beta.threads.messages.create(\n",
    "    thread_id=thread.id,\n",
    "    role=\"user\",\n",
    "    content=\"I need to solve the equation `3x + 11 = 14`. Can you help me?\"\n",
    ")\n",
    "message"
   ]
  },
  {
   "cell_type": "markdown",
   "metadata": {},
   "source": [
    "## Run the assistant in the assistant thread"
   ]
  },
  {
   "cell_type": "code",
   "execution_count": 5,
   "metadata": {},
   "outputs": [],
   "source": [
    "run = client.beta.threads.runs.create(\n",
    "  thread_id=thread.id,\n",
    "  assistant_id=assistant.id,\n",
    "  instructions=\"Please address the user as Jane Doe. The user has a premium account.\"\n",
    ")"
   ]
  },
  {
   "cell_type": "markdown",
   "metadata": {},
   "source": [
    "### Wait until the run is completed"
   ]
  },
  {
   "cell_type": "code",
   "execution_count": 6,
   "metadata": {},
   "outputs": [],
   "source": [
    "while True:\n",
    "  run = client.beta.threads.runs.retrieve(\n",
    "    thread_id=thread.id,\n",
    "    run_id=run.id\n",
    "  )\n",
    "  if run.status == \"completed\":\n",
    "    break\n",
    "  # TODO: Is this best practice?\n",
    "  time.sleep(1)"
   ]
  },
  {
   "cell_type": "markdown",
   "metadata": {},
   "source": [
    "### Get the messages for the thread and print them"
   ]
  },
  {
   "cell_type": "code",
   "execution_count": 7,
   "metadata": {},
   "outputs": [
    {
     "name": "stdout",
     "output_type": "stream",
     "text": [
      "assistant To solve the equation \\(3x + 11 = 14\\), we can rearrange the terms to isolate \\(x\\):\n",
      "\n",
      "\\[\n",
      "3x = 14 - 11\n",
      "\\]\n",
      "\\[\n",
      "3x = 3\n",
      "\\]\n",
      "\\[\n",
      "x = \\frac{3}{3}\n",
      "\\]\n",
      "\\[\n",
      "x = 1\n",
      "\\]\n",
      "\n",
      "So, the solution to the equation is \\(x = 1\\). If you have any more questions or need further assistance, feel free to ask!\n",
      "user I need to solve the equation `3x + 11 = 14`. Can you help me?\n"
     ]
    }
   ],
   "source": [
    "messages = client.beta.threads.messages.list(\n",
    "  thread_id=thread.id\n",
    ")\n",
    "for msg in messages:\n",
    "  #print(msg)\n",
    "  content = msg.content\n",
    "  for line in content:\n",
    "    txt = line.text\n",
    "    # TODO: Is there a better way to do this? Should it be sorted by date?\n",
    "    print(msg.role,txt.value)\n",
    "  "
   ]
  },
  {
   "cell_type": "markdown",
   "metadata": {},
   "source": [
    "### List all running assistants in the model"
   ]
  },
  {
   "cell_type": "code",
   "execution_count": 8,
   "metadata": {},
   "outputs": [
    {
     "name": "stdout",
     "output_type": "stream",
     "text": [
      "Assistant(id='asst_nmVH9gWfbCACxxtM8H2U7zWI', created_at=1705035658, description=None, file_ids=[], instructions='You are a personal math tutor. Write and run code to answer math questions.', metadata={}, model='gpt-4-turbo-test', name='Math Tutor', object='assistant', tools=[ToolCodeInterpreter(type='code_interpreter')])\n",
      "Assistant(id='asst_dH8MRTuqwplfRBEDrnLJLjre', created_at=1705034667, description=None, file_ids=[], instructions='You are a personal math tutor. Write and run code to answer math questions.', metadata={}, model='gpt-4-turbo-test', name='Math Tutor', object='assistant', tools=[ToolCodeInterpreter(type='code_interpreter')])\n",
      "Assistant(id='asst_iZxyZmci2o3WqxE7oDSwALpF', created_at=1705034026, description=None, file_ids=[], instructions='You are a personal math tutor. Write and run code to answer math questions.', metadata={}, model='gpt-4-turbo-test', name='Math Tutor', object='assistant', tools=[ToolCodeInterpreter(type='code_interpreter')])\n",
      "Assistant(id='asst_9F6ZsUPuVUEszLTtWZmbMe2X', created_at=1705033848, description=None, file_ids=[], instructions='You are a personal math tutor. Write and run code to answer math questions.', metadata={}, model='gpt-4-turbo-test', name='Math Tutor', object='assistant', tools=[ToolCodeInterpreter(type='code_interpreter')])\n",
      "Assistant(id='asst_hYxH4avXjvyst98J89Yq4IQ3', created_at=1705033553, description=None, file_ids=[], instructions='You are a personal math tutor. Write and run code to answer math questions.', metadata={}, model='gpt-4-turbo-test', name='Math Tutor', object='assistant', tools=[ToolCodeInterpreter(type='code_interpreter')])\n",
      "Assistant(id='asst_vjEEATln0nSomn1VzE8y8P4a', created_at=1705033018, description=None, file_ids=[], instructions='You are a personal math tutor. Write and run code to answer math questions.', metadata={}, model='gpt-4-turbo-test', name='Math Tutor', object='assistant', tools=[ToolCodeInterpreter(type='code_interpreter')])\n",
      "Assistant(id='asst_PAWDmOO0941frce6sZQdTaE7', created_at=1705031991, description=None, file_ids=[], instructions='You are a personal math tutor. Write and run code to answer math questions.', metadata={}, model='gpt-4-turbo-test', name='Math Tutor', object='assistant', tools=[ToolCodeInterpreter(type='code_interpreter')])\n",
      "Assistant(id='asst_nBwmy53mhSnpwFyMuPWLpUk9', created_at=1705031920, description=None, file_ids=[], instructions='You are a personal math tutor. Write and run code to answer math questions.', metadata={}, model='gpt-4-turbo-test', name='Math Tutor', object='assistant', tools=[ToolCodeInterpreter(type='code_interpreter')])\n",
      "Assistant(id='asst_q2gHLaHDLyHcW3RGuMSDYSoA', created_at=1705031836, description=None, file_ids=[], instructions='You are a personal math tutor. Write and run code to answer math questions.', metadata={}, model='gpt-4-turbo-test', name='Math Tutor', object='assistant', tools=[ToolCodeInterpreter(type='code_interpreter')])\n",
      "Assistant(id='asst_74OhjhNSE4He2h4ygBvrG9g7', created_at=1705031814, description=None, file_ids=[], instructions='You are a personal math tutor. Write and run code to answer math questions.', metadata={}, model='gpt-4-turbo-test', name='Math Tutor', object='assistant', tools=[ToolCodeInterpreter(type='code_interpreter')])\n",
      "Assistant(id='asst_AzTWfTsf942ye1JukWO4wM5A', created_at=1705031800, description=None, file_ids=[], instructions='You are a personal math tutor. Write and run code to answer math questions.', metadata={}, model='gpt-4-turbo-test', name='Math Tutor', object='assistant', tools=[ToolCodeInterpreter(type='code_interpreter')])\n",
      "Assistant(id='asst_k8pN8hkEFoEp2NddikDhxiL7', created_at=1705031783, description=None, file_ids=[], instructions='You are a personal math tutor. Write and run code to answer math questions.', metadata={}, model='gpt-4-turbo-test', name='Math Tutor', object='assistant', tools=[ToolCodeInterpreter(type='code_interpreter')])\n",
      "Assistant(id='asst_1RupRdUTTEq0iHZeNAuDJbM0', created_at=1705030509, description=None, file_ids=[], instructions='You are a personal math tutor. Write and run code to answer math questions.', metadata={}, model='gpt-4-turbo-test', name='Math Tutor', object='assistant', tools=[ToolCodeInterpreter(type='code_interpreter')])\n",
      "Assistant(id='asst_VDcLryFAtpTTrJL3g0NDsAmc', created_at=1705030188, description=None, file_ids=[], instructions='You are a personal math tutor. Write and run code to answer math questions.', metadata={}, model='gpt-4-turbo-test', name='Math Tutor', object='assistant', tools=[ToolCodeInterpreter(type='code_interpreter')])\n",
      "Assistant(id='asst_mr57VfppzK7Ts4QENCbP09ws', created_at=1705030124, description=None, file_ids=[], instructions='You are a personal math tutor. Write and run code to answer math questions.', metadata={}, model='gpt-4-turbo-test', name='Math Tutor', object='assistant', tools=[ToolCodeInterpreter(type='code_interpreter')])\n",
      "Assistant(id='asst_mbV2iQ0EleycNSOpYRQFEfRa', created_at=1705030064, description=None, file_ids=[], instructions='You are an AI model that empowers every person and every organization on the planet to achieve more.', metadata={}, model='gpt-4-turbo-test', name=None, object='assistant', tools=[])\n",
      "Assistant(id='asst_Vug6WKjboOlCWyJiro3YTJho', created_at=1705029989, description=None, file_ids=[], instructions='You are an AI model that empowers every person and every organization on the planet to achieve more.', metadata={}, model='gpt-4-turbo-test', name=None, object='assistant', tools=[])\n",
      "Assistant(id='asst_9y3C0F7h0TgDxJlePLmNZKCj', created_at=1705029954, description=None, file_ids=[], instructions='You are an AI model that empowers every person and every organization on the planet to achieve more.', metadata={}, model='gpt-4-turbo-test', name=None, object='assistant', tools=[])\n",
      "Assistant(id='asst_J5wz2Dq3kt1hf55AT75g08Qm', created_at=1705029823, description=None, file_ids=[], instructions='You are an AI model that empowers every person and every organization on the planet to achieve more.', metadata={}, model='gpt-4-turbo-test', name=None, object='assistant', tools=[])\n",
      "Assistant(id='asst_XLekKlheqC2czp1zGS23i1on', created_at=1705029753, description=None, file_ids=[], instructions='You are an AI model that empowers every person and every organization on the planet to achieve more.', metadata={}, model='gpt-4-turbo-test', name=None, object='assistant', tools=[])\n"
     ]
    }
   ],
   "source": [
    "# List the registered assistants\n",
    "assistants = client.beta.assistants.list()\n",
    "for assistant in assistants.data:\n",
    "    print(assistant)\n",
    "\n",
    "# TODO: Do the assistans in the model and the threads, that have are not not disposed\n",
    "# have a time limit or does there have to be a cleanup?\n"
   ]
  },
  {
   "cell_type": "markdown",
   "metadata": {},
   "source": [
    "### Cleanup: clean the assistant and the thread thread"
   ]
  },
  {
   "cell_type": "code",
   "execution_count": 9,
   "metadata": {},
   "outputs": [
    {
     "data": {
      "text/plain": [
       "ThreadDeleted(id='thread_pKyOd8o2eJFRz4SfysqRJBbv', deleted=True, object='thread.deleted')"
      ]
     },
     "execution_count": 9,
     "metadata": {},
     "output_type": "execute_result"
    }
   ],
   "source": [
    "# TODO: Should the assisntant live for the life of the application?\n",
    "client.beta.assistants.delete(assistant_id=assistant_id)\n",
    "\n",
    "# TODO: Should the thread live for the life of the execution?\n",
    "client.beta.threads.delete(thread_id=thread_id)"
   ]
  }
 ],
 "metadata": {
  "kernelspec": {
   "display_name": "v31012",
   "language": "python",
   "name": "python3"
  },
  "language_info": {
   "codemirror_mode": {
    "name": "ipython",
    "version": 3
   },
   "file_extension": ".py",
   "mimetype": "text/x-python",
   "name": "python",
   "nbconvert_exporter": "python",
   "pygments_lexer": "ipython3",
   "version": "3.10.12"
  }
 },
 "nbformat": 4,
 "nbformat_minor": 2
}
